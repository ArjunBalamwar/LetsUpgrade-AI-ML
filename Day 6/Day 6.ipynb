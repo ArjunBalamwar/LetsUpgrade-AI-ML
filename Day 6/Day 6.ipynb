{
 "cells": [
  {
   "cell_type": "markdown",
   "metadata": {},
   "source": [
    "<h1>Qurstion1</h1>\n",
    "<p>Assuming that we have some email addresses in the \"username@companyname.com\" format, please write program\n",
    "to print the company name of a given email address. Both user names and company names are composed of letters\n",
    "only. <br><br>\n",
    "Input Format:<br>\n",
    "The first line of the input contains an email address.<br>\n",
    "Output Format:<br>\n",
    "Print the company name in single line.<br>\n",
    "Example;<br>\n",
    "Input:<br>\n",
    "john@google.com<br>\n",
    "Output:<br>\n",
    "google</p>"
   ]
  },
  {
   "cell_type": "code",
   "execution_count": 2,
   "metadata": {},
   "outputs": [
    {
     "name": "stdout",
     "output_type": "stream",
     "text": [
      "Enter email: john@google.com\n"
     ]
    }
   ],
   "source": [
    "email = input(\"Enter email: \")"
   ]
  },
  {
   "cell_type": "markdown",
   "metadata": {},
   "source": [
    "<h3>To reduce time complexity, I've used no methods</h3>"
   ]
  },
  {
   "cell_type": "code",
   "execution_count": 3,
   "metadata": {},
   "outputs": [
    {
     "name": "stdout",
     "output_type": "stream",
     "text": [
      "google"
     ]
    }
   ],
   "source": [
    "count = 1\n",
    "for char in email:\n",
    "    if char == '@':\n",
    "        break\n",
    "    count+=1\n",
    "for char in email[count:]:\n",
    "    if char == '.':\n",
    "        break\n",
    "    print(char, end = \"\")"
   ]
  },
  {
   "cell_type": "markdown",
   "metadata": {},
   "source": [
    "<h3>Or</h3>"
   ]
  },
  {
   "cell_type": "code",
   "execution_count": 4,
   "metadata": {},
   "outputs": [
    {
     "name": "stdout",
     "output_type": "stream",
     "text": [
      "Enter email:john@google.com\n"
     ]
    }
   ],
   "source": [
    "email = input(\"Enter email:\" ).split('@')"
   ]
  },
  {
   "cell_type": "code",
   "execution_count": 5,
   "metadata": {},
   "outputs": [
    {
     "name": "stdout",
     "output_type": "stream",
     "text": [
      "google\n"
     ]
    }
   ],
   "source": [
    "company = email[1].split('.')[0]\n",
    "print(company)"
   ]
  },
  {
   "cell_type": "markdown",
   "metadata": {},
   "source": [
    "<h1>Question 2</h1>\n",
    "<p>Write a program that accepts a comma-separated sequence of words as input and prints the words in a comma\n",
    "separated sequence after sorting them alphabetically.<br><br>\n",
    "Input Format:<br>\n",
    "The first line of input contains words separated by the comma.<br>\n",
    "Output Format:<br>\n",
    "Print the sorted words separated by the comma.<br>\n",
    "Example:<br>\n",
    "Input:<br>\n",
    "without,hello,bag,world<br>\n",
    "Output:<br>\n",
    "bag,hello,without,world</p>"
   ]
  },
  {
   "cell_type": "code",
   "execution_count": 1,
   "metadata": {},
   "outputs": [
    {
     "name": "stdout",
     "output_type": "stream",
     "text": [
      "Enter: AI,ML,LetsUpgrade,Challenge, Accepted\n"
     ]
    }
   ],
   "source": [
    "string= input(\"Enter: \").split(',')"
   ]
  },
  {
   "cell_type": "code",
   "execution_count": 2,
   "metadata": {},
   "outputs": [],
   "source": [
    "words = sorted(string)"
   ]
  },
  {
   "cell_type": "code",
   "execution_count": 5,
   "metadata": {},
   "outputs": [
    {
     "name": "stdout",
     "output_type": "stream",
     "text": [
      " Accepted,AI,Challenge,LetsUpgrade,ML\n"
     ]
    }
   ],
   "source": [
    "string = \"\"\n",
    "for word in words:\n",
    "    string += word + ','\n",
    "print(string[:-1])"
   ]
  },
  {
   "cell_type": "markdown",
   "metadata": {},
   "source": [
    "<h1>Question 3</h1>"
   ]
  },
  {
   "cell_type": "code",
   "execution_count": null,
   "metadata": {},
   "outputs": [],
   "source": []
  },
  {
   "cell_type": "markdown",
   "metadata": {},
   "source": [
    "<h1>Question 4</h1>\n",
    "<p>Given a list of n-1 numbers ranging from 1 to n, your task is to find the missing number. There are no duplicates.<br><br>\n",
    "Input Format:<br>\n",
    "The first line contains n-1 numbers with each number separated by a space.<br>\n",
    "Output Format:<br>\n",
    "Print the missing number<br>\n",
    "Example:<br>\n",
    "Input:1 2 4 6 3 7 8<br>\n",
    "Output:5<br>\n",
    "Explanation:<br>\n",
    "In the above list of numbers 5 is missing and hence 5 is the input</p>"
   ]
  },
  {
   "cell_type": "code",
   "execution_count": 14,
   "metadata": {},
   "outputs": [
    {
     "name": "stdout",
     "output_type": "stream",
     "text": [
      "Enter: 1 2 4 6 3 7 8 9 10 11 12 13 14 15\n"
     ]
    }
   ],
   "source": [
    "numbers = input(\"Enter: \").split()\n",
    "#numbers = [int(number) for number in numbers]"
   ]
  },
  {
   "cell_type": "code",
   "execution_count": 15,
   "metadata": {},
   "outputs": [
    {
     "name": "stdout",
     "output_type": "stream",
     "text": [
      "5\n"
     ]
    }
   ],
   "source": [
    "for number in range(1, len(numbers)+1):\n",
    "    if str(number) not in numbers:\n",
    "        print(number)\n",
    "        break"
   ]
  },
  {
   "cell_type": "markdown",
   "metadata": {},
   "source": [
    "<h1>Question 5</h1>\n",
    "<p>With a given list L, write a program to print this list L after removing all duplicate values with original order reserved.<br><br>\n",
    "Example:\n",
    "If the input list is<br>\n",
    "12 24 35 24 88 120 155 88 120 155<br>\n",
    "Then the output should be<br>\n",
    "12 24 35 88 120 155<br><br>\n",
    "Explanation:<br>\n",
    "Third, seventh and ninth element of the list L has been removed because it was already present.<br>\n",
    "Input Format:<br>\n",
    "In one line take the elements of the list L with each element separated by a space.<br>\n",
    "Output Format:<br>\n",
    "Print the elements of the modified list in one line with each element separated by a space.<br>\n",
    "Example:<br>\n",
    "Input: 12 24 35 24<br>\n",
    "Output:<br>\n",
    "12 24 35</p>"
   ]
  },
  {
   "cell_type": "code",
   "execution_count": 17,
   "metadata": {},
   "outputs": [
    {
     "name": "stdout",
     "output_type": "stream",
     "text": [
      "Enter: 12 24 35 24\n"
     ]
    }
   ],
   "source": [
    "L = input(\"Enter: \").split(' ')"
   ]
  },
  {
   "cell_type": "code",
   "execution_count": 18,
   "metadata": {},
   "outputs": [
    {
     "name": "stdout",
     "output_type": "stream",
     "text": [
      "12 24 35 "
     ]
    }
   ],
   "source": [
    "answer = []\n",
    "for number in L:\n",
    "    if number not in answer:\n",
    "        answer.append(number)\n",
    "        print(number, end=' ')"
   ]
  },
  {
   "cell_type": "code",
   "execution_count": null,
   "metadata": {},
   "outputs": [],
   "source": []
  }
 ],
 "metadata": {
  "kernelspec": {
   "display_name": "Python 3",
   "language": "python",
   "name": "python3"
  },
  "language_info": {
   "codemirror_mode": {
    "name": "ipython",
    "version": 3
   },
   "file_extension": ".py",
   "mimetype": "text/x-python",
   "name": "python",
   "nbconvert_exporter": "python",
   "pygments_lexer": "ipython3",
   "version": "3.7.6"
  }
 },
 "nbformat": 4,
 "nbformat_minor": 4
}
