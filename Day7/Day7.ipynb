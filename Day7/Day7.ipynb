{
 "cells": [
  {
   "cell_type": "markdown",
   "metadata": {},
   "source": [
    "<h2>Project:</h2>\n",
    "<ul style=\"margin-top: 10px;font-size: 19px;color:#333; padding:0\">\n",
    "    A Company named XYZ has a problem of attrition .The rate of attrition has been quite high so\n",
    "being the head analyst of the company the repost on all the employees has been provided to\n",
    "you and you need to find out the reason of attrition so the company can reduce the attrition.\n",
    "This is a projet that needs to be worked upon everyday as we go forward with the class and in\n",
    "the end after all the test have been taught you can give a detailed report as to why there has\n",
    "been a high rate of attrition in the company .\n",
    "\n",
    "</ul>"
   ]
  },
  {
   "cell_type": "code",
   "execution_count": 1,
   "metadata": {},
   "outputs": [],
   "source": [
    "import pandas as pd \n",
    "import numpy as np\n",
    "import matplotlib.pyplot as plt\n",
    "from scipy.stats import pearsonr, mannwhitneyu, chi2_contingency, ttest_ind\n",
    "import seaborn as sns"
   ]
  },
  {
   "cell_type": "code",
   "execution_count": 2,
   "metadata": {},
   "outputs": [],
   "source": [
    "na_vals = [\"NA\", \"Na\", \"NaN\", \"Missing\"]\n",
    "df = pd.read_csv(\"general_data.csv\", na_values = na_vals, index_col = \"EmployeeID\")\n",
    "df.drop_duplicates(inplace=True)\n",
    "df.dropna(how=\"any\", inplace=True)\n",
    "#df.drop(columns = [\"Over18\", \"EmployeeCount\", \"StandardHours\"], inplace=True)"
   ]
  },
  {
   "cell_type": "code",
   "execution_count": 3,
   "metadata": {},
   "outputs": [
    {
     "data": {
      "text/html": [
       "<div>\n",
       "<style scoped>\n",
       "    .dataframe tbody tr th:only-of-type {\n",
       "        vertical-align: middle;\n",
       "    }\n",
       "\n",
       "    .dataframe tbody tr th {\n",
       "        vertical-align: top;\n",
       "    }\n",
       "\n",
       "    .dataframe thead th {\n",
       "        text-align: right;\n",
       "    }\n",
       "</style>\n",
       "<table border=\"1\" class=\"dataframe\">\n",
       "  <thead>\n",
       "    <tr style=\"text-align: right;\">\n",
       "      <th></th>\n",
       "      <th>Age</th>\n",
       "      <th>Attrition</th>\n",
       "      <th>BusinessTravel</th>\n",
       "      <th>Department</th>\n",
       "      <th>DistanceFromHome</th>\n",
       "      <th>Education</th>\n",
       "      <th>EducationField</th>\n",
       "      <th>EmployeeCount</th>\n",
       "      <th>Gender</th>\n",
       "      <th>JobLevel</th>\n",
       "      <th>...</th>\n",
       "      <th>NumCompaniesWorked</th>\n",
       "      <th>Over18</th>\n",
       "      <th>PercentSalaryHike</th>\n",
       "      <th>StandardHours</th>\n",
       "      <th>StockOptionLevel</th>\n",
       "      <th>TotalWorkingYears</th>\n",
       "      <th>TrainingTimesLastYear</th>\n",
       "      <th>YearsAtCompany</th>\n",
       "      <th>YearsSinceLastPromotion</th>\n",
       "      <th>YearsWithCurrManager</th>\n",
       "    </tr>\n",
       "    <tr>\n",
       "      <th>EmployeeID</th>\n",
       "      <th></th>\n",
       "      <th></th>\n",
       "      <th></th>\n",
       "      <th></th>\n",
       "      <th></th>\n",
       "      <th></th>\n",
       "      <th></th>\n",
       "      <th></th>\n",
       "      <th></th>\n",
       "      <th></th>\n",
       "      <th></th>\n",
       "      <th></th>\n",
       "      <th></th>\n",
       "      <th></th>\n",
       "      <th></th>\n",
       "      <th></th>\n",
       "      <th></th>\n",
       "      <th></th>\n",
       "      <th></th>\n",
       "      <th></th>\n",
       "      <th></th>\n",
       "    </tr>\n",
       "  </thead>\n",
       "  <tbody>\n",
       "    <tr>\n",
       "      <th>1</th>\n",
       "      <td>51</td>\n",
       "      <td>No</td>\n",
       "      <td>Travel_Rarely</td>\n",
       "      <td>Sales</td>\n",
       "      <td>6</td>\n",
       "      <td>2</td>\n",
       "      <td>Life Sciences</td>\n",
       "      <td>1</td>\n",
       "      <td>Female</td>\n",
       "      <td>1</td>\n",
       "      <td>...</td>\n",
       "      <td>1.0</td>\n",
       "      <td>Y</td>\n",
       "      <td>11</td>\n",
       "      <td>8</td>\n",
       "      <td>0</td>\n",
       "      <td>1.0</td>\n",
       "      <td>6</td>\n",
       "      <td>1</td>\n",
       "      <td>0</td>\n",
       "      <td>0</td>\n",
       "    </tr>\n",
       "    <tr>\n",
       "      <th>2</th>\n",
       "      <td>31</td>\n",
       "      <td>Yes</td>\n",
       "      <td>Travel_Frequently</td>\n",
       "      <td>Research &amp; Development</td>\n",
       "      <td>10</td>\n",
       "      <td>1</td>\n",
       "      <td>Life Sciences</td>\n",
       "      <td>1</td>\n",
       "      <td>Female</td>\n",
       "      <td>1</td>\n",
       "      <td>...</td>\n",
       "      <td>0.0</td>\n",
       "      <td>Y</td>\n",
       "      <td>23</td>\n",
       "      <td>8</td>\n",
       "      <td>1</td>\n",
       "      <td>6.0</td>\n",
       "      <td>3</td>\n",
       "      <td>5</td>\n",
       "      <td>1</td>\n",
       "      <td>4</td>\n",
       "    </tr>\n",
       "    <tr>\n",
       "      <th>3</th>\n",
       "      <td>32</td>\n",
       "      <td>No</td>\n",
       "      <td>Travel_Frequently</td>\n",
       "      <td>Research &amp; Development</td>\n",
       "      <td>17</td>\n",
       "      <td>4</td>\n",
       "      <td>Other</td>\n",
       "      <td>1</td>\n",
       "      <td>Male</td>\n",
       "      <td>4</td>\n",
       "      <td>...</td>\n",
       "      <td>1.0</td>\n",
       "      <td>Y</td>\n",
       "      <td>15</td>\n",
       "      <td>8</td>\n",
       "      <td>3</td>\n",
       "      <td>5.0</td>\n",
       "      <td>2</td>\n",
       "      <td>5</td>\n",
       "      <td>0</td>\n",
       "      <td>3</td>\n",
       "    </tr>\n",
       "    <tr>\n",
       "      <th>4</th>\n",
       "      <td>38</td>\n",
       "      <td>No</td>\n",
       "      <td>Non-Travel</td>\n",
       "      <td>Research &amp; Development</td>\n",
       "      <td>2</td>\n",
       "      <td>5</td>\n",
       "      <td>Life Sciences</td>\n",
       "      <td>1</td>\n",
       "      <td>Male</td>\n",
       "      <td>3</td>\n",
       "      <td>...</td>\n",
       "      <td>3.0</td>\n",
       "      <td>Y</td>\n",
       "      <td>11</td>\n",
       "      <td>8</td>\n",
       "      <td>3</td>\n",
       "      <td>13.0</td>\n",
       "      <td>5</td>\n",
       "      <td>8</td>\n",
       "      <td>7</td>\n",
       "      <td>5</td>\n",
       "    </tr>\n",
       "    <tr>\n",
       "      <th>5</th>\n",
       "      <td>32</td>\n",
       "      <td>No</td>\n",
       "      <td>Travel_Rarely</td>\n",
       "      <td>Research &amp; Development</td>\n",
       "      <td>10</td>\n",
       "      <td>1</td>\n",
       "      <td>Medical</td>\n",
       "      <td>1</td>\n",
       "      <td>Male</td>\n",
       "      <td>1</td>\n",
       "      <td>...</td>\n",
       "      <td>4.0</td>\n",
       "      <td>Y</td>\n",
       "      <td>12</td>\n",
       "      <td>8</td>\n",
       "      <td>2</td>\n",
       "      <td>9.0</td>\n",
       "      <td>2</td>\n",
       "      <td>6</td>\n",
       "      <td>0</td>\n",
       "      <td>4</td>\n",
       "    </tr>\n",
       "    <tr>\n",
       "      <th>6</th>\n",
       "      <td>46</td>\n",
       "      <td>No</td>\n",
       "      <td>Travel_Rarely</td>\n",
       "      <td>Research &amp; Development</td>\n",
       "      <td>8</td>\n",
       "      <td>3</td>\n",
       "      <td>Life Sciences</td>\n",
       "      <td>1</td>\n",
       "      <td>Female</td>\n",
       "      <td>4</td>\n",
       "      <td>...</td>\n",
       "      <td>3.0</td>\n",
       "      <td>Y</td>\n",
       "      <td>13</td>\n",
       "      <td>8</td>\n",
       "      <td>0</td>\n",
       "      <td>28.0</td>\n",
       "      <td>5</td>\n",
       "      <td>7</td>\n",
       "      <td>7</td>\n",
       "      <td>7</td>\n",
       "    </tr>\n",
       "    <tr>\n",
       "      <th>7</th>\n",
       "      <td>28</td>\n",
       "      <td>Yes</td>\n",
       "      <td>Travel_Rarely</td>\n",
       "      <td>Research &amp; Development</td>\n",
       "      <td>11</td>\n",
       "      <td>2</td>\n",
       "      <td>Medical</td>\n",
       "      <td>1</td>\n",
       "      <td>Male</td>\n",
       "      <td>2</td>\n",
       "      <td>...</td>\n",
       "      <td>2.0</td>\n",
       "      <td>Y</td>\n",
       "      <td>20</td>\n",
       "      <td>8</td>\n",
       "      <td>1</td>\n",
       "      <td>5.0</td>\n",
       "      <td>2</td>\n",
       "      <td>0</td>\n",
       "      <td>0</td>\n",
       "      <td>0</td>\n",
       "    </tr>\n",
       "    <tr>\n",
       "      <th>8</th>\n",
       "      <td>29</td>\n",
       "      <td>No</td>\n",
       "      <td>Travel_Rarely</td>\n",
       "      <td>Research &amp; Development</td>\n",
       "      <td>18</td>\n",
       "      <td>3</td>\n",
       "      <td>Life Sciences</td>\n",
       "      <td>1</td>\n",
       "      <td>Male</td>\n",
       "      <td>2</td>\n",
       "      <td>...</td>\n",
       "      <td>2.0</td>\n",
       "      <td>Y</td>\n",
       "      <td>22</td>\n",
       "      <td>8</td>\n",
       "      <td>3</td>\n",
       "      <td>10.0</td>\n",
       "      <td>2</td>\n",
       "      <td>0</td>\n",
       "      <td>0</td>\n",
       "      <td>0</td>\n",
       "    </tr>\n",
       "    <tr>\n",
       "      <th>9</th>\n",
       "      <td>31</td>\n",
       "      <td>No</td>\n",
       "      <td>Travel_Rarely</td>\n",
       "      <td>Research &amp; Development</td>\n",
       "      <td>1</td>\n",
       "      <td>3</td>\n",
       "      <td>Life Sciences</td>\n",
       "      <td>1</td>\n",
       "      <td>Male</td>\n",
       "      <td>3</td>\n",
       "      <td>...</td>\n",
       "      <td>0.0</td>\n",
       "      <td>Y</td>\n",
       "      <td>21</td>\n",
       "      <td>8</td>\n",
       "      <td>0</td>\n",
       "      <td>10.0</td>\n",
       "      <td>2</td>\n",
       "      <td>9</td>\n",
       "      <td>7</td>\n",
       "      <td>8</td>\n",
       "    </tr>\n",
       "    <tr>\n",
       "      <th>10</th>\n",
       "      <td>25</td>\n",
       "      <td>No</td>\n",
       "      <td>Non-Travel</td>\n",
       "      <td>Research &amp; Development</td>\n",
       "      <td>7</td>\n",
       "      <td>4</td>\n",
       "      <td>Medical</td>\n",
       "      <td>1</td>\n",
       "      <td>Female</td>\n",
       "      <td>4</td>\n",
       "      <td>...</td>\n",
       "      <td>1.0</td>\n",
       "      <td>Y</td>\n",
       "      <td>13</td>\n",
       "      <td>8</td>\n",
       "      <td>1</td>\n",
       "      <td>6.0</td>\n",
       "      <td>2</td>\n",
       "      <td>6</td>\n",
       "      <td>1</td>\n",
       "      <td>5</td>\n",
       "    </tr>\n",
       "    <tr>\n",
       "      <th>11</th>\n",
       "      <td>45</td>\n",
       "      <td>No</td>\n",
       "      <td>Travel_Rarely</td>\n",
       "      <td>Research &amp; Development</td>\n",
       "      <td>17</td>\n",
       "      <td>2</td>\n",
       "      <td>Medical</td>\n",
       "      <td>1</td>\n",
       "      <td>Male</td>\n",
       "      <td>2</td>\n",
       "      <td>...</td>\n",
       "      <td>0.0</td>\n",
       "      <td>Y</td>\n",
       "      <td>13</td>\n",
       "      <td>8</td>\n",
       "      <td>2</td>\n",
       "      <td>21.0</td>\n",
       "      <td>2</td>\n",
       "      <td>20</td>\n",
       "      <td>4</td>\n",
       "      <td>10</td>\n",
       "    </tr>\n",
       "    <tr>\n",
       "      <th>12</th>\n",
       "      <td>36</td>\n",
       "      <td>No</td>\n",
       "      <td>Travel_Rarely</td>\n",
       "      <td>Research &amp; Development</td>\n",
       "      <td>28</td>\n",
       "      <td>1</td>\n",
       "      <td>Life Sciences</td>\n",
       "      <td>1</td>\n",
       "      <td>Male</td>\n",
       "      <td>1</td>\n",
       "      <td>...</td>\n",
       "      <td>0.0</td>\n",
       "      <td>Y</td>\n",
       "      <td>12</td>\n",
       "      <td>8</td>\n",
       "      <td>2</td>\n",
       "      <td>16.0</td>\n",
       "      <td>2</td>\n",
       "      <td>15</td>\n",
       "      <td>10</td>\n",
       "      <td>11</td>\n",
       "    </tr>\n",
       "    <tr>\n",
       "      <th>13</th>\n",
       "      <td>55</td>\n",
       "      <td>No</td>\n",
       "      <td>Travel_Rarely</td>\n",
       "      <td>Research &amp; Development</td>\n",
       "      <td>14</td>\n",
       "      <td>4</td>\n",
       "      <td>Life Sciences</td>\n",
       "      <td>1</td>\n",
       "      <td>Female</td>\n",
       "      <td>1</td>\n",
       "      <td>...</td>\n",
       "      <td>0.0</td>\n",
       "      <td>Y</td>\n",
       "      <td>17</td>\n",
       "      <td>8</td>\n",
       "      <td>0</td>\n",
       "      <td>37.0</td>\n",
       "      <td>2</td>\n",
       "      <td>36</td>\n",
       "      <td>4</td>\n",
       "      <td>13</td>\n",
       "    </tr>\n",
       "    <tr>\n",
       "      <th>14</th>\n",
       "      <td>47</td>\n",
       "      <td>Yes</td>\n",
       "      <td>Non-Travel</td>\n",
       "      <td>Research &amp; Development</td>\n",
       "      <td>1</td>\n",
       "      <td>1</td>\n",
       "      <td>Medical</td>\n",
       "      <td>1</td>\n",
       "      <td>Male</td>\n",
       "      <td>1</td>\n",
       "      <td>...</td>\n",
       "      <td>1.0</td>\n",
       "      <td>Y</td>\n",
       "      <td>11</td>\n",
       "      <td>8</td>\n",
       "      <td>2</td>\n",
       "      <td>10.0</td>\n",
       "      <td>4</td>\n",
       "      <td>10</td>\n",
       "      <td>9</td>\n",
       "      <td>9</td>\n",
       "    </tr>\n",
       "    <tr>\n",
       "      <th>15</th>\n",
       "      <td>28</td>\n",
       "      <td>No</td>\n",
       "      <td>Travel_Rarely</td>\n",
       "      <td>Research &amp; Development</td>\n",
       "      <td>1</td>\n",
       "      <td>3</td>\n",
       "      <td>Life Sciences</td>\n",
       "      <td>1</td>\n",
       "      <td>Male</td>\n",
       "      <td>1</td>\n",
       "      <td>...</td>\n",
       "      <td>1.0</td>\n",
       "      <td>Y</td>\n",
       "      <td>14</td>\n",
       "      <td>8</td>\n",
       "      <td>0</td>\n",
       "      <td>5.0</td>\n",
       "      <td>2</td>\n",
       "      <td>5</td>\n",
       "      <td>0</td>\n",
       "      <td>4</td>\n",
       "    </tr>\n",
       "  </tbody>\n",
       "</table>\n",
       "<p>15 rows × 23 columns</p>\n",
       "</div>"
      ],
      "text/plain": [
       "            Age Attrition     BusinessTravel              Department  \\\n",
       "EmployeeID                                                             \n",
       "1            51        No      Travel_Rarely                   Sales   \n",
       "2            31       Yes  Travel_Frequently  Research & Development   \n",
       "3            32        No  Travel_Frequently  Research & Development   \n",
       "4            38        No         Non-Travel  Research & Development   \n",
       "5            32        No      Travel_Rarely  Research & Development   \n",
       "6            46        No      Travel_Rarely  Research & Development   \n",
       "7            28       Yes      Travel_Rarely  Research & Development   \n",
       "8            29        No      Travel_Rarely  Research & Development   \n",
       "9            31        No      Travel_Rarely  Research & Development   \n",
       "10           25        No         Non-Travel  Research & Development   \n",
       "11           45        No      Travel_Rarely  Research & Development   \n",
       "12           36        No      Travel_Rarely  Research & Development   \n",
       "13           55        No      Travel_Rarely  Research & Development   \n",
       "14           47       Yes         Non-Travel  Research & Development   \n",
       "15           28        No      Travel_Rarely  Research & Development   \n",
       "\n",
       "            DistanceFromHome  Education EducationField  EmployeeCount  Gender  \\\n",
       "EmployeeID                                                                      \n",
       "1                          6          2  Life Sciences              1  Female   \n",
       "2                         10          1  Life Sciences              1  Female   \n",
       "3                         17          4          Other              1    Male   \n",
       "4                          2          5  Life Sciences              1    Male   \n",
       "5                         10          1        Medical              1    Male   \n",
       "6                          8          3  Life Sciences              1  Female   \n",
       "7                         11          2        Medical              1    Male   \n",
       "8                         18          3  Life Sciences              1    Male   \n",
       "9                          1          3  Life Sciences              1    Male   \n",
       "10                         7          4        Medical              1  Female   \n",
       "11                        17          2        Medical              1    Male   \n",
       "12                        28          1  Life Sciences              1    Male   \n",
       "13                        14          4  Life Sciences              1  Female   \n",
       "14                         1          1        Medical              1    Male   \n",
       "15                         1          3  Life Sciences              1    Male   \n",
       "\n",
       "            JobLevel  ... NumCompaniesWorked Over18  PercentSalaryHike  \\\n",
       "EmployeeID            ...                                                \n",
       "1                  1  ...                1.0      Y                 11   \n",
       "2                  1  ...                0.0      Y                 23   \n",
       "3                  4  ...                1.0      Y                 15   \n",
       "4                  3  ...                3.0      Y                 11   \n",
       "5                  1  ...                4.0      Y                 12   \n",
       "6                  4  ...                3.0      Y                 13   \n",
       "7                  2  ...                2.0      Y                 20   \n",
       "8                  2  ...                2.0      Y                 22   \n",
       "9                  3  ...                0.0      Y                 21   \n",
       "10                 4  ...                1.0      Y                 13   \n",
       "11                 2  ...                0.0      Y                 13   \n",
       "12                 1  ...                0.0      Y                 12   \n",
       "13                 1  ...                0.0      Y                 17   \n",
       "14                 1  ...                1.0      Y                 11   \n",
       "15                 1  ...                1.0      Y                 14   \n",
       "\n",
       "            StandardHours StockOptionLevel  TotalWorkingYears  \\\n",
       "EmployeeID                                                      \n",
       "1                       8                0                1.0   \n",
       "2                       8                1                6.0   \n",
       "3                       8                3                5.0   \n",
       "4                       8                3               13.0   \n",
       "5                       8                2                9.0   \n",
       "6                       8                0               28.0   \n",
       "7                       8                1                5.0   \n",
       "8                       8                3               10.0   \n",
       "9                       8                0               10.0   \n",
       "10                      8                1                6.0   \n",
       "11                      8                2               21.0   \n",
       "12                      8                2               16.0   \n",
       "13                      8                0               37.0   \n",
       "14                      8                2               10.0   \n",
       "15                      8                0                5.0   \n",
       "\n",
       "            TrainingTimesLastYear  YearsAtCompany  YearsSinceLastPromotion  \\\n",
       "EmployeeID                                                                   \n",
       "1                               6               1                        0   \n",
       "2                               3               5                        1   \n",
       "3                               2               5                        0   \n",
       "4                               5               8                        7   \n",
       "5                               2               6                        0   \n",
       "6                               5               7                        7   \n",
       "7                               2               0                        0   \n",
       "8                               2               0                        0   \n",
       "9                               2               9                        7   \n",
       "10                              2               6                        1   \n",
       "11                              2              20                        4   \n",
       "12                              2              15                       10   \n",
       "13                              2              36                        4   \n",
       "14                              4              10                        9   \n",
       "15                              2               5                        0   \n",
       "\n",
       "            YearsWithCurrManager  \n",
       "EmployeeID                        \n",
       "1                              0  \n",
       "2                              4  \n",
       "3                              3  \n",
       "4                              5  \n",
       "5                              4  \n",
       "6                              7  \n",
       "7                              0  \n",
       "8                              0  \n",
       "9                              8  \n",
       "10                             5  \n",
       "11                            10  \n",
       "12                            11  \n",
       "13                            13  \n",
       "14                             9  \n",
       "15                             4  \n",
       "\n",
       "[15 rows x 23 columns]"
      ]
     },
     "execution_count": 3,
     "metadata": {},
     "output_type": "execute_result"
    }
   ],
   "source": [
    "df.head(15)"
   ]
  },
  {
   "cell_type": "code",
   "execution_count": 4,
   "metadata": {},
   "outputs": [],
   "source": [
    "df_left = df[df[\"Attrition\"] == \"Yes\"]\n",
    "df_stay = df[df[\"Attrition\"] == \"No\"]\n",
    "df_stay.reset_index(drop=True, inplace=True)\n",
    "df_left.reset_index(drop=True, inplace=True)\n",
    "\n",
    "label_mapping = {\"Yes\": 1, \"No\": 0}\n",
    "df_attrition = df.Attrition.map(label_mapping)"
   ]
  },
  {
   "cell_type": "code",
   "execution_count": 5,
   "metadata": {},
   "outputs": [],
   "source": [
    "def distribution_check(column):\n",
    "    description = {\n",
    "        \"Mean\": [df_left[column].mean(), df_left[column].mean()],\n",
    "        \"Median\": [df_left[column].median(), df_stay[column].median()],\n",
    "        \"Mode\": [df_left[column].mode()[0], df_stay[column].mode()[0]],\n",
    "        \"Skew\": [df_left[column].skew(), df_stay[column].skew()],\n",
    "        \"Kurt\": [df_left[column].kurt(), df_stay[column].kurt()]\n",
    "    }\n",
    "    df_new = pd.DataFrame(description)\n",
    "    df_new.rename(index={0:\"Attrited_\"+column, 1:\"Stayed_\"+column}, inplace = True)\n",
    "    plt.hist([df_left[column],df_stay[column]], label=[\"Attrited_\"+column, \"Stayed_\"+column])\n",
    "    plt.legend(loc='upper right')\n",
    "    return df_new"
   ]
  },
  {
   "cell_type": "code",
   "execution_count": 6,
   "metadata": {},
   "outputs": [],
   "source": [
    "def hypo_chooser(p):\n",
    "    print(f\"p = {p}\\nHence \",end = \"\")\n",
    "    if p >= 0.05:\n",
    "        print(\"Ho is considered since p >= 0.05\")\n",
    "    else:\n",
    "        print(\"H1 is considered since p < 0.05\")"
   ]
  },
  {
   "cell_type": "code",
   "execution_count": 7,
   "metadata": {},
   "outputs": [],
   "source": [
    "def corr_detector(column):\n",
    "    r, p = pearsonr(df_attrition, df[column])\n",
    "    if p < 0.05:\n",
    "        print(f\"There is interdepency between Attrition and {column}\\nH1 is considered\")\n",
    "        if not np.isnan(r):\n",
    "            if abs(r)>0.5:\n",
    "                print(\"A strong \", end=\"\")\n",
    "            else:\n",
    "                print(\"A weak \", end=\"\")\n",
    "            if r > 0:\n",
    "                print(\"positive correlation is found \",end=\"\")\n",
    "                string = \"increases\"\n",
    "            else:\n",
    "                print(\"negative correlation is found \",end=\"\")\n",
    "                string = \"decreases\"\n",
    "\n",
    "            print(\"with r =\", round(r,3))\n",
    "            print(f\"Hence as {column} increases, Attrition {string}\")\n",
    "\n",
    "        else:\n",
    "            print(\"No correlation is found\")\n",
    "    else:\n",
    "        print(f\"There is no interdepency between Attrition and {column}\")"
   ]
  },
  {
   "cell_type": "code",
   "execution_count": 8,
   "metadata": {},
   "outputs": [],
   "source": [
    "def chi2_result(chitable):\n",
    "    chitable['No_pct'] = chitable[\"No\"] /(chitable[\"No\"] + chitable[\"Yes\"]) *100\n",
    "    chitable['Yes_pct'] = chitable[\"Yes\"] /(chitable[\"No\"] + chitable[\"Yes\"]) *100\n",
    "    \n",
    "    chitable.drop(columns=[\"No\", \"Yes\"], inplace=True)\n",
    "    ax = chitable.plot(kind=\"bar\", stacked=\"True\")\n",
    "    ax.set_xticklabels(ax.get_xticklabels(), rotation=40, ha=\"right\")\n",
    "    plt.legend(loc='lower left')\n",
    "    \n",
    "    return chitable"
   ]
  },
  {
   "cell_type": "markdown",
   "metadata": {},
   "source": [
    "<h2>Age vs Attrition:</h2>\n",
    "<p style = \"font-size: 19px; margin-bottom: 7px\">Ho:There is no significant difference in the age of the employees who left and who didn't leave<br>\n",
    "H1:There is a significant difference in the age of the employees who left and who didn't leave<br></p>\n",
    "<p style=\"margin-top: 10px;font-size: 17px;color:#333\">First we shall be checking both the variables are parametric or not</p>"
   ]
  },
  {
   "cell_type": "code",
   "execution_count": 9,
   "metadata": {},
   "outputs": [
    {
     "data": {
      "text/html": [
       "<div>\n",
       "<style scoped>\n",
       "    .dataframe tbody tr th:only-of-type {\n",
       "        vertical-align: middle;\n",
       "    }\n",
       "\n",
       "    .dataframe tbody tr th {\n",
       "        vertical-align: top;\n",
       "    }\n",
       "\n",
       "    .dataframe thead th {\n",
       "        text-align: right;\n",
       "    }\n",
       "</style>\n",
       "<table border=\"1\" class=\"dataframe\">\n",
       "  <thead>\n",
       "    <tr style=\"text-align: right;\">\n",
       "      <th></th>\n",
       "      <th>Mean</th>\n",
       "      <th>Median</th>\n",
       "      <th>Mode</th>\n",
       "      <th>Skew</th>\n",
       "      <th>Kurt</th>\n",
       "    </tr>\n",
       "  </thead>\n",
       "  <tbody>\n",
       "    <tr>\n",
       "      <th>Attrited_Age</th>\n",
       "      <td>33.607595</td>\n",
       "      <td>32.0</td>\n",
       "      <td>29</td>\n",
       "      <td>0.715732</td>\n",
       "      <td>-0.057044</td>\n",
       "    </tr>\n",
       "    <tr>\n",
       "      <th>Stayed_Age</th>\n",
       "      <td>33.607595</td>\n",
       "      <td>36.0</td>\n",
       "      <td>34</td>\n",
       "      <td>0.408122</td>\n",
       "      <td>-0.411835</td>\n",
       "    </tr>\n",
       "  </tbody>\n",
       "</table>\n",
       "</div>"
      ],
      "text/plain": [
       "                   Mean  Median  Mode      Skew      Kurt\n",
       "Attrited_Age  33.607595    32.0    29  0.715732 -0.057044\n",
       "Stayed_Age    33.607595    36.0    34  0.408122 -0.411835"
      ]
     },
     "execution_count": 9,
     "metadata": {},
     "output_type": "execute_result"
    },
    {
     "data": {
      "image/png": "[encoded data removed]",
      "text/plain": [
       "<Figure size 432x288 with 1 Axes>"
      ]
     },
     "metadata": {
      "needs_background": "light"
     },
     "output_type": "display_data"
    }
   ],
   "source": [
    "distribution_check(\"Age\")"
   ]
  },
  {
   "cell_type": "markdown",
   "metadata": {},
   "source": [
    "<p style=\"margin-top: 10px;font-size: 17px;color:#333\">\n",
    "    From the above data, we can proceed using non parametric test<br>\n",
    "    Now there are two independent variables that are the people who left the company and the one's who didn't. We're comparing both these variable's age<br>\n",
    "Hence we will be using <b>Mann-Whitney Test</b>\n",
    "</p>"
   ]
  },
  {
   "cell_type": "code",
   "execution_count": 10,
   "metadata": {},
   "outputs": [
    {
     "name": "stdout",
     "output_type": "stream",
     "text": [
      "p = 2.652171037670851e-11\n",
      "Hence H1 is considered since p < 0.05\n"
     ]
    }
   ],
   "source": [
    "stats, p = mannwhitneyu(df_stay.Age, df_left.Age)\n",
    "hypo_chooser(p)"
   ]
  },
  {
   "cell_type": "markdown",
   "metadata": {},
   "source": [
    "<p style=\"margin-top: 10px;font-size: 17px;color:#333\">\n",
    "    Therefore, there are dependencies between age and attrtion variables.<br>\n",
    "    Next we will be testing the correlation between both the variables<br>\n",
    "</p>\n",
    "<p style = \"font-size: 19px; margin-bottom: 7px\">\n",
    "    Ho:There is no interdepency in the Age and Attrion variables<br>\n",
    "    H1:There is interdepency in the Age and Attrion variables<br>\n",
    "</p>"
   ]
  },
  {
   "cell_type": "code",
   "execution_count": 11,
   "metadata": {},
   "outputs": [
    {
     "name": "stdout",
     "output_type": "stream",
     "text": [
      "There is interdepency between Attrition and Age\n",
      "H1 is considered\n",
      "A weak negative correlation is found with r = -0.159\n",
      "Hence as Age increases, Attrition decreases\n"
     ]
    }
   ],
   "source": [
    "corr_detector(\"Age\")"
   ]
  },
  {
   "cell_type": "markdown",
   "metadata": {},
   "source": [
    "<p style = \"font-size: 19px; margin-bottom: 7px; color: brown\">\n",
    "<b style = \"border-bottom: 3px solid blue; padding-bottom: 5px\">\n",
    "    Hence attrition can be reduced by hiring aged employees having age of approximately 36 years old or above</b>\n",
    "</p>"
   ]
  },
  {
   "cell_type": "markdown",
   "metadata": {},
   "source": [
    "<h2>Buissiness Travel vs Attrition:</h2>\n",
    "<p style = \"font-size: 19px; margin-bottom: 7px\">\n",
    "    Ho:There is no dependency between BusinessTravel and Attribution<br>\n",
    "    H1:There is dependency between BusinessTravel and Attribution<br></p>\n",
    "<div style=\"margin-top: 10px;font-size: 19px;color:#333\">\n",
    "    Since we're checking the dependency of categorical variables<br>\n",
    "    Therefore we will be using chi square test statistic<br>\n",
    "</div>"
   ]
  },
  {
   "cell_type": "code",
   "execution_count": 12,
   "metadata": {},
   "outputs": [
    {
     "name": "stdout",
     "output_type": "stream",
     "text": [
      "p = 5.608614476449931e-06\n",
      "Hence H1 is considered since p < 0.05\n"
     ]
    }
   ],
   "source": [
    "chitable = pd.crosstab(df.BusinessTravel, df.Attrition)\n",
    "stats, p, dof, expected = chi2_contingency(chitable)\n",
    "hypo_chooser(p)"
   ]
  },
  {
   "cell_type": "code",
   "execution_count": 13,
   "metadata": {},
   "outputs": [
    {
     "data": {
      "text/html": [
       "<div>\n",
       "<style scoped>\n",
       "    .dataframe tbody tr th:only-of-type {\n",
       "        vertical-align: middle;\n",
       "    }\n",
       "\n",
       "    .dataframe tbody tr th {\n",
       "        vertical-align: top;\n",
       "    }\n",
       "\n",
       "    .dataframe thead th {\n",
       "        text-align: right;\n",
       "    }\n",
       "</style>\n",
       "<table border=\"1\" class=\"dataframe\">\n",
       "  <thead>\n",
       "    <tr style=\"text-align: right;\">\n",
       "      <th>Attrition</th>\n",
       "      <th>No_pct</th>\n",
       "      <th>Yes_pct</th>\n",
       "    </tr>\n",
       "    <tr>\n",
       "      <th>BusinessTravel</th>\n",
       "      <th></th>\n",
       "      <th></th>\n",
       "    </tr>\n",
       "  </thead>\n",
       "  <tbody>\n",
       "    <tr>\n",
       "      <th>Non-Travel</th>\n",
       "      <td>92.000000</td>\n",
       "      <td>8.000000</td>\n",
       "    </tr>\n",
       "    <tr>\n",
       "      <th>Travel_Frequently</th>\n",
       "      <td>75.090253</td>\n",
       "      <td>24.909747</td>\n",
       "    </tr>\n",
       "    <tr>\n",
       "      <th>Travel_Rarely</th>\n",
       "      <td>85.043145</td>\n",
       "      <td>14.956855</td>\n",
       "    </tr>\n",
       "  </tbody>\n",
       "</table>\n",
       "</div>"
      ],
      "text/plain": [
       "Attrition             No_pct    Yes_pct\n",
       "BusinessTravel                         \n",
       "Non-Travel         92.000000   8.000000\n",
       "Travel_Frequently  75.090253  24.909747\n",
       "Travel_Rarely      85.043145  14.956855"
      ]
     },
     "execution_count": 13,
     "metadata": {},
     "output_type": "execute_result"
    },
    {
     "data": {
      "image/png": "[encoded data removed]",
      "text/plain": [
       "<Figure size 432x288 with 1 Axes>"
      ]
     },
     "metadata": {
      "needs_background": "light"
     },
     "output_type": "display_data"
    }
   ],
   "source": [
    "chi2_result(chitable)"
   ]
  },
  {
   "cell_type": "markdown",
   "metadata": {},
   "source": [
    "<p style = \"font-size: 19px; margin-bottom: 7px\">\n",
    "From the above table, the percentage of people who left is the highest for who traveled frequently\n",
    "</p>\n",
    "<p style = \"font-size: 19px; margin-bottom: 7px; color: brown\">\n",
    "<b style = \"border-bottom: 3px solid blue; padding-bottom: 5px\">\n",
    "    Hence attrition can be reduced by reducing the buisiness travels for employees</b>\n",
    "</p>"
   ]
  },
  {
   "cell_type": "markdown",
   "metadata": {},
   "source": [
    "<h2>Department vs Attrition:</h2>\n",
    "<p style = \"font-size: 19px; margin-bottom: 7px\">\n",
    "    Ho:There is no dependency between Department and Attribution<br>\n",
    "    H1:There is dependency between Department and Attribution<br></p>\n",
    "<div style=\"margin-top: 10px;font-size: 19px;color:#333\">\n",
    "    Since we're checking the dependency of categorical variables<br>\n",
    "    Therefore we will be using chi square test statistic<br>\n",
    "</div>"
   ]
  },
  {
   "cell_type": "code",
   "execution_count": 14,
   "metadata": {},
   "outputs": [
    {
     "name": "stdout",
     "output_type": "stream",
     "text": [
      "p = 0.00784107643171164\n",
      "Hence H1 is considered since p < 0.05\n"
     ]
    }
   ],
   "source": [
    "chitable = pd.crosstab(df.Department, df.Attrition)\n",
    "stats, p, dof, expected = chi2_contingency(chitable)\n",
    "hypo_chooser(p)"
   ]
  },
  {
   "cell_type": "code",
   "execution_count": 15,
   "metadata": {},
   "outputs": [
    {
     "data": {
      "text/html": [
       "<div>\n",
       "<style scoped>\n",
       "    .dataframe tbody tr th:only-of-type {\n",
       "        vertical-align: middle;\n",
       "    }\n",
       "\n",
       "    .dataframe tbody tr th {\n",
       "        vertical-align: top;\n",
       "    }\n",
       "\n",
       "    .dataframe thead th {\n",
       "        text-align: right;\n",
       "    }\n",
       "</style>\n",
       "<table border=\"1\" class=\"dataframe\">\n",
       "  <thead>\n",
       "    <tr style=\"text-align: right;\">\n",
       "      <th>Attrition</th>\n",
       "      <th>No_pct</th>\n",
       "      <th>Yes_pct</th>\n",
       "    </tr>\n",
       "    <tr>\n",
       "      <th>Department</th>\n",
       "      <th></th>\n",
       "      <th></th>\n",
       "    </tr>\n",
       "  </thead>\n",
       "  <tbody>\n",
       "    <tr>\n",
       "      <th>Human Resources</th>\n",
       "      <td>69.841270</td>\n",
       "      <td>30.158730</td>\n",
       "    </tr>\n",
       "    <tr>\n",
       "      <th>Research &amp; Development</th>\n",
       "      <td>84.287201</td>\n",
       "      <td>15.712799</td>\n",
       "    </tr>\n",
       "    <tr>\n",
       "      <th>Sales</th>\n",
       "      <td>84.977578</td>\n",
       "      <td>15.022422</td>\n",
       "    </tr>\n",
       "  </tbody>\n",
       "</table>\n",
       "</div>"
      ],
      "text/plain": [
       "Attrition                  No_pct    Yes_pct\n",
       "Department                                  \n",
       "Human Resources         69.841270  30.158730\n",
       "Research & Development  84.287201  15.712799\n",
       "Sales                   84.977578  15.022422"
      ]
     },
     "execution_count": 15,
     "metadata": {},
     "output_type": "execute_result"
    },
    {
     "data": {
      "image/png": "[encoded data removed]",
      "text/plain": [
       "<Figure size 432x288 with 1 Axes>"
      ]
     },
     "metadata": {
      "needs_background": "light"
     },
     "output_type": "display_data"
    }
   ],
   "source": [
    "chi2_result(chitable)"
   ]
  },
  {
   "cell_type": "markdown",
   "metadata": {},
   "source": [
    "<p style = \"font-size: 19px; margin-bottom: 7px\">\n",
    "    From the above table, the percentage of people who left from HR department is the most\n",
    "</p>\n",
    "<p style = \"font-size: 19px; margin-bottom: 7px; color: brown\">\n",
    "    <b style = \"border-bottom: 3px solid blue; padding-bottom: 5px\">\n",
    "        Hence attrition can be reduced by building strong bonds with the HR department \n",
    "    </b>\n",
    "</p>"
   ]
  },
  {
   "cell_type": "markdown",
   "metadata": {},
   "source": [
    "<h2>DistanceFromHome vs Attrition:</h2>\n",
    "<p style = \"font-size: 19px; margin-bottom: 7px\">\n",
    "    Ho:There is no significant difference in distance from home of employees who left and who didn't leave<br>\n",
    "    H1:There is significant difference in distance from home of employees who left and who didn't leave<br>\n",
    "</p>\n",
    "<p style=\"margin-top: 10px;font-size: 17px;color:#333\">\n",
    "    First we shall be checking both the variables are parametric or not\n",
    "</p>"
   ]
  },
  {
   "cell_type": "code",
   "execution_count": 16,
   "metadata": {},
   "outputs": [
    {
     "data": {
      "text/html": [
       "<div>\n",
       "<style scoped>\n",
       "    .dataframe tbody tr th:only-of-type {\n",
       "        vertical-align: middle;\n",
       "    }\n",
       "\n",
       "    .dataframe tbody tr th {\n",
       "        vertical-align: top;\n",
       "    }\n",
       "\n",
       "    .dataframe thead th {\n",
       "        text-align: right;\n",
       "    }\n",
       "</style>\n",
       "<table border=\"1\" class=\"dataframe\">\n",
       "  <thead>\n",
       "    <tr style=\"text-align: right;\">\n",
       "      <th></th>\n",
       "      <th>Mean</th>\n",
       "      <th>Median</th>\n",
       "      <th>Mode</th>\n",
       "      <th>Skew</th>\n",
       "      <th>Kurt</th>\n",
       "    </tr>\n",
       "  </thead>\n",
       "  <tbody>\n",
       "    <tr>\n",
       "      <th>Attrited_DistanceFromHome</th>\n",
       "      <td>9.012658</td>\n",
       "      <td>7.0</td>\n",
       "      <td>2</td>\n",
       "      <td>0.968525</td>\n",
       "      <td>-0.025224</td>\n",
       "    </tr>\n",
       "    <tr>\n",
       "      <th>Stayed_DistanceFromHome</th>\n",
       "      <td>9.012658</td>\n",
       "      <td>7.0</td>\n",
       "      <td>1</td>\n",
       "      <td>0.955845</td>\n",
       "      <td>-0.258595</td>\n",
       "    </tr>\n",
       "  </tbody>\n",
       "</table>\n",
       "</div>"
      ],
      "text/plain": [
       "                               Mean  Median  Mode      Skew      Kurt\n",
       "Attrited_DistanceFromHome  9.012658     7.0     2  0.968525 -0.025224\n",
       "Stayed_DistanceFromHome    9.012658     7.0     1  0.955845 -0.258595"
      ]
     },
     "execution_count": 16,
     "metadata": {},
     "output_type": "execute_result"
    },
    {
     "data": {
      "image/png": "[encoded data removed]",
      "text/plain": [
       "<Figure size 432x288 with 1 Axes>"
      ]
     },
     "metadata": {
      "needs_background": "light"
     },
     "output_type": "display_data"
    }
   ],
   "source": [
    "distribution_check(\"DistanceFromHome\")"
   ]
  },
  {
   "cell_type": "markdown",
   "metadata": {},
   "source": [
    "<p style=\"margin-top: 10px;font-size: 17px;color:#333\">\n",
    "    From the above data, we can proceed using non parametric test<br>\n",
    "    Now there are two independent variables that are the people who left the company and the one's who didn't. We're comparing       both these variable's distance from home<br>\n",
    "    Hence we will be using <b>Mann-Whitney Test</b>\n",
    "</p>"
   ]
  },
  {
   "cell_type": "code",
   "execution_count": 17,
   "metadata": {},
   "outputs": [
    {
     "name": "stdout",
     "output_type": "stream",
     "text": [
      "p = 0.4786049358224514\n",
      "Hence Ho is considered since p >= 0.05\n"
     ]
    }
   ],
   "source": [
    "stats, p = mannwhitneyu(df_stay.DistanceFromHome, df_left.DistanceFromHome)\n",
    "hypo_chooser(p)"
   ]
  },
  {
   "cell_type": "markdown",
   "metadata": {},
   "source": [
    "<p style=\"margin-top: 10px;font-size: 17px;color:#333\">\n",
    "    <b style = \"border-bottom: 3px solid blue; padding-bottom: 5px\">\n",
    "        Therefore, there are no dependencies between DistanceFromHome and Attrition variables\n",
    "    </b>\n",
    "</p>"
   ]
  },
  {
   "cell_type": "markdown",
   "metadata": {},
   "source": [
    "<h2>Education vs Attrition:</h2>\n",
    "<p style = \"font-size: 19px; margin-bottom: 7px\">\n",
    "    Ho:There is no dependency between Education and Attribution<br>\n",
    "    H1:There is dependency between Education and Attribution<br></p>\n",
    "<div style=\"margin-top: 10px;font-size: 19px;color:#333\">\n",
    "    Since we're checking the dependency of categorical variables<br>\n",
    "    Therefore we will be using chi square test statistic<br>\n",
    "</div>"
   ]
  },
  {
   "cell_type": "code",
   "execution_count": 18,
   "metadata": {},
   "outputs": [
    {
     "name": "stdout",
     "output_type": "stream",
     "text": [
      "p = 0.7577477640783867\n",
      "Hence Ho is considered since p >= 0.05\n"
     ]
    }
   ],
   "source": [
    "chitable = pd.crosstab(df.Education, df.Attrition)\n",
    "stats, p, dof, expected = chi2_contingency(chitable)\n",
    "hypo_chooser(p)"
   ]
  },
  {
   "cell_type": "markdown",
   "metadata": {},
   "source": [
    "<p style=\"margin-top: 10px;font-size: 17px;color:#333\">\n",
    "    <b style = \"border-bottom: 3px solid blue; padding-bottom: 5px\">\n",
    "        Therefore, there are no dependencies between Education and Attrition variables.\n",
    "    </b>\n",
    "</p>"
   ]
  },
  {
   "cell_type": "markdown",
   "metadata": {},
   "source": [
    "<h2>EducationField vs Attrition:</h2>\n",
    "<p style = \"font-size: 19px; margin-bottom: 7px\">\n",
    "    Ho:There is no dependency between EducationField and Attribution<br>\n",
    "    H1:There is dependency between EducationField and Attribution<br></p>\n",
    "<div style=\"margin-top: 10px;font-size: 19px;color:#333\">\n",
    "    Since we're checking the dependency of categorical variables<br>\n",
    "    Therefore we will be using chi square test statistic<br>\n",
    "</div>"
   ]
  },
  {
   "cell_type": "code",
   "execution_count": 19,
   "metadata": {},
   "outputs": [
    {
     "name": "stdout",
     "output_type": "stream",
     "text": [
      "p = 0.00878935071037593\n",
      "Hence H1 is considered since p < 0.05\n"
     ]
    }
   ],
   "source": [
    "chitable = pd.crosstab(df.EducationField, df.Attrition)\n",
    "stats, p, dof, expected = chi2_contingency(chitable)\n",
    "hypo_chooser(p)"
   ]
  },
  {
   "cell_type": "code",
   "execution_count": 20,
   "metadata": {},
   "outputs": [
    {
     "data": {
      "text/html": [
       "<div>\n",
       "<style scoped>\n",
       "    .dataframe tbody tr th:only-of-type {\n",
       "        vertical-align: middle;\n",
       "    }\n",
       "\n",
       "    .dataframe tbody tr th {\n",
       "        vertical-align: top;\n",
       "    }\n",
       "\n",
       "    .dataframe thead th {\n",
       "        text-align: right;\n",
       "    }\n",
       "</style>\n",
       "<table border=\"1\" class=\"dataframe\">\n",
       "  <thead>\n",
       "    <tr style=\"text-align: right;\">\n",
       "      <th>Attrition</th>\n",
       "      <th>No_pct</th>\n",
       "      <th>Yes_pct</th>\n",
       "    </tr>\n",
       "    <tr>\n",
       "      <th>EducationField</th>\n",
       "      <th></th>\n",
       "      <th></th>\n",
       "    </tr>\n",
       "  </thead>\n",
       "  <tbody>\n",
       "    <tr>\n",
       "      <th>Human Resources</th>\n",
       "      <td>59.259259</td>\n",
       "      <td>40.740741</td>\n",
       "    </tr>\n",
       "    <tr>\n",
       "      <th>Life Sciences</th>\n",
       "      <td>83.333333</td>\n",
       "      <td>16.666667</td>\n",
       "    </tr>\n",
       "    <tr>\n",
       "      <th>Marketing</th>\n",
       "      <td>84.276730</td>\n",
       "      <td>15.723270</td>\n",
       "    </tr>\n",
       "    <tr>\n",
       "      <th>Medical</th>\n",
       "      <td>83.836207</td>\n",
       "      <td>16.163793</td>\n",
       "    </tr>\n",
       "    <tr>\n",
       "      <th>Other</th>\n",
       "      <td>87.804878</td>\n",
       "      <td>12.195122</td>\n",
       "    </tr>\n",
       "    <tr>\n",
       "      <th>Technical Degree</th>\n",
       "      <td>88.636364</td>\n",
       "      <td>11.363636</td>\n",
       "    </tr>\n",
       "  </tbody>\n",
       "</table>\n",
       "</div>"
      ],
      "text/plain": [
       "Attrition            No_pct    Yes_pct\n",
       "EducationField                        \n",
       "Human Resources   59.259259  40.740741\n",
       "Life Sciences     83.333333  16.666667\n",
       "Marketing         84.276730  15.723270\n",
       "Medical           83.836207  16.163793\n",
       "Other             87.804878  12.195122\n",
       "Technical Degree  88.636364  11.363636"
      ]
     },
     "execution_count": 20,
     "metadata": {},
     "output_type": "execute_result"
    },
    {
     "data": {
      "image/png": "[encoded data removed]",
      "text/plain": [
       "<Figure size 432x288 with 1 Axes>"
      ]
     },
     "metadata": {
      "needs_background": "light"
     },
     "output_type": "display_data"
    }
   ],
   "source": [
    "chi2_result(chitable)"
   ]
  },
  {
   "cell_type": "markdown",
   "metadata": {},
   "source": [
    "<p style = \"font-size: 19px; margin-bottom: 7px\">\n",
    "    From the above table, the percentage of people who left from HR department is the most, while the percentage in other education fields isn't that high\n",
    "</p>\n",
    "<p style = \"font-size: 19px; margin-bottom: 7px; color: brown\">\n",
    "    <b style = \"border-bottom: 3px solid blue; padding-bottom: 5px\">\n",
    "        Hence attrition can be reduced by keeping hiring of employees for the HR department strict so only the\n",
    "    </b>\n",
    "</p>\n",
    "<p style = \"font-size: 19px; margin-bottom: 7px; color: brown\">\n",
    "    <b style = \"border-bottom: 3px solid blue; padding-bottom: 5px\">\n",
    "         skilled and promising employees are taken\n",
    "    </b>\n",
    "</p>"
   ]
  },
  {
   "cell_type": "markdown",
   "metadata": {},
   "source": [
    "<h2>Gender vs Attrition:</h2>\n",
    "<p style = \"font-size: 19px; margin-bottom: 7px\">\n",
    "    Ho:There is no dependency between Gender and Attribution<br>\n",
    "    H1:There is dependency between Gender and Attribution<br></p>\n",
    "<div style=\"margin-top: 10px;font-size: 19px;color:#333\">\n",
    "    Since we're checking the dependency of categorical variables<br>\n",
    "    Therefore we will be using chi square test statistic<br>\n",
    "</div>"
   ]
  },
  {
   "cell_type": "code",
   "execution_count": 21,
   "metadata": {},
   "outputs": [
    {
     "name": "stdout",
     "output_type": "stream",
     "text": [
      "p = 0.5335882358793274\n",
      "Hence Ho is considered since p >= 0.05\n"
     ]
    }
   ],
   "source": [
    "chitable = pd.crosstab(df.Gender, df.Attrition)\n",
    "stats, p, dof, expected = chi2_contingency(chitable)\n",
    "hypo_chooser(p)"
   ]
  },
  {
   "cell_type": "markdown",
   "metadata": {},
   "source": [
    "<p style=\"margin-top: 10px;font-size: 17px;color:#333\">\n",
    "    <b style = \"border-bottom: 3px solid blue; padding-bottom: 5px\">\n",
    "        Therefore, there are no dependencies between Gender and Attrition variables.\n",
    "    </b>\n",
    "</p>"
   ]
  },
  {
   "cell_type": "markdown",
   "metadata": {},
   "source": [
    "<h2>JobLevel vs Attrition:</h2>\n",
    "<p style = \"font-size: 19px; margin-bottom: 7px\">\n",
    "    Ho:There is no dependency between JobLevel and Attribution<br>\n",
    "    H1:There is dependency between JobLevel and Attribution<br></p>\n",
    "<div style=\"margin-top: 10px;font-size: 19px;color:#333\">\n",
    "    Since we're checking the dependency of categorical variables<br>\n",
    "    Therefore we will be using chi square test statistic<br>\n",
    "</div>"
   ]
  },
  {
   "cell_type": "code",
   "execution_count": 22,
   "metadata": {},
   "outputs": [
    {
     "name": "stdout",
     "output_type": "stream",
     "text": [
      "p = 0.7192602477461422\n",
      "Hence Ho is considered since p >= 0.05\n"
     ]
    }
   ],
   "source": [
    "chitable = pd.crosstab(df.JobLevel, df.Attrition)\n",
    "stats, p, dof, expected = chi2_contingency(chitable)\n",
    "hypo_chooser(p)"
   ]
  },
  {
   "cell_type": "markdown",
   "metadata": {},
   "source": [
    "<p style=\"margin-top: 10px;font-size: 17px;color:#333\">\n",
    "    <b style = \"border-bottom: 3px solid blue; padding-bottom: 5px\">\n",
    "        Therefore, there are no dependencies between JobLevel and Attrition variables.\n",
    "    </b>\n",
    "</p>"
   ]
  },
  {
   "cell_type": "markdown",
   "metadata": {},
   "source": [
    "<h2>JobRole vs Attrition:</h2>\n",
    "<p style = \"font-size: 19px; margin-bottom: 7px\">\n",
    "    Ho:There is no dependency between JobRole and Attrition<br>\n",
    "    H1:There is dependency between JobRole and Attribution<br></p>\n",
    "<div style=\"margin-top: 10px;font-size: 19px;color:#333\">\n",
    "    Since we're checking the dependency of categorical variables<br>\n",
    "    Therefore we will be using chi square test statistic<br>\n",
    "</div>"
   ]
  },
  {
   "cell_type": "code",
   "execution_count": 23,
   "metadata": {},
   "outputs": [
    {
     "name": "stdout",
     "output_type": "stream",
     "text": [
      "p = 0.7192602477461422\n",
      "Hence Ho is considered since p >= 0.05\n"
     ]
    }
   ],
   "source": [
    "chitable = pd.crosstab(df.JobLevel, df.Attrition)\n",
    "stats, p, dof, expected = chi2_contingency(chitable)\n",
    "hypo_chooser(p)"
   ]
  },
  {
   "cell_type": "markdown",
   "metadata": {},
   "source": [
    "<p style=\"margin-top: 10px;font-size: 17px;color:#333\">\n",
    "    <b style = \"border-bottom: 3px solid blue; padding-bottom: 5px\">\n",
    "        Therefore, there are no dependencies between JobRole and Attrition variables.\n",
    "    </b>\n",
    "</p>"
   ]
  },
  {
   "cell_type": "markdown",
   "metadata": {},
   "source": [
    "<h2>MaritalStatus vs Attrition:</h2>\n",
    "<p style = \"font-size: 19px; margin-bottom: 7px\">\n",
    "    Ho:There is no dependency between MaritalStatus and Attrition<br>\n",
    "    H1:There is dependency between MaritalStatus and Attribution<br></p>\n",
    "<div style=\"margin-top: 10px;font-size: 19px;color:#333\">\n",
    "    Since we're checking the dependency of categorical variables<br>\n",
    "    Therefore we will be using chi square test statistic<br>\n",
    "</div>"
   ]
  },
  {
   "cell_type": "code",
   "execution_count": 24,
   "metadata": {},
   "outputs": [
    {
     "name": "stdout",
     "output_type": "stream",
     "text": [
      "p = 9.45551106034083e-11\n",
      "Hence H1 is considered since p < 0.05\n"
     ]
    }
   ],
   "source": [
    "chitable = pd.crosstab(df.MaritalStatus, df.Attrition)\n",
    "stats, p, dof, expected = chi2_contingency(chitable)\n",
    "hypo_chooser(p)"
   ]
  },
  {
   "cell_type": "code",
   "execution_count": 25,
   "metadata": {},
   "outputs": [
    {
     "data": {
      "text/html": [
       "<div>\n",
       "<style scoped>\n",
       "    .dataframe tbody tr th:only-of-type {\n",
       "        vertical-align: middle;\n",
       "    }\n",
       "\n",
       "    .dataframe tbody tr th {\n",
       "        vertical-align: top;\n",
       "    }\n",
       "\n",
       "    .dataframe thead th {\n",
       "        text-align: right;\n",
       "    }\n",
       "</style>\n",
       "<table border=\"1\" class=\"dataframe\">\n",
       "  <thead>\n",
       "    <tr style=\"text-align: right;\">\n",
       "      <th>Attrition</th>\n",
       "      <th>No_pct</th>\n",
       "      <th>Yes_pct</th>\n",
       "    </tr>\n",
       "    <tr>\n",
       "      <th>MaritalStatus</th>\n",
       "      <th></th>\n",
       "      <th></th>\n",
       "    </tr>\n",
       "  </thead>\n",
       "  <tbody>\n",
       "    <tr>\n",
       "      <th>Divorced</th>\n",
       "      <td>89.908257</td>\n",
       "      <td>10.091743</td>\n",
       "    </tr>\n",
       "    <tr>\n",
       "      <th>Married</th>\n",
       "      <td>87.518574</td>\n",
       "      <td>12.481426</td>\n",
       "    </tr>\n",
       "    <tr>\n",
       "      <th>Single</th>\n",
       "      <td>74.468085</td>\n",
       "      <td>25.531915</td>\n",
       "    </tr>\n",
       "  </tbody>\n",
       "</table>\n",
       "</div>"
      ],
      "text/plain": [
       "Attrition         No_pct    Yes_pct\n",
       "MaritalStatus                      \n",
       "Divorced       89.908257  10.091743\n",
       "Married        87.518574  12.481426\n",
       "Single         74.468085  25.531915"
      ]
     },
     "execution_count": 25,
     "metadata": {},
     "output_type": "execute_result"
    },
    {
     "data": {
      "image/png": "[encoded data removed]",
      "text/plain": [
       "<Figure size 432x288 with 1 Axes>"
      ]
     },
     "metadata": {
      "needs_background": "light"
     },
     "output_type": "display_data"
    }
   ],
   "source": [
    "chi2_result(chitable)"
   ]
  },
  {
   "cell_type": "markdown",
   "metadata": {},
   "source": [
    "<p style = \"font-size: 19px; margin-bottom: 7px\">\n",
    "    From the above table, we can assume that people who are single have a high chance of leaving the company\n",
    "</p>\n",
    "<p style = \"font-size: 19px; margin-bottom: 7px; color: brown\">\n",
    "    <b style = \"border-bottom: 3px solid blue; padding-bottom: 5px\">\n",
    "        Hence attrition can be reduced by reducing hiring for people who are single \n",
    "    </b>\n",
    "</p>"
   ]
  },
  {
   "cell_type": "markdown",
   "metadata": {},
   "source": [
    "<h2>MonthlyIncome vs Attrition:</h2>\n",
    "<p style = \"font-size: 19px; margin-bottom: 7px\">\n",
    "    Ho:There is no significant difference in the monthly income of the employees who left and who didn't leave<br>\n",
    "    H1:There is significant difference in the monthly income of the employees who left and who didn't leave<br>\n",
    "</p>\n",
    "<p style=\"margin-top: 10px;font-size: 17px;color:#333\">\n",
    "    First we shall be checking both the variables are parametric or not\n",
    "</p>"
   ]
  },
  {
   "cell_type": "code",
   "execution_count": 26,
   "metadata": {},
   "outputs": [
    {
     "data": {
      "text/html": [
       "<div>\n",
       "<style scoped>\n",
       "    .dataframe tbody tr th:only-of-type {\n",
       "        vertical-align: middle;\n",
       "    }\n",
       "\n",
       "    .dataframe tbody tr th {\n",
       "        vertical-align: top;\n",
       "    }\n",
       "\n",
       "    .dataframe thead th {\n",
       "        text-align: right;\n",
       "    }\n",
       "</style>\n",
       "<table border=\"1\" class=\"dataframe\">\n",
       "  <thead>\n",
       "    <tr style=\"text-align: right;\">\n",
       "      <th></th>\n",
       "      <th>Mean</th>\n",
       "      <th>Median</th>\n",
       "      <th>Mode</th>\n",
       "      <th>Skew</th>\n",
       "      <th>Kurt</th>\n",
       "    </tr>\n",
       "  </thead>\n",
       "  <tbody>\n",
       "    <tr>\n",
       "      <th>Attrited_MonthlyIncome</th>\n",
       "      <td>61682.616034</td>\n",
       "      <td>49080.0</td>\n",
       "      <td>25590</td>\n",
       "      <td>1.547263</td>\n",
       "      <td>1.698953</td>\n",
       "    </tr>\n",
       "    <tr>\n",
       "      <th>Stayed_MonthlyIncome</th>\n",
       "      <td>61682.616034</td>\n",
       "      <td>49300.0</td>\n",
       "      <td>23420</td>\n",
       "      <td>1.339646</td>\n",
       "      <td>0.901112</td>\n",
       "    </tr>\n",
       "  </tbody>\n",
       "</table>\n",
       "</div>"
      ],
      "text/plain": [
       "                                Mean   Median   Mode      Skew      Kurt\n",
       "Attrited_MonthlyIncome  61682.616034  49080.0  25590  1.547263  1.698953\n",
       "Stayed_MonthlyIncome    61682.616034  49300.0  23420  1.339646  0.901112"
      ]
     },
     "execution_count": 26,
     "metadata": {},
     "output_type": "execute_result"
    },
    {
     "data": {
      "image/png": "[encoded data removed]",
      "text/plain": [
       "<Figure size 432x288 with 1 Axes>"
      ]
     },
     "metadata": {
      "needs_background": "light"
     },
     "output_type": "display_data"
    }
   ],
   "source": [
    "distribution_check(\"MonthlyIncome\")"
   ]
  },
  {
   "cell_type": "markdown",
   "metadata": {},
   "source": [
    "<p style=\"margin-top: 10px;font-size: 17px;color:#333\">\n",
    "    From the above data, we can proceed using non parametric test<br>\n",
    "    Now there are two independent variables that are the people who left the company and the one's who didn't. We're comparing both these variable's monthly income<br>\n",
    "Hence we will be using <b>Mann-Whitney Test</b>\n",
    "</p>"
   ]
  },
  {
   "cell_type": "code",
   "execution_count": 27,
   "metadata": {},
   "outputs": [
    {
     "name": "stdout",
     "output_type": "stream",
     "text": [
      "p = 0.17621332994327893\n",
      "Hence Ho is considered since p >= 0.05\n"
     ]
    }
   ],
   "source": [
    "stats, p = mannwhitneyu(df_stay.MonthlyIncome, df_left.MonthlyIncome) \n",
    "hypo_chooser(p)"
   ]
  },
  {
   "cell_type": "markdown",
   "metadata": {},
   "source": [
    "<p style=\"margin-top: 10px;font-size: 17px;color:#333\">\n",
    "    <b style = \"border-bottom: 3px solid blue; padding-bottom: 5px\">\n",
    "        Therefore, there are no dependencies between MonthlyIncome and Attrition variables\n",
    "    </b>\n",
    "</p>"
   ]
  },
  {
   "cell_type": "markdown",
   "metadata": {},
   "source": [
    "<h2>NumCompaniesWorked vs Attrition:</h2>\n",
    "<p style = \"font-size: 19px; margin-bottom: 7px\">\n",
    "    Ho:There is no significant difference in the number of companies worked by the employees who left and who didn't leave<br>\n",
    "    H1:There is significant difference in the number of companies worked by the employees who left and who didn't leave<br>\n",
    "</p>\n",
    "<p style=\"margin-top: 10px;font-size: 17px;color:#333\">\n",
    "    First we shall be checking both the variables are parametric or not\n",
    "</p>"
   ]
  },
  {
   "cell_type": "code",
   "execution_count": 28,
   "metadata": {},
   "outputs": [
    {
     "data": {
      "text/html": [
       "<div>\n",
       "<style scoped>\n",
       "    .dataframe tbody tr th:only-of-type {\n",
       "        vertical-align: middle;\n",
       "    }\n",
       "\n",
       "    .dataframe tbody tr th {\n",
       "        vertical-align: top;\n",
       "    }\n",
       "\n",
       "    .dataframe thead th {\n",
       "        text-align: right;\n",
       "    }\n",
       "</style>\n",
       "<table border=\"1\" class=\"dataframe\">\n",
       "  <thead>\n",
       "    <tr style=\"text-align: right;\">\n",
       "      <th></th>\n",
       "      <th>Mean</th>\n",
       "      <th>Median</th>\n",
       "      <th>Mode</th>\n",
       "      <th>Skew</th>\n",
       "      <th>Kurt</th>\n",
       "    </tr>\n",
       "  </thead>\n",
       "  <tbody>\n",
       "    <tr>\n",
       "      <th>Attrited_NumCompaniesWorked</th>\n",
       "      <td>2.940928</td>\n",
       "      <td>1.0</td>\n",
       "      <td>1.0</td>\n",
       "      <td>0.864170</td>\n",
       "      <td>-0.543064</td>\n",
       "    </tr>\n",
       "    <tr>\n",
       "      <th>Stayed_NumCompaniesWorked</th>\n",
       "      <td>2.940928</td>\n",
       "      <td>2.0</td>\n",
       "      <td>1.0</td>\n",
       "      <td>1.058795</td>\n",
       "      <td>0.141433</td>\n",
       "    </tr>\n",
       "  </tbody>\n",
       "</table>\n",
       "</div>"
      ],
      "text/plain": [
       "                                 Mean  Median  Mode      Skew      Kurt\n",
       "Attrited_NumCompaniesWorked  2.940928     1.0   1.0  0.864170 -0.543064\n",
       "Stayed_NumCompaniesWorked    2.940928     2.0   1.0  1.058795  0.141433"
      ]
     },
     "execution_count": 28,
     "metadata": {},
     "output_type": "execute_result"
    },
    {
     "data": {
      "image/png": "[encoded data removed]",
      "text/plain": [
       "<Figure size 432x288 with 1 Axes>"
      ]
     },
     "metadata": {
      "needs_background": "light"
     },
     "output_type": "display_data"
    }
   ],
   "source": [
    "distribution_check(\"NumCompaniesWorked\")"
   ]
  },
  {
   "cell_type": "markdown",
   "metadata": {},
   "source": [
    "<p style=\"margin-top: 10px;font-size: 17px;color:#333\">\n",
    "    From the above data, we can proceed using non parametric test<br>\n",
    "    Now there are two independent variables that are the people who left the company and the one's who didn't. We're comparing both these variable's number of companies worked<br>\n",
    "Hence we will be using <b>Mann-Whitney Test</b>\n",
    "</p>"
   ]
  },
  {
   "cell_type": "code",
   "execution_count": 29,
   "metadata": {},
   "outputs": [
    {
     "name": "stdout",
     "output_type": "stream",
     "text": [
      "p = 0.12118252544058267\n",
      "Hence Ho is considered since p >= 0.05\n"
     ]
    }
   ],
   "source": [
    "stats, p = mannwhitneyu(df_stay.NumCompaniesWorked, df_left.NumCompaniesWorked)\n",
    "hypo_chooser(p)"
   ]
  },
  {
   "cell_type": "markdown",
   "metadata": {},
   "source": [
    "<p style=\"margin-top: 10px;font-size: 17px;color:#333\">\n",
    "    <b style = \"border-bottom: 3px solid blue; padding-bottom: 5px\">\n",
    "        Therefore, there are no dependencies between NumCompaniesWorked and Attrition variables\n",
    "    </b>\n",
    "</p>"
   ]
  },
  {
   "cell_type": "markdown",
   "metadata": {},
   "source": [
    "<h2>PercentSalaryHike vs Attrition:</h2>\n",
    "<p style = \"font-size: 19px; margin-bottom: 7px\">\n",
    "    Ho:There is no significant difference in percent salary hike of the employees who left and who didn't leave<br>\n",
    "    H1:There is significant difference in percent salary hike of the employees who left and who didn't leave<br>\n",
    "</p>\n",
    "<p style=\"margin-top: 10px;font-size: 17px;color:#333\">\n",
    "    First we shall be checking both the variables are parametric or not\n",
    "</p>"
   ]
  },
  {
   "cell_type": "code",
   "execution_count": 30,
   "metadata": {},
   "outputs": [
    {
     "data": {
      "text/html": [
       "<div>\n",
       "<style scoped>\n",
       "    .dataframe tbody tr th:only-of-type {\n",
       "        vertical-align: middle;\n",
       "    }\n",
       "\n",
       "    .dataframe tbody tr th {\n",
       "        vertical-align: top;\n",
       "    }\n",
       "\n",
       "    .dataframe thead th {\n",
       "        text-align: right;\n",
       "    }\n",
       "</style>\n",
       "<table border=\"1\" class=\"dataframe\">\n",
       "  <thead>\n",
       "    <tr style=\"text-align: right;\">\n",
       "      <th></th>\n",
       "      <th>Mean</th>\n",
       "      <th>Median</th>\n",
       "      <th>Mode</th>\n",
       "      <th>Skew</th>\n",
       "      <th>Kurt</th>\n",
       "    </tr>\n",
       "  </thead>\n",
       "  <tbody>\n",
       "    <tr>\n",
       "      <th>Attrited_PercentSalaryHike</th>\n",
       "      <td>15.481013</td>\n",
       "      <td>14.0</td>\n",
       "      <td>13</td>\n",
       "      <td>0.766943</td>\n",
       "      <td>-0.407232</td>\n",
       "    </tr>\n",
       "    <tr>\n",
       "      <th>Stayed_PercentSalaryHike</th>\n",
       "      <td>15.481013</td>\n",
       "      <td>14.0</td>\n",
       "      <td>11</td>\n",
       "      <td>0.831684</td>\n",
       "      <td>-0.278155</td>\n",
       "    </tr>\n",
       "  </tbody>\n",
       "</table>\n",
       "</div>"
      ],
      "text/plain": [
       "                                 Mean  Median  Mode      Skew      Kurt\n",
       "Attrited_PercentSalaryHike  15.481013    14.0    13  0.766943 -0.407232\n",
       "Stayed_PercentSalaryHike    15.481013    14.0    11  0.831684 -0.278155"
      ]
     },
     "execution_count": 30,
     "metadata": {},
     "output_type": "execute_result"
    },
    {
     "data": {
      "image/png": "[encoded data removed]",
      "text/plain": [
       "<Figure size 432x288 with 1 Axes>"
      ]
     },
     "metadata": {
      "needs_background": "light"
     },
     "output_type": "display_data"
    }
   ],
   "source": [
    "distribution_check(\"PercentSalaryHike\")"
   ]
  },
  {
   "cell_type": "markdown",
   "metadata": {},
   "source": [
    "<p style=\"margin-top: 10px;font-size: 17px;color:#333\">\n",
    "    From the above data, we can proceed using non parametric test<br>\n",
    "    Now there are two independent variables that are the people who left the company and the one's who didn't. We're comparing both these variable's salary hike percentage<br>\n",
    "Hence we will be using <b>Mann-Whitney Test</b>\n",
    "</p>"
   ]
  },
  {
   "cell_type": "code",
   "execution_count": 31,
   "metadata": {},
   "outputs": [
    {
     "name": "stdout",
     "output_type": "stream",
     "text": [
      "p = 0.11471348352261845\n",
      "Hence Ho is considered since p >= 0.05\n"
     ]
    }
   ],
   "source": [
    "stats, p = mannwhitneyu(df_stay.PercentSalaryHike, df_left.PercentSalaryHike)\n",
    "hypo_chooser(p)"
   ]
  },
  {
   "cell_type": "markdown",
   "metadata": {},
   "source": [
    "<p style=\"margin-top: 10px;font-size: 17px;color:#333\">\n",
    "    <b style = \"border-bottom: 3px solid blue; padding-bottom: 5px\">\n",
    "        Therefore, there are no dependencies between PercentSalaryHike and Attrition variables\n",
    "    </b>\n",
    "</p>"
   ]
  },
  {
   "cell_type": "markdown",
   "metadata": {},
   "source": [
    "<h2>StockOptionLevel vs Attrition:</h2>\n",
    "<p style = \"font-size: 19px; margin-bottom: 7px\">\n",
    "    Ho:There is no significant difference in stock option level of the employees who left and who didn't leave<br>\n",
    "    H1:There is significant difference in stock option level of the employees who left and who didn't leave<br>\n",
    "</p>\n",
    "<p style=\"margin-top: 10px;font-size: 17px;color:#333\">\n",
    "    First we shall be checking both the variables are parametric or not\n",
    "</p>"
   ]
  },
  {
   "cell_type": "code",
   "execution_count": 32,
   "metadata": {},
   "outputs": [
    {
     "data": {
      "text/html": [
       "<div>\n",
       "<style scoped>\n",
       "    .dataframe tbody tr th:only-of-type {\n",
       "        vertical-align: middle;\n",
       "    }\n",
       "\n",
       "    .dataframe tbody tr th {\n",
       "        vertical-align: top;\n",
       "    }\n",
       "\n",
       "    .dataframe thead th {\n",
       "        text-align: right;\n",
       "    }\n",
       "</style>\n",
       "<table border=\"1\" class=\"dataframe\">\n",
       "  <thead>\n",
       "    <tr style=\"text-align: right;\">\n",
       "      <th></th>\n",
       "      <th>Mean</th>\n",
       "      <th>Median</th>\n",
       "      <th>Mode</th>\n",
       "      <th>Skew</th>\n",
       "      <th>Kurt</th>\n",
       "    </tr>\n",
       "  </thead>\n",
       "  <tbody>\n",
       "    <tr>\n",
       "      <th>Attrited_StockOptionLevel</th>\n",
       "      <td>0.780591</td>\n",
       "      <td>1.0</td>\n",
       "      <td>0</td>\n",
       "      <td>0.963221</td>\n",
       "      <td>0.272327</td>\n",
       "    </tr>\n",
       "    <tr>\n",
       "      <th>Stayed_StockOptionLevel</th>\n",
       "      <td>0.780591</td>\n",
       "      <td>1.0</td>\n",
       "      <td>0</td>\n",
       "      <td>0.971550</td>\n",
       "      <td>0.389274</td>\n",
       "    </tr>\n",
       "  </tbody>\n",
       "</table>\n",
       "</div>"
      ],
      "text/plain": [
       "                               Mean  Median  Mode      Skew      Kurt\n",
       "Attrited_StockOptionLevel  0.780591     1.0     0  0.963221  0.272327\n",
       "Stayed_StockOptionLevel    0.780591     1.0     0  0.971550  0.389274"
      ]
     },
     "execution_count": 32,
     "metadata": {},
     "output_type": "execute_result"
    },
    {
     "data": {
      "image/png": "[encoded data removed]",
      "text/plain": [
       "<Figure size 432x288 with 1 Axes>"
      ]
     },
     "metadata": {
      "needs_background": "light"
     },
     "output_type": "display_data"
    }
   ],
   "source": [
    "distribution_check(\"StockOptionLevel\")"
   ]
  },
  {
   "cell_type": "markdown",
   "metadata": {},
   "source": [
    "<p style=\"margin-top: 10px;font-size: 17px;color:#333\">\n",
    "    From the above data, we can proceed using non parametric test<br>\n",
    "    Now there are two independent variables that are the people who left the company and the one's who didn't. We're comparing both these variable's stock optional level<br>\n",
    "Hence we will be using <b>Mann-Whitney Test</b>\n",
    "</p>"
   ]
  },
  {
   "cell_type": "code",
   "execution_count": 33,
   "metadata": {},
   "outputs": [
    {
     "name": "stdout",
     "output_type": "stream",
     "text": [
      "p = 0.3576509279897325\n",
      "Hence Ho is considered since p >= 0.05\n"
     ]
    }
   ],
   "source": [
    "stats, p = mannwhitneyu(df_stay.StockOptionLevel, df_left.StockOptionLevel)\n",
    "hypo_chooser(p)"
   ]
  },
  {
   "cell_type": "markdown",
   "metadata": {},
   "source": [
    "<p style=\"margin-top: 10px;font-size: 17px;color:#333\">\n",
    "    <b style = \"border-bottom: 3px solid blue; padding-bottom: 5px\">\n",
    "        Therefore, there are no dependencies between StockOptionLevel and Attrition variables\n",
    "    </b>\n",
    "</p>"
   ]
  },
  {
   "cell_type": "markdown",
   "metadata": {},
   "source": [
    "<h2>TotalWorkingYears vs Attrition:</h2>\n",
    "<p style = \"font-size: 19px; margin-bottom: 7px\">\n",
    "    Ho:There is no significant difference in total working years of the employees who left and who didn't leave<br>\n",
    "    H1:There is significant difference in total working years of the employees who left and who didn't leave<br>\n",
    "</p>\n",
    "<p style=\"margin-top: 10px;font-size: 17px;color:#333\">\n",
    "    First we shall be checking both the variables are parametric or not\n",
    "</p>"
   ]
  },
  {
   "cell_type": "code",
   "execution_count": 34,
   "metadata": {},
   "outputs": [
    {
     "data": {
      "text/html": [
       "<div>\n",
       "<style scoped>\n",
       "    .dataframe tbody tr th:only-of-type {\n",
       "        vertical-align: middle;\n",
       "    }\n",
       "\n",
       "    .dataframe tbody tr th {\n",
       "        vertical-align: top;\n",
       "    }\n",
       "\n",
       "    .dataframe thead th {\n",
       "        text-align: right;\n",
       "    }\n",
       "</style>\n",
       "<table border=\"1\" class=\"dataframe\">\n",
       "  <thead>\n",
       "    <tr style=\"text-align: right;\">\n",
       "      <th></th>\n",
       "      <th>Mean</th>\n",
       "      <th>Median</th>\n",
       "      <th>Mode</th>\n",
       "      <th>Skew</th>\n",
       "      <th>Kurt</th>\n",
       "    </tr>\n",
       "  </thead>\n",
       "  <tbody>\n",
       "    <tr>\n",
       "      <th>Attrited_TotalWorkingYears</th>\n",
       "      <td>8.244726</td>\n",
       "      <td>7.0</td>\n",
       "      <td>1.0</td>\n",
       "      <td>1.688158</td>\n",
       "      <td>3.784098</td>\n",
       "    </tr>\n",
       "    <tr>\n",
       "      <th>Stayed_TotalWorkingYears</th>\n",
       "      <td>8.244726</td>\n",
       "      <td>10.0</td>\n",
       "      <td>10.0</td>\n",
       "      <td>1.066923</td>\n",
       "      <td>0.678079</td>\n",
       "    </tr>\n",
       "  </tbody>\n",
       "</table>\n",
       "</div>"
      ],
      "text/plain": [
       "                                Mean  Median  Mode      Skew      Kurt\n",
       "Attrited_TotalWorkingYears  8.244726     7.0   1.0  1.688158  3.784098\n",
       "Stayed_TotalWorkingYears    8.244726    10.0  10.0  1.066923  0.678079"
      ]
     },
     "execution_count": 34,
     "metadata": {},
     "output_type": "execute_result"
    },
    {
     "data": {
      "image/png": "[encoded data removed]",
      "text/plain": [
       "<Figure size 432x288 with 1 Axes>"
      ]
     },
     "metadata": {
      "needs_background": "light"
     },
     "output_type": "display_data"
    }
   ],
   "source": [
    "distribution_check(\"TotalWorkingYears\")"
   ]
  },
  {
   "cell_type": "markdown",
   "metadata": {},
   "source": [
    "<p style=\"margin-top: 10px;font-size: 17px;color:#333\">\n",
    "    From the above data, we can proceed using non parametric test<br>\n",
    "    Now there are two independent variables that are the people who left the company and the one's who didn't. We're comparing both these variable's total working years<br>\n",
    "Hence we will be using <b>Mann-Whitney Test</b>\n",
    "</p>"
   ]
  },
  {
   "cell_type": "code",
   "execution_count": 35,
   "metadata": {},
   "outputs": [
    {
     "name": "stdout",
     "output_type": "stream",
     "text": [
      "p = 1.199784682399476e-14\n",
      "Hence H1 is considered since p < 0.05\n"
     ]
    }
   ],
   "source": [
    "stats, p = mannwhitneyu(df_stay.TotalWorkingYears, df_left.TotalWorkingYears)\n",
    "hypo_chooser(p)"
   ]
  },
  {
   "cell_type": "markdown",
   "metadata": {},
   "source": [
    "<p style=\"margin-top: 10px;font-size: 17px;color:#333\">\n",
    "    Therefore, there are dependencies between TotalWorkingYears and attrtion variables.<br>\n",
    "    Next we will be testing the correlation between both the variables<br>\n",
    "</p>\n",
    "<p style = \"font-size: 19px; margin-bottom: 7px\">\n",
    "    Ho:There is no interdepency in the TotalWorkingYears and Attrion variables<br>\n",
    "    H1:There is interdepency in the TotalWorkingYears and Attrion variables<br>\n",
    "</p>"
   ]
  },
  {
   "cell_type": "code",
   "execution_count": 36,
   "metadata": {},
   "outputs": [
    {
     "name": "stdout",
     "output_type": "stream",
     "text": [
      "There is interdepency between Attrition and TotalWorkingYears\n",
      "H1 is considered\n",
      "A weak negative correlation is found with r = -0.171\n",
      "Hence as TotalWorkingYears increases, Attrition decreases\n"
     ]
    }
   ],
   "source": [
    "corr_detector(\"TotalWorkingYears\")"
   ]
  },
  {
   "cell_type": "markdown",
   "metadata": {},
   "source": [
    "<p style = \"font-size: 19px; margin-bottom: 7px; color: brown\">\n",
    "<b style = \"border-bottom: 3px solid blue; padding-bottom: 5px\">\n",
    "    Hence attrition can be reduced by hiring employees having experience of around 10 years or above\n",
    "</b>\n",
    "</p>\n",
    "<p style = \"font-size: 19px; margin-bottom: 7px; color: brown\">\n",
    "<b style = \"border-bottom: 3px solid blue; padding-bottom: 5px\">\n",
    "    Or allowing courses sessions for employees to learn by a skilled employee\n",
    "</b>\n",
    "</p>"
   ]
  },
  {
   "cell_type": "markdown",
   "metadata": {},
   "source": [
    "<h2>TrainingTimesLastYear vs Attrition:</h2>\n",
    "<p style = \"font-size: 19px; margin-bottom: 7px\">\n",
    "    Ho:There is no significant difference in TrainingTimesLastYear of the employees who left and who didn't leave<br>\n",
    "    H1:There is significant difference in TrainingTimesLastYear of the employees who left and who didn't leave<br>\n",
    "</p>\n",
    "<p style=\"margin-top: 10px;font-size: 17px;color:#333\">\n",
    "    First we shall be checking both the variables are parametric or not\n",
    "</p>"
   ]
  },
  {
   "cell_type": "code",
   "execution_count": 37,
   "metadata": {},
   "outputs": [
    {
     "data": {
      "text/html": [
       "<div>\n",
       "<style scoped>\n",
       "    .dataframe tbody tr th:only-of-type {\n",
       "        vertical-align: middle;\n",
       "    }\n",
       "\n",
       "    .dataframe tbody tr th {\n",
       "        vertical-align: top;\n",
       "    }\n",
       "\n",
       "    .dataframe thead th {\n",
       "        text-align: right;\n",
       "    }\n",
       "</style>\n",
       "<table border=\"1\" class=\"dataframe\">\n",
       "  <thead>\n",
       "    <tr style=\"text-align: right;\">\n",
       "      <th></th>\n",
       "      <th>Mean</th>\n",
       "      <th>Median</th>\n",
       "      <th>Mode</th>\n",
       "      <th>Skew</th>\n",
       "      <th>Kurt</th>\n",
       "    </tr>\n",
       "  </thead>\n",
       "  <tbody>\n",
       "    <tr>\n",
       "      <th>Attrited_TrainingTimesLastYear</th>\n",
       "      <td>2.654008</td>\n",
       "      <td>3.0</td>\n",
       "      <td>2</td>\n",
       "      <td>0.423920</td>\n",
       "      <td>0.990962</td>\n",
       "    </tr>\n",
       "    <tr>\n",
       "      <th>Stayed_TrainingTimesLastYear</th>\n",
       "      <td>2.654008</td>\n",
       "      <td>3.0</td>\n",
       "      <td>2</td>\n",
       "      <td>0.556795</td>\n",
       "      <td>0.396856</td>\n",
       "    </tr>\n",
       "  </tbody>\n",
       "</table>\n",
       "</div>"
      ],
      "text/plain": [
       "                                    Mean  Median  Mode      Skew      Kurt\n",
       "Attrited_TrainingTimesLastYear  2.654008     3.0     2  0.423920  0.990962\n",
       "Stayed_TrainingTimesLastYear    2.654008     3.0     2  0.556795  0.396856"
      ]
     },
     "execution_count": 37,
     "metadata": {},
     "output_type": "execute_result"
    },
    {
     "data": {
      "image/png": "[encoded data removed]",
      "text/plain": [
       "<Figure size 432x288 with 1 Axes>"
      ]
     },
     "metadata": {
      "needs_background": "light"
     },
     "output_type": "display_data"
    }
   ],
   "source": [
    "distribution_check(\"TrainingTimesLastYear\")"
   ]
  },
  {
   "cell_type": "markdown",
   "metadata": {},
   "source": [
    "<p style=\"margin-top: 10px;font-size: 17px;color:#333\">\n",
    "    From the above data, we can proceed using non parametric test<br>\n",
    "    Now there are two independent variables that are the people who left the company and the one's who didn't. We're comparing both these variable's TrainingTimesLastYear<br>\n",
    "Hence we will be using <b>Mann-Whitney Test</b>\n",
    "</p>"
   ]
  },
  {
   "cell_type": "code",
   "execution_count": 38,
   "metadata": {},
   "outputs": [
    {
     "name": "stdout",
     "output_type": "stream",
     "text": [
      "p = 0.06941872499106916\n",
      "Hence Ho is considered since p >= 0.05\n"
     ]
    }
   ],
   "source": [
    "stats, p = mannwhitneyu(df_stay.TrainingTimesLastYear, df_left.TrainingTimesLastYear)\n",
    "hypo_chooser(p)"
   ]
  },
  {
   "cell_type": "markdown",
   "metadata": {},
   "source": [
    "<p style=\"margin-top: 10px;font-size: 17px;color:#333\">\n",
    "    <b style = \"border-bottom: 3px solid blue; padding-bottom: 5px\">\n",
    "        Therefore, there are no dependencies between TrainingTimesLastYear and Attrition variables\n",
    "    </b>\n",
    "</p>"
   ]
  },
  {
   "cell_type": "markdown",
   "metadata": {},
   "source": [
    "<h2>YearsAtCompany vs Attrition:</h2>\n",
    "<p style = \"font-size: 19px; margin-bottom: 7px\">\n",
    "    Ho:There is no significant difference in years at company of the employees who left and who didn't leave<br>\n",
    "    H1:There is significant difference in years at company of the employees who left and who didn't leave<br>\n",
    "</p>\n",
    "<p style=\"margin-top: 10px;font-size: 17px;color:#333\">\n",
    "    First we shall be checking both the variables are parametric or not\n",
    "</p>"
   ]
  },
  {
   "cell_type": "code",
   "execution_count": 39,
   "metadata": {},
   "outputs": [
    {
     "data": {
      "text/html": [
       "<div>\n",
       "<style scoped>\n",
       "    .dataframe tbody tr th:only-of-type {\n",
       "        vertical-align: middle;\n",
       "    }\n",
       "\n",
       "    .dataframe tbody tr th {\n",
       "        vertical-align: top;\n",
       "    }\n",
       "\n",
       "    .dataframe thead th {\n",
       "        text-align: right;\n",
       "    }\n",
       "</style>\n",
       "<table border=\"1\" class=\"dataframe\">\n",
       "  <thead>\n",
       "    <tr style=\"text-align: right;\">\n",
       "      <th></th>\n",
       "      <th>Mean</th>\n",
       "      <th>Median</th>\n",
       "      <th>Mode</th>\n",
       "      <th>Skew</th>\n",
       "      <th>Kurt</th>\n",
       "    </tr>\n",
       "  </thead>\n",
       "  <tbody>\n",
       "    <tr>\n",
       "      <th>Attrited_YearsAtCompany</th>\n",
       "      <td>5.130802</td>\n",
       "      <td>3.0</td>\n",
       "      <td>1</td>\n",
       "      <td>2.682244</td>\n",
       "      <td>9.608029</td>\n",
       "    </tr>\n",
       "    <tr>\n",
       "      <th>Stayed_YearsAtCompany</th>\n",
       "      <td>5.130802</td>\n",
       "      <td>6.0</td>\n",
       "      <td>5</td>\n",
       "      <td>1.657958</td>\n",
       "      <td>3.353473</td>\n",
       "    </tr>\n",
       "  </tbody>\n",
       "</table>\n",
       "</div>"
      ],
      "text/plain": [
       "                             Mean  Median  Mode      Skew      Kurt\n",
       "Attrited_YearsAtCompany  5.130802     3.0     1  2.682244  9.608029\n",
       "Stayed_YearsAtCompany    5.130802     6.0     5  1.657958  3.353473"
      ]
     },
     "execution_count": 39,
     "metadata": {},
     "output_type": "execute_result"
    },
    {
     "data": {
      "image/png": "[encoded data removed]",
      "text/plain": [
       "<Figure size 432x288 with 1 Axes>"
      ]
     },
     "metadata": {
      "needs_background": "light"
     },
     "output_type": "display_data"
    }
   ],
   "source": [
    "distribution_check(\"YearsAtCompany\")"
   ]
  },
  {
   "cell_type": "markdown",
   "metadata": {},
   "source": [
    "<p style=\"margin-top: 10px;font-size: 17px;color:#333\">\n",
    "    From the above data, we can proceed using non parametric test<br>\n",
    "    Now there are two independent variables that are the people who left the company and the one's who didn't. We're comparing both these variable's years at company<br>\n",
    "Hence we will be using <b>Mann-Whitney Test</b>\n",
    "</p>"
   ]
  },
  {
   "cell_type": "code",
   "execution_count": 40,
   "metadata": {},
   "outputs": [
    {
     "name": "stdout",
     "output_type": "stream",
     "text": [
      "p = 1.458095684978208e-13\n",
      "Hence H1 is considered since p < 0.05\n"
     ]
    }
   ],
   "source": [
    "stats, p = mannwhitneyu(df_stay.YearsAtCompany, df_left.YearsAtCompany)\n",
    "hypo_chooser(p)"
   ]
  },
  {
   "cell_type": "markdown",
   "metadata": {},
   "source": [
    "<p style=\"margin-top: 10px;font-size: 17px;color:#333\">\n",
    "    Therefore, there are dependencies between YearsAtCompany and attrtion variables.<br>\n",
    "    Next we will be testing the correlation between both the variables<br>\n",
    "</p>\n",
    "<p style = \"font-size: 19px; margin-bottom: 7px\">\n",
    "    Ho:There is no interdepency in the YearsAtCompany and Attrion variables<br>\n",
    "    H1:There is interdepency in the YearsAtCompany and Attrion variables<br>\n",
    "</p>"
   ]
  },
  {
   "cell_type": "code",
   "execution_count": 41,
   "metadata": {},
   "outputs": [
    {
     "name": "stdout",
     "output_type": "stream",
     "text": [
      "There is interdepency between Attrition and YearsAtCompany\n",
      "H1 is considered\n",
      "A weak negative correlation is found with r = -0.134\n",
      "Hence as YearsAtCompany increases, Attrition decreases\n"
     ]
    }
   ],
   "source": [
    "corr_detector(\"YearsAtCompany\")"
   ]
  },
  {
   "cell_type": "markdown",
   "metadata": {},
   "source": [
    "<p style = \"font-size: 19px; margin-bottom: 7px; color: brown\">\n",
    "<b style = \"border-bottom: 3px solid blue; padding-bottom: 5px\">\n",
    "    Hence attrition can be reduced by increasing bond with employees so they don't leave looking for other jobs</b>\n",
    "</p>"
   ]
  },
  {
   "cell_type": "markdown",
   "metadata": {},
   "source": [
    "<h2>YearsSinceLastPromotion vs Attrition:</h2>\n",
    "<p style = \"font-size: 19px; margin-bottom: 7px\">\n",
    "    Ho:There is no significant difference in years since last promotion of the employees who left and who didn't leave<br>\n",
    "    H1:There is significant difference in years since last promotion of the employees who left and who didn't leave<br>\n",
    "</p>\n",
    "<p style=\"margin-top: 10px;font-size: 17px;color:#333\">\n",
    "    First we shall be checking both the variables are parametric or not\n",
    "</p>"
   ]
  },
  {
   "cell_type": "code",
   "execution_count": 42,
   "metadata": {},
   "outputs": [
    {
     "data": {
      "text/html": [
       "<div>\n",
       "<style scoped>\n",
       "    .dataframe tbody tr th:only-of-type {\n",
       "        vertical-align: middle;\n",
       "    }\n",
       "\n",
       "    .dataframe tbody tr th {\n",
       "        vertical-align: top;\n",
       "    }\n",
       "\n",
       "    .dataframe thead th {\n",
       "        text-align: right;\n",
       "    }\n",
       "</style>\n",
       "<table border=\"1\" class=\"dataframe\">\n",
       "  <thead>\n",
       "    <tr style=\"text-align: right;\">\n",
       "      <th></th>\n",
       "      <th>Mean</th>\n",
       "      <th>Median</th>\n",
       "      <th>Mode</th>\n",
       "      <th>Skew</th>\n",
       "      <th>Kurt</th>\n",
       "    </tr>\n",
       "  </thead>\n",
       "  <tbody>\n",
       "    <tr>\n",
       "      <th>Attrited_YearsSinceLastPromotion</th>\n",
       "      <td>1.945148</td>\n",
       "      <td>1.0</td>\n",
       "      <td>0</td>\n",
       "      <td>2.217563</td>\n",
       "      <td>4.861144</td>\n",
       "    </tr>\n",
       "    <tr>\n",
       "      <th>Stayed_YearsSinceLastPromotion</th>\n",
       "      <td>1.945148</td>\n",
       "      <td>1.0</td>\n",
       "      <td>0</td>\n",
       "      <td>1.946710</td>\n",
       "      <td>3.430452</td>\n",
       "    </tr>\n",
       "  </tbody>\n",
       "</table>\n",
       "</div>"
      ],
      "text/plain": [
       "                                      Mean  Median  Mode      Skew      Kurt\n",
       "Attrited_YearsSinceLastPromotion  1.945148     1.0     0  2.217563  4.861144\n",
       "Stayed_YearsSinceLastPromotion    1.945148     1.0     0  1.946710  3.430452"
      ]
     },
     "execution_count": 42,
     "metadata": {},
     "output_type": "execute_result"
    },
    {
     "data": {
      "image/png": "[encoded data removed]",
      "text/plain": [
       "<Figure size 432x288 with 1 Axes>"
      ]
     },
     "metadata": {
      "needs_background": "light"
     },
     "output_type": "display_data"
    }
   ],
   "source": [
    "distribution_check(\"YearsSinceLastPromotion\")"
   ]
  },
  {
   "cell_type": "markdown",
   "metadata": {},
   "source": [
    "<p style=\"margin-top: 10px;font-size: 17px;color:#333\">\n",
    "    From the above data, we can proceed using non parametric test<br>\n",
    "    Now there are two independent variables that are the people who left the company and the one's who didn't. We're comparing both these variable's number of years since the last promotion was given to them<br>\n",
    "Hence we will be using <b>Mann-Whitney Test</b>\n",
    "</p>"
   ]
  },
  {
   "cell_type": "code",
   "execution_count": 43,
   "metadata": {},
   "outputs": [
    {
     "name": "stdout",
     "output_type": "stream",
     "text": [
      "p = 0.0205895528923632\n",
      "Hence H1 is considered since p < 0.05\n"
     ]
    }
   ],
   "source": [
    "stats, p = mannwhitneyu(df_stay.YearsSinceLastPromotion, df_left.YearsSinceLastPromotion)\n",
    "hypo_chooser(p)"
   ]
  },
  {
   "cell_type": "markdown",
   "metadata": {},
   "source": [
    "<p style=\"margin-top: 10px;font-size: 17px;color:#333\">\n",
    "    Therefore, there are dependencies between YearsSinceLastPromotion and attrtion variables.<br>\n",
    "    Next we will be testing the correlation between both the variables<br>\n",
    "</p>\n",
    "<p style = \"font-size: 19px; margin-bottom: 7px\">\n",
    "    Ho:There is no interdepency in the YearsSinceLastPromotion and Attrion variables<br>\n",
    "    H1:There is interdepency in the YearsSinceLastPromotion and Attrion variables<br>\n",
    "</p>"
   ]
  },
  {
   "cell_type": "code",
   "execution_count": 44,
   "metadata": {},
   "outputs": [
    {
     "name": "stdout",
     "output_type": "stream",
     "text": [
      "There is no interdepency between Attrition and YearsSinceLastPromotion\n"
     ]
    }
   ],
   "source": [
    "corr_detector(\"YearsSinceLastPromotion\")"
   ]
  },
  {
   "cell_type": "markdown",
   "metadata": {},
   "source": [
    "<p style = \"font-size: 19px; margin-bottom: 7px\">\n",
    "    It seems that employees leave right after they receive their promotion on that year itself\n",
    "</p>\n",
    "<p style = \"font-size: 19px; margin-bottom: 7px; color: brown\">\n",
    "    <b style = \"border-bottom: 3px solid blue; padding-bottom: 5px\">\n",
    "        Hence attrition can be reduced by discussing with employees about their job after receiving their promotion\n",
    "    </b>\n",
    "</p>"
   ]
  },
  {
   "cell_type": "markdown",
   "metadata": {},
   "source": [
    "<h2>YearsWithCurrManager vs Attrition:</h2>\n",
    "<p style = \"font-size: 19px; margin-bottom: 7px\">\n",
    "    Ho:There is no significant difference in years spent with the current manager by employees who left and who didn't leave<br>\n",
    "    H1:There is significant difference in years spent with the current manager by employees who left and who didn't leave<br>\n",
    "</p>\n",
    "<p style=\"margin-top: 10px;font-size: 17px;color:#333\">\n",
    "    First we shall be checking both the variables are parametric or not\n",
    "</p>"
   ]
  },
  {
   "cell_type": "code",
   "execution_count": 45,
   "metadata": {},
   "outputs": [
    {
     "data": {
      "text/html": [
       "<div>\n",
       "<style scoped>\n",
       "    .dataframe tbody tr th:only-of-type {\n",
       "        vertical-align: middle;\n",
       "    }\n",
       "\n",
       "    .dataframe tbody tr th {\n",
       "        vertical-align: top;\n",
       "    }\n",
       "\n",
       "    .dataframe thead th {\n",
       "        text-align: right;\n",
       "    }\n",
       "</style>\n",
       "<table border=\"1\" class=\"dataframe\">\n",
       "  <thead>\n",
       "    <tr style=\"text-align: right;\">\n",
       "      <th></th>\n",
       "      <th>Mean</th>\n",
       "      <th>Median</th>\n",
       "      <th>Mode</th>\n",
       "      <th>Skew</th>\n",
       "      <th>Kurt</th>\n",
       "    </tr>\n",
       "  </thead>\n",
       "  <tbody>\n",
       "    <tr>\n",
       "      <th>Attrited_YearsWithCurrManager</th>\n",
       "      <td>2.852321</td>\n",
       "      <td>2.0</td>\n",
       "      <td>0</td>\n",
       "      <td>1.029850</td>\n",
       "      <td>0.263528</td>\n",
       "    </tr>\n",
       "    <tr>\n",
       "      <th>Stayed_YearsWithCurrManager</th>\n",
       "      <td>2.852321</td>\n",
       "      <td>3.0</td>\n",
       "      <td>2</td>\n",
       "      <td>0.801229</td>\n",
       "      <td>0.139184</td>\n",
       "    </tr>\n",
       "  </tbody>\n",
       "</table>\n",
       "</div>"
      ],
      "text/plain": [
       "                                   Mean  Median  Mode      Skew      Kurt\n",
       "Attrited_YearsWithCurrManager  2.852321     2.0     0  1.029850  0.263528\n",
       "Stayed_YearsWithCurrManager    2.852321     3.0     2  0.801229  0.139184"
      ]
     },
     "execution_count": 45,
     "metadata": {},
     "output_type": "execute_result"
    },
    {
     "data": {
      "image/png": "[encoded data removed]",
      "text/plain": [
       "<Figure size 432x288 with 1 Axes>"
      ]
     },
     "metadata": {
      "needs_background": "light"
     },
     "output_type": "display_data"
    }
   ],
   "source": [
    "distribution_check(\"YearsWithCurrManager\")"
   ]
  },
  {
   "cell_type": "markdown",
   "metadata": {},
   "source": [
    "<p style=\"margin-top: 10px;font-size: 17px;color:#333\">\n",
    "    From the above data, we can proceed using non parametric test<br>\n",
    "    Now there are two independent variables that are the people who left the company and the one's who didn't. We're comparing both these variable's years spent with the current manager<br>\n",
    "Hence we will be using <b>Mann-Whitney Test</b>\n",
    "</p>"
   ]
  },
  {
   "cell_type": "code",
   "execution_count": 46,
   "metadata": {},
   "outputs": [
    {
     "name": "stdout",
     "output_type": "stream",
     "text": [
      "p = 9.033771291572203e-12\n",
      "Hence H1 is considered since p < 0.05\n"
     ]
    }
   ],
   "source": [
    "stats, p = mannwhitneyu(df_stay.YearsWithCurrManager, df_left.YearsWithCurrManager)\n",
    "hypo_chooser(p)"
   ]
  },
  {
   "cell_type": "markdown",
   "metadata": {},
   "source": [
    "<p style=\"margin-top: 10px;font-size: 17px;color:#333\">\n",
    "    Therefore, there are dependencies between YearsWithCurrManager and attrtion variables.<br>\n",
    "    Next we will be testing the correlation between both the variables<br>\n",
    "</p>\n",
    "<p style = \"font-size: 19px; margin-bottom: 7px\">\n",
    "    Ho:There is no interdepency in the YearsWithCurrManager and Attrion variables<br>\n",
    "    H1:There is interdepency in the YearsWithCurrManager and Attrion variables<br>\n",
    "</p>"
   ]
  },
  {
   "cell_type": "code",
   "execution_count": 47,
   "metadata": {},
   "outputs": [
    {
     "name": "stdout",
     "output_type": "stream",
     "text": [
      "There is interdepency between Attrition and YearsWithCurrManager\n",
      "H1 is considered\n",
      "A weak negative correlation is found with r = -0.156\n",
      "Hence as YearsWithCurrManager increases, Attrition decreases\n"
     ]
    }
   ],
   "source": [
    "corr_detector(\"YearsWithCurrManager\")"
   ]
  },
  {
   "cell_type": "markdown",
   "metadata": {},
   "source": [
    "<p style = \"font-size: 19px; margin-bottom: 7px\">\n",
    "    It seems that most employees leave on the same year as the new manager takes charge\n",
    "</p>\n",
    "<p style = \"font-size: 19px; margin-bottom: 7px; color: brown\">\n",
    "    <b style = \"border-bottom: 3px solid blue; padding-bottom: 5px\">\n",
    "        Hence attrition can be reduced by reducing the change in manager\n",
    "    </b>\n",
    "<p style = \"font-size: 19px; margin-bottom: 7px; color: brown\">\n",
    "    <p style = \"font-size: 19px; margin-bottom: 7px; color: brown\">\n",
    "    <b style = \"border-bottom: 3px solid blue; padding-bottom: 5px\">\n",
    "        Or having the new manager in the office a month early when he/she isn't in charge yet so the employees get\n",
    "    </b>\n",
    "    </p>\n",
    "    <p style = \"font-size: 19px; margin-bottom: 7px; color: brown\">\n",
    "    <b style = \"border-bottom: 3px solid blue; padding-bottom: 5px\">\n",
    "        used to him/her\n",
    "    </b>\n",
    "    </p>\n",
    "</p>"
   ]
  },
  {
   "cell_type": "code",
   "execution_count": 48,
   "metadata": {},
   "outputs": [],
   "source": [
    "suggestions = {\n",
    "    \"Suggestions\" : [\n",
    "        \"Attrition can be reduced by hiring aged employees having age of approximately 36 years old or above\", \n",
    "        \"Attrition can be reduced by reducing the buisiness travels for employees\", \n",
    "        \"Attrition can be reduced by building strong bonds with the HR department\",\n",
    "        \"Attrition can be reduced by keeping hiring of employees for the HR department strict so only the skilled and promising employees are taken\",\n",
    "        \"Attrition can be reduced by reducing hiring for people who are single\",\n",
    "        \"Attrition can be reduced by hiring employees having experience of around 10 years and above or allowing courses sessions for employees to learn by a skilled employee\",\n",
    "        \"Attrition can be reduced by increasing bond with employees so they don't leave looking for other jobs\",\n",
    "        \"Attrition can be reduced by discussing with employees about their job after receiving their promotion\",\n",
    "        \"Attrition can be reduced by reducing the change in manager or having the new manager in the office a month early when he/she isn't in charge yet so the employees get used to him/her\"\n",
    "    ],\n",
    "}"
   ]
  },
  {
   "cell_type": "code",
   "execution_count": 49,
   "metadata": {},
   "outputs": [
    {
     "data": {
      "text/html": [
       "<div>\n",
       "<style scoped>\n",
       "    .dataframe tbody tr th:only-of-type {\n",
       "        vertical-align: middle;\n",
       "    }\n",
       "\n",
       "    .dataframe tbody tr th {\n",
       "        vertical-align: top;\n",
       "    }\n",
       "\n",
       "    .dataframe thead th {\n",
       "        text-align: right;\n",
       "    }\n",
       "</style>\n",
       "<table border=\"1\" class=\"dataframe\">\n",
       "  <thead>\n",
       "    <tr style=\"text-align: right;\">\n",
       "      <th></th>\n",
       "      <th>Suggestions</th>\n",
       "    </tr>\n",
       "  </thead>\n",
       "  <tbody>\n",
       "    <tr>\n",
       "      <th>0</th>\n",
       "      <td>Attrition can be reduced by hiring aged employees having age of approximately 36 years old or above</td>\n",
       "    </tr>\n",
       "    <tr>\n",
       "      <th>1</th>\n",
       "      <td>Attrition can be reduced by reducing the buisiness travels for employees</td>\n",
       "    </tr>\n",
       "    <tr>\n",
       "      <th>2</th>\n",
       "      <td>Attrition can be reduced by building strong bonds with the HR department</td>\n",
       "    </tr>\n",
       "    <tr>\n",
       "      <th>3</th>\n",
       "      <td>Attrition can be reduced by keeping hiring of employees for the HR department strict so only the skilled and promising employees are taken</td>\n",
       "    </tr>\n",
       "    <tr>\n",
       "      <th>4</th>\n",
       "      <td>Attrition can be reduced by reducing hiring for people who are single</td>\n",
       "    </tr>\n",
       "    <tr>\n",
       "      <th>5</th>\n",
       "      <td>Attrition can be reduced by hiring employees having experience of around 10 years and above or allowing courses sessions for employees to learn by a skilled employee</td>\n",
       "    </tr>\n",
       "    <tr>\n",
       "      <th>6</th>\n",
       "      <td>Attrition can be reduced by increasing bond with employees so they don't leave looking for other jobs</td>\n",
       "    </tr>\n",
       "    <tr>\n",
       "      <th>7</th>\n",
       "      <td>Attrition can be reduced by discussing with employees about their job after receiving their promotion</td>\n",
       "    </tr>\n",
       "    <tr>\n",
       "      <th>8</th>\n",
       "      <td>Attrition can be reduced by reducing the change in manager or having the new manager in the office a month early when he/she isn't in charge yet so the employees get used to him/her</td>\n",
       "    </tr>\n",
       "  </tbody>\n",
       "</table>\n",
       "</div>"
      ],
      "text/plain": [
       "                                                                                                                                                                             Suggestions\n",
       "0                                                                                    Attrition can be reduced by hiring aged employees having age of approximately 36 years old or above\n",
       "1                                                                                                               Attrition can be reduced by reducing the buisiness travels for employees\n",
       "2                                                                                                               Attrition can be reduced by building strong bonds with the HR department\n",
       "3                                             Attrition can be reduced by keeping hiring of employees for the HR department strict so only the skilled and promising employees are taken\n",
       "4                                                                                                                  Attrition can be reduced by reducing hiring for people who are single\n",
       "5                  Attrition can be reduced by hiring employees having experience of around 10 years and above or allowing courses sessions for employees to learn by a skilled employee\n",
       "6                                                                                  Attrition can be reduced by increasing bond with employees so they don't leave looking for other jobs\n",
       "7                                                                                  Attrition can be reduced by discussing with employees about their job after receiving their promotion\n",
       "8  Attrition can be reduced by reducing the change in manager or having the new manager in the office a month early when he/she isn't in charge yet so the employees get used to him/her"
      ]
     },
     "execution_count": 49,
     "metadata": {},
     "output_type": "execute_result"
    }
   ],
   "source": [
    "dataframe = pd.DataFrame(suggestions)\n",
    "pd.options.display.max_colwidth = 200\n",
    "dataframe"
   ]
  },
  {
   "cell_type": "code",
   "execution_count": null,
   "metadata": {},
   "outputs": [],
   "source": []
  }
 ],
 "metadata": {
  "kernelspec": {
   "display_name": "Python 3",
   "language": "python",
   "name": "python3"
  },
  "language_info": {
   "codemirror_mode": {
    "name": "ipython",
    "version": 3
   },
   "file_extension": ".py",
   "mimetype": "text/x-python",
   "name": "python",
   "nbconvert_exporter": "python",
   "pygments_lexer": "ipython3",
   "version": "3.7.6"
  }
 },
 "nbformat": 4,
 "nbformat_minor": 4
}
