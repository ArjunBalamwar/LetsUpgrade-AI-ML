{
 "cells": [
  {
   "cell_type": "code",
   "execution_count": 1,
   "metadata": {},
   "outputs": [],
   "source": [
    "import pandas as pd \n",
    "import numpy as np\n",
    "import matplotlib.pyplot as plt\n",
    "from scipy.stats import pearsonr, wilcoxon, friedmanchisquare, mannwhitneyu, chi2_contingency\n",
    "import seaborn as sns"
   ]
  },
  {
   "cell_type": "code",
   "execution_count": 2,
   "metadata": {},
   "outputs": [],
   "source": [
    "na_vals = [\"NA\", \"Na\", \"NaN\", \"Missing\"]\n",
    "df = pd.read_csv(\"general_data.csv\", na_values = na_vals, index_col = \"EmployeeID\")"
   ]
  },
  {
   "cell_type": "code",
   "execution_count": 3,
   "metadata": {},
   "outputs": [],
   "source": [
    "df.drop_duplicates(inplace=True)\n",
    "df.dropna(how=\"any\", inplace=True)\n",
    "df.drop(columns = [\"Over18\", \"EmployeeCount\", \"StandardHours\"], inplace=True)"
   ]
  },
  {
   "cell_type": "code",
   "execution_count": 4,
   "metadata": {
    "scrolled": true
   },
   "outputs": [
    {
     "data": {
      "text/html": [
       "<div>\n",
       "<style scoped>\n",
       "    .dataframe tbody tr th:only-of-type {\n",
       "        vertical-align: middle;\n",
       "    }\n",
       "\n",
       "    .dataframe tbody tr th {\n",
       "        vertical-align: top;\n",
       "    }\n",
       "\n",
       "    .dataframe thead th {\n",
       "        text-align: right;\n",
       "    }\n",
       "</style>\n",
       "<table border=\"1\" class=\"dataframe\">\n",
       "  <thead>\n",
       "    <tr style=\"text-align: right;\">\n",
       "      <th></th>\n",
       "      <th>Age</th>\n",
       "      <th>Attrition</th>\n",
       "      <th>BusinessTravel</th>\n",
       "      <th>Department</th>\n",
       "      <th>DistanceFromHome</th>\n",
       "      <th>Education</th>\n",
       "      <th>EducationField</th>\n",
       "      <th>Gender</th>\n",
       "      <th>JobLevel</th>\n",
       "      <th>JobRole</th>\n",
       "      <th>MaritalStatus</th>\n",
       "      <th>MonthlyIncome</th>\n",
       "      <th>NumCompaniesWorked</th>\n",
       "      <th>PercentSalaryHike</th>\n",
       "      <th>StockOptionLevel</th>\n",
       "      <th>TotalWorkingYears</th>\n",
       "      <th>TrainingTimesLastYear</th>\n",
       "      <th>YearsAtCompany</th>\n",
       "      <th>YearsSinceLastPromotion</th>\n",
       "      <th>YearsWithCurrManager</th>\n",
       "    </tr>\n",
       "    <tr>\n",
       "      <th>EmployeeID</th>\n",
       "      <th></th>\n",
       "      <th></th>\n",
       "      <th></th>\n",
       "      <th></th>\n",
       "      <th></th>\n",
       "      <th></th>\n",
       "      <th></th>\n",
       "      <th></th>\n",
       "      <th></th>\n",
       "      <th></th>\n",
       "      <th></th>\n",
       "      <th></th>\n",
       "      <th></th>\n",
       "      <th></th>\n",
       "      <th></th>\n",
       "      <th></th>\n",
       "      <th></th>\n",
       "      <th></th>\n",
       "      <th></th>\n",
       "      <th></th>\n",
       "    </tr>\n",
       "  </thead>\n",
       "  <tbody>\n",
       "    <tr>\n",
       "      <th>1</th>\n",
       "      <td>51</td>\n",
       "      <td>No</td>\n",
       "      <td>Travel_Rarely</td>\n",
       "      <td>Sales</td>\n",
       "      <td>6</td>\n",
       "      <td>2</td>\n",
       "      <td>Life Sciences</td>\n",
       "      <td>Female</td>\n",
       "      <td>1</td>\n",
       "      <td>Healthcare Representative</td>\n",
       "      <td>Married</td>\n",
       "      <td>131160</td>\n",
       "      <td>1.0</td>\n",
       "      <td>11</td>\n",
       "      <td>0</td>\n",
       "      <td>1.0</td>\n",
       "      <td>6</td>\n",
       "      <td>1</td>\n",
       "      <td>0</td>\n",
       "      <td>0</td>\n",
       "    </tr>\n",
       "    <tr>\n",
       "      <th>2</th>\n",
       "      <td>31</td>\n",
       "      <td>Yes</td>\n",
       "      <td>Travel_Frequently</td>\n",
       "      <td>Research &amp; Development</td>\n",
       "      <td>10</td>\n",
       "      <td>1</td>\n",
       "      <td>Life Sciences</td>\n",
       "      <td>Female</td>\n",
       "      <td>1</td>\n",
       "      <td>Research Scientist</td>\n",
       "      <td>Single</td>\n",
       "      <td>41890</td>\n",
       "      <td>0.0</td>\n",
       "      <td>23</td>\n",
       "      <td>1</td>\n",
       "      <td>6.0</td>\n",
       "      <td>3</td>\n",
       "      <td>5</td>\n",
       "      <td>1</td>\n",
       "      <td>4</td>\n",
       "    </tr>\n",
       "    <tr>\n",
       "      <th>3</th>\n",
       "      <td>32</td>\n",
       "      <td>No</td>\n",
       "      <td>Travel_Frequently</td>\n",
       "      <td>Research &amp; Development</td>\n",
       "      <td>17</td>\n",
       "      <td>4</td>\n",
       "      <td>Other</td>\n",
       "      <td>Male</td>\n",
       "      <td>4</td>\n",
       "      <td>Sales Executive</td>\n",
       "      <td>Married</td>\n",
       "      <td>193280</td>\n",
       "      <td>1.0</td>\n",
       "      <td>15</td>\n",
       "      <td>3</td>\n",
       "      <td>5.0</td>\n",
       "      <td>2</td>\n",
       "      <td>5</td>\n",
       "      <td>0</td>\n",
       "      <td>3</td>\n",
       "    </tr>\n",
       "    <tr>\n",
       "      <th>4</th>\n",
       "      <td>38</td>\n",
       "      <td>No</td>\n",
       "      <td>Non-Travel</td>\n",
       "      <td>Research &amp; Development</td>\n",
       "      <td>2</td>\n",
       "      <td>5</td>\n",
       "      <td>Life Sciences</td>\n",
       "      <td>Male</td>\n",
       "      <td>3</td>\n",
       "      <td>Human Resources</td>\n",
       "      <td>Married</td>\n",
       "      <td>83210</td>\n",
       "      <td>3.0</td>\n",
       "      <td>11</td>\n",
       "      <td>3</td>\n",
       "      <td>13.0</td>\n",
       "      <td>5</td>\n",
       "      <td>8</td>\n",
       "      <td>7</td>\n",
       "      <td>5</td>\n",
       "    </tr>\n",
       "    <tr>\n",
       "      <th>5</th>\n",
       "      <td>32</td>\n",
       "      <td>No</td>\n",
       "      <td>Travel_Rarely</td>\n",
       "      <td>Research &amp; Development</td>\n",
       "      <td>10</td>\n",
       "      <td>1</td>\n",
       "      <td>Medical</td>\n",
       "      <td>Male</td>\n",
       "      <td>1</td>\n",
       "      <td>Sales Executive</td>\n",
       "      <td>Single</td>\n",
       "      <td>23420</td>\n",
       "      <td>4.0</td>\n",
       "      <td>12</td>\n",
       "      <td>2</td>\n",
       "      <td>9.0</td>\n",
       "      <td>2</td>\n",
       "      <td>6</td>\n",
       "      <td>0</td>\n",
       "      <td>4</td>\n",
       "    </tr>\n",
       "    <tr>\n",
       "      <th>6</th>\n",
       "      <td>46</td>\n",
       "      <td>No</td>\n",
       "      <td>Travel_Rarely</td>\n",
       "      <td>Research &amp; Development</td>\n",
       "      <td>8</td>\n",
       "      <td>3</td>\n",
       "      <td>Life Sciences</td>\n",
       "      <td>Female</td>\n",
       "      <td>4</td>\n",
       "      <td>Research Director</td>\n",
       "      <td>Married</td>\n",
       "      <td>40710</td>\n",
       "      <td>3.0</td>\n",
       "      <td>13</td>\n",
       "      <td>0</td>\n",
       "      <td>28.0</td>\n",
       "      <td>5</td>\n",
       "      <td>7</td>\n",
       "      <td>7</td>\n",
       "      <td>7</td>\n",
       "    </tr>\n",
       "    <tr>\n",
       "      <th>7</th>\n",
       "      <td>28</td>\n",
       "      <td>Yes</td>\n",
       "      <td>Travel_Rarely</td>\n",
       "      <td>Research &amp; Development</td>\n",
       "      <td>11</td>\n",
       "      <td>2</td>\n",
       "      <td>Medical</td>\n",
       "      <td>Male</td>\n",
       "      <td>2</td>\n",
       "      <td>Sales Executive</td>\n",
       "      <td>Single</td>\n",
       "      <td>58130</td>\n",
       "      <td>2.0</td>\n",
       "      <td>20</td>\n",
       "      <td>1</td>\n",
       "      <td>5.0</td>\n",
       "      <td>2</td>\n",
       "      <td>0</td>\n",
       "      <td>0</td>\n",
       "      <td>0</td>\n",
       "    </tr>\n",
       "    <tr>\n",
       "      <th>8</th>\n",
       "      <td>29</td>\n",
       "      <td>No</td>\n",
       "      <td>Travel_Rarely</td>\n",
       "      <td>Research &amp; Development</td>\n",
       "      <td>18</td>\n",
       "      <td>3</td>\n",
       "      <td>Life Sciences</td>\n",
       "      <td>Male</td>\n",
       "      <td>2</td>\n",
       "      <td>Sales Executive</td>\n",
       "      <td>Married</td>\n",
       "      <td>31430</td>\n",
       "      <td>2.0</td>\n",
       "      <td>22</td>\n",
       "      <td>3</td>\n",
       "      <td>10.0</td>\n",
       "      <td>2</td>\n",
       "      <td>0</td>\n",
       "      <td>0</td>\n",
       "      <td>0</td>\n",
       "    </tr>\n",
       "    <tr>\n",
       "      <th>9</th>\n",
       "      <td>31</td>\n",
       "      <td>No</td>\n",
       "      <td>Travel_Rarely</td>\n",
       "      <td>Research &amp; Development</td>\n",
       "      <td>1</td>\n",
       "      <td>3</td>\n",
       "      <td>Life Sciences</td>\n",
       "      <td>Male</td>\n",
       "      <td>3</td>\n",
       "      <td>Laboratory Technician</td>\n",
       "      <td>Married</td>\n",
       "      <td>20440</td>\n",
       "      <td>0.0</td>\n",
       "      <td>21</td>\n",
       "      <td>0</td>\n",
       "      <td>10.0</td>\n",
       "      <td>2</td>\n",
       "      <td>9</td>\n",
       "      <td>7</td>\n",
       "      <td>8</td>\n",
       "    </tr>\n",
       "    <tr>\n",
       "      <th>10</th>\n",
       "      <td>25</td>\n",
       "      <td>No</td>\n",
       "      <td>Non-Travel</td>\n",
       "      <td>Research &amp; Development</td>\n",
       "      <td>7</td>\n",
       "      <td>4</td>\n",
       "      <td>Medical</td>\n",
       "      <td>Female</td>\n",
       "      <td>4</td>\n",
       "      <td>Laboratory Technician</td>\n",
       "      <td>Divorced</td>\n",
       "      <td>134640</td>\n",
       "      <td>1.0</td>\n",
       "      <td>13</td>\n",
       "      <td>1</td>\n",
       "      <td>6.0</td>\n",
       "      <td>2</td>\n",
       "      <td>6</td>\n",
       "      <td>1</td>\n",
       "      <td>5</td>\n",
       "    </tr>\n",
       "    <tr>\n",
       "      <th>11</th>\n",
       "      <td>45</td>\n",
       "      <td>No</td>\n",
       "      <td>Travel_Rarely</td>\n",
       "      <td>Research &amp; Development</td>\n",
       "      <td>17</td>\n",
       "      <td>2</td>\n",
       "      <td>Medical</td>\n",
       "      <td>Male</td>\n",
       "      <td>2</td>\n",
       "      <td>Laboratory Technician</td>\n",
       "      <td>Married</td>\n",
       "      <td>79910</td>\n",
       "      <td>0.0</td>\n",
       "      <td>13</td>\n",
       "      <td>2</td>\n",
       "      <td>21.0</td>\n",
       "      <td>2</td>\n",
       "      <td>20</td>\n",
       "      <td>4</td>\n",
       "      <td>10</td>\n",
       "    </tr>\n",
       "    <tr>\n",
       "      <th>12</th>\n",
       "      <td>36</td>\n",
       "      <td>No</td>\n",
       "      <td>Travel_Rarely</td>\n",
       "      <td>Research &amp; Development</td>\n",
       "      <td>28</td>\n",
       "      <td>1</td>\n",
       "      <td>Life Sciences</td>\n",
       "      <td>Male</td>\n",
       "      <td>1</td>\n",
       "      <td>Laboratory Technician</td>\n",
       "      <td>Married</td>\n",
       "      <td>33770</td>\n",
       "      <td>0.0</td>\n",
       "      <td>12</td>\n",
       "      <td>2</td>\n",
       "      <td>16.0</td>\n",
       "      <td>2</td>\n",
       "      <td>15</td>\n",
       "      <td>10</td>\n",
       "      <td>11</td>\n",
       "    </tr>\n",
       "    <tr>\n",
       "      <th>13</th>\n",
       "      <td>55</td>\n",
       "      <td>No</td>\n",
       "      <td>Travel_Rarely</td>\n",
       "      <td>Research &amp; Development</td>\n",
       "      <td>14</td>\n",
       "      <td>4</td>\n",
       "      <td>Life Sciences</td>\n",
       "      <td>Female</td>\n",
       "      <td>1</td>\n",
       "      <td>Sales Executive</td>\n",
       "      <td>Single</td>\n",
       "      <td>55380</td>\n",
       "      <td>0.0</td>\n",
       "      <td>17</td>\n",
       "      <td>0</td>\n",
       "      <td>37.0</td>\n",
       "      <td>2</td>\n",
       "      <td>36</td>\n",
       "      <td>4</td>\n",
       "      <td>13</td>\n",
       "    </tr>\n",
       "    <tr>\n",
       "      <th>14</th>\n",
       "      <td>47</td>\n",
       "      <td>Yes</td>\n",
       "      <td>Non-Travel</td>\n",
       "      <td>Research &amp; Development</td>\n",
       "      <td>1</td>\n",
       "      <td>1</td>\n",
       "      <td>Medical</td>\n",
       "      <td>Male</td>\n",
       "      <td>1</td>\n",
       "      <td>Research Scientist</td>\n",
       "      <td>Married</td>\n",
       "      <td>57620</td>\n",
       "      <td>1.0</td>\n",
       "      <td>11</td>\n",
       "      <td>2</td>\n",
       "      <td>10.0</td>\n",
       "      <td>4</td>\n",
       "      <td>10</td>\n",
       "      <td>9</td>\n",
       "      <td>9</td>\n",
       "    </tr>\n",
       "    <tr>\n",
       "      <th>15</th>\n",
       "      <td>28</td>\n",
       "      <td>No</td>\n",
       "      <td>Travel_Rarely</td>\n",
       "      <td>Research &amp; Development</td>\n",
       "      <td>1</td>\n",
       "      <td>3</td>\n",
       "      <td>Life Sciences</td>\n",
       "      <td>Male</td>\n",
       "      <td>1</td>\n",
       "      <td>Manufacturing Director</td>\n",
       "      <td>Married</td>\n",
       "      <td>25920</td>\n",
       "      <td>1.0</td>\n",
       "      <td>14</td>\n",
       "      <td>0</td>\n",
       "      <td>5.0</td>\n",
       "      <td>2</td>\n",
       "      <td>5</td>\n",
       "      <td>0</td>\n",
       "      <td>4</td>\n",
       "    </tr>\n",
       "  </tbody>\n",
       "</table>\n",
       "</div>"
      ],
      "text/plain": [
       "            Age Attrition     BusinessTravel              Department  \\\n",
       "EmployeeID                                                             \n",
       "1            51        No      Travel_Rarely                   Sales   \n",
       "2            31       Yes  Travel_Frequently  Research & Development   \n",
       "3            32        No  Travel_Frequently  Research & Development   \n",
       "4            38        No         Non-Travel  Research & Development   \n",
       "5            32        No      Travel_Rarely  Research & Development   \n",
       "6            46        No      Travel_Rarely  Research & Development   \n",
       "7            28       Yes      Travel_Rarely  Research & Development   \n",
       "8            29        No      Travel_Rarely  Research & Development   \n",
       "9            31        No      Travel_Rarely  Research & Development   \n",
       "10           25        No         Non-Travel  Research & Development   \n",
       "11           45        No      Travel_Rarely  Research & Development   \n",
       "12           36        No      Travel_Rarely  Research & Development   \n",
       "13           55        No      Travel_Rarely  Research & Development   \n",
       "14           47       Yes         Non-Travel  Research & Development   \n",
       "15           28        No      Travel_Rarely  Research & Development   \n",
       "\n",
       "            DistanceFromHome  Education EducationField  Gender  JobLevel  \\\n",
       "EmployeeID                                                                 \n",
       "1                          6          2  Life Sciences  Female         1   \n",
       "2                         10          1  Life Sciences  Female         1   \n",
       "3                         17          4          Other    Male         4   \n",
       "4                          2          5  Life Sciences    Male         3   \n",
       "5                         10          1        Medical    Male         1   \n",
       "6                          8          3  Life Sciences  Female         4   \n",
       "7                         11          2        Medical    Male         2   \n",
       "8                         18          3  Life Sciences    Male         2   \n",
       "9                          1          3  Life Sciences    Male         3   \n",
       "10                         7          4        Medical  Female         4   \n",
       "11                        17          2        Medical    Male         2   \n",
       "12                        28          1  Life Sciences    Male         1   \n",
       "13                        14          4  Life Sciences  Female         1   \n",
       "14                         1          1        Medical    Male         1   \n",
       "15                         1          3  Life Sciences    Male         1   \n",
       "\n",
       "                              JobRole MaritalStatus  MonthlyIncome  \\\n",
       "EmployeeID                                                           \n",
       "1           Healthcare Representative       Married         131160   \n",
       "2                  Research Scientist        Single          41890   \n",
       "3                     Sales Executive       Married         193280   \n",
       "4                     Human Resources       Married          83210   \n",
       "5                     Sales Executive        Single          23420   \n",
       "6                   Research Director       Married          40710   \n",
       "7                     Sales Executive        Single          58130   \n",
       "8                     Sales Executive       Married          31430   \n",
       "9               Laboratory Technician       Married          20440   \n",
       "10              Laboratory Technician      Divorced         134640   \n",
       "11              Laboratory Technician       Married          79910   \n",
       "12              Laboratory Technician       Married          33770   \n",
       "13                    Sales Executive        Single          55380   \n",
       "14                 Research Scientist       Married          57620   \n",
       "15             Manufacturing Director       Married          25920   \n",
       "\n",
       "            NumCompaniesWorked  PercentSalaryHike  StockOptionLevel  \\\n",
       "EmployeeID                                                            \n",
       "1                          1.0                 11                 0   \n",
       "2                          0.0                 23                 1   \n",
       "3                          1.0                 15                 3   \n",
       "4                          3.0                 11                 3   \n",
       "5                          4.0                 12                 2   \n",
       "6                          3.0                 13                 0   \n",
       "7                          2.0                 20                 1   \n",
       "8                          2.0                 22                 3   \n",
       "9                          0.0                 21                 0   \n",
       "10                         1.0                 13                 1   \n",
       "11                         0.0                 13                 2   \n",
       "12                         0.0                 12                 2   \n",
       "13                         0.0                 17                 0   \n",
       "14                         1.0                 11                 2   \n",
       "15                         1.0                 14                 0   \n",
       "\n",
       "            TotalWorkingYears  TrainingTimesLastYear  YearsAtCompany  \\\n",
       "EmployeeID                                                             \n",
       "1                         1.0                      6               1   \n",
       "2                         6.0                      3               5   \n",
       "3                         5.0                      2               5   \n",
       "4                        13.0                      5               8   \n",
       "5                         9.0                      2               6   \n",
       "6                        28.0                      5               7   \n",
       "7                         5.0                      2               0   \n",
       "8                        10.0                      2               0   \n",
       "9                        10.0                      2               9   \n",
       "10                        6.0                      2               6   \n",
       "11                       21.0                      2              20   \n",
       "12                       16.0                      2              15   \n",
       "13                       37.0                      2              36   \n",
       "14                       10.0                      4              10   \n",
       "15                        5.0                      2               5   \n",
       "\n",
       "            YearsSinceLastPromotion  YearsWithCurrManager  \n",
       "EmployeeID                                                 \n",
       "1                                 0                     0  \n",
       "2                                 1                     4  \n",
       "3                                 0                     3  \n",
       "4                                 7                     5  \n",
       "5                                 0                     4  \n",
       "6                                 7                     7  \n",
       "7                                 0                     0  \n",
       "8                                 0                     0  \n",
       "9                                 7                     8  \n",
       "10                                1                     5  \n",
       "11                                4                    10  \n",
       "12                               10                    11  \n",
       "13                                4                    13  \n",
       "14                                9                     9  \n",
       "15                                0                     4  "
      ]
     },
     "execution_count": 4,
     "metadata": {},
     "output_type": "execute_result"
    }
   ],
   "source": [
    "df.head(15)"
   ]
  },
  {
   "cell_type": "code",
   "execution_count": 5,
   "metadata": {},
   "outputs": [],
   "source": [
    "df_left = df[df[\"Attrition\"] == \"Yes\"]\n",
    "df_stay = df[df[\"Attrition\"] == \"No\"]\n",
    "df_stay.reset_index(drop=True, inplace=True)\n",
    "df_left.reset_index(drop=True, inplace=True)"
   ]
  },
  {
   "cell_type": "code",
   "execution_count": 6,
   "metadata": {},
   "outputs": [],
   "source": [
    "def hypo_chooser(p):\n",
    "    print(f\"p = {p}\\nHence \",end = \"\")\n",
    "    if p >= 0.05:\n",
    "        print(\"Ho is considered since p >= 0.05\")\n",
    "    else:\n",
    "        print(\"H1 is considered since p < 0.05\")"
   ]
  },
  {
   "cell_type": "markdown",
   "metadata": {},
   "source": [
    "<h2>Hypothesis 1:</h2>\n",
    "<p style = \"font-size: 19px; margin-bottom: 7px\">Ho:There is no significant difference in the age of the employees who left and who didn't leave<br>\n",
    "H1:There is a significant difference in the age of the employees who left and who didn't leave<br></p>\n",
    "<p style=\"margin-top: 10px;font-size: 19px;color:#333\">There are two two independent variables that are the people who left the company and the one's who didn't. We're comparing both these variable's age<br>\n",
    "Hence we will be using Mann-Whitney Test statistic</p>"
   ]
  },
  {
   "cell_type": "code",
   "execution_count": 7,
   "metadata": {},
   "outputs": [
    {
     "name": "stdout",
     "output_type": "stream",
     "text": [
      "p = 2.652171037670851e-11\n",
      "Hence H1 is considered since p < 0.05\n",
      "Therefore there's a \n"
     ]
    }
   ],
   "source": [
    "stats, p = mannwhitneyu(df_stay.Age, df_left.Age)\n",
    "hypo_chooser(p)\n",
    "print(\"Therefore there's a \")"
   ]
  },
  {
   "cell_type": "markdown",
   "metadata": {},
   "source": [
    "<h2>Hypothesis 2:</h2>\n",
    "<p style = \"font-size: 19px; margin-bottom: 7px\">Ho:There is no dependency between BusinessTravel and Attribution<br>\n",
    "H1:There is dependency between BusinessTravel and Attribution<br></p>\n",
    "<div style=\"margin-top: 10px;font-size: 19px;color:#333\">Since we're checking the dependency of categorical variables<br>\n",
    "Therefore we will be using chi square test statistic<br>\n",
    "Making A Chi Table</div>"
   ]
  },
  {
   "cell_type": "code",
   "execution_count": 8,
   "metadata": {},
   "outputs": [
    {
     "data": {
      "text/html": [
       "<div>\n",
       "<style scoped>\n",
       "    .dataframe tbody tr th:only-of-type {\n",
       "        vertical-align: middle;\n",
       "    }\n",
       "\n",
       "    .dataframe tbody tr th {\n",
       "        vertical-align: top;\n",
       "    }\n",
       "\n",
       "    .dataframe thead th {\n",
       "        text-align: right;\n",
       "    }\n",
       "</style>\n",
       "<table border=\"1\" class=\"dataframe\">\n",
       "  <thead>\n",
       "    <tr style=\"text-align: right;\">\n",
       "      <th>BusinessTravel</th>\n",
       "      <th>Non-Travel</th>\n",
       "      <th>Travel_Frequently</th>\n",
       "      <th>Travel_Rarely</th>\n",
       "    </tr>\n",
       "    <tr>\n",
       "      <th>Attrition</th>\n",
       "      <th></th>\n",
       "      <th></th>\n",
       "      <th></th>\n",
       "    </tr>\n",
       "  </thead>\n",
       "  <tbody>\n",
       "    <tr>\n",
       "      <th>No</th>\n",
       "      <td>138</td>\n",
       "      <td>208</td>\n",
       "      <td>887</td>\n",
       "    </tr>\n",
       "    <tr>\n",
       "      <th>Yes</th>\n",
       "      <td>12</td>\n",
       "      <td>69</td>\n",
       "      <td>156</td>\n",
       "    </tr>\n",
       "  </tbody>\n",
       "</table>\n",
       "</div>"
      ],
      "text/plain": [
       "BusinessTravel  Non-Travel  Travel_Frequently  Travel_Rarely\n",
       "Attrition                                                   \n",
       "No                     138                208            887\n",
       "Yes                     12                 69            156"
      ]
     },
     "execution_count": 8,
     "metadata": {},
     "output_type": "execute_result"
    }
   ],
   "source": [
    "chitable = pd.crosstab(df.Attrition, df.BusinessTravel)\n",
    "chitable"
   ]
  },
  {
   "cell_type": "markdown",
   "metadata": {},
   "source": [
    "<div style=\"font-size: 19px; color:#333\">Finding value of p</div>"
   ]
  },
  {
   "cell_type": "code",
   "execution_count": 9,
   "metadata": {},
   "outputs": [
    {
     "name": "stdout",
     "output_type": "stream",
     "text": [
      "p = 5.608614476449931e-06\n",
      "Hence H1 is considered since p < 0.05\n"
     ]
    }
   ],
   "source": [
    "stats, p, dof, expected = chi2_contingency(chitable)\n",
    "hypo_chooser(p)"
   ]
  },
  {
   "cell_type": "markdown",
   "metadata": {},
   "source": [
    "<h2>Hypothesis 3:</h2>\n",
    "<p style = \"font-size: 19px; margin-bottom: 7px\">Ho:There is no dependency between Department and Attribution<br>\n",
    "H1:There is dependency between Department and Attribution<br></p>\n",
    "<div style=\"margin-top: 10px;font-size: 19px;color:#333\">Since we're checking the dependency of categorical variables<br>\n",
    "Therefore we will be using chi square test statistic<br>\n",
    "Making A Chi Table</div>"
   ]
  },
  {
   "cell_type": "code",
   "execution_count": 10,
   "metadata": {},
   "outputs": [
    {
     "data": {
      "text/html": [
       "<div>\n",
       "<style scoped>\n",
       "    .dataframe tbody tr th:only-of-type {\n",
       "        vertical-align: middle;\n",
       "    }\n",
       "\n",
       "    .dataframe tbody tr th {\n",
       "        vertical-align: top;\n",
       "    }\n",
       "\n",
       "    .dataframe thead th {\n",
       "        text-align: right;\n",
       "    }\n",
       "</style>\n",
       "<table border=\"1\" class=\"dataframe\">\n",
       "  <thead>\n",
       "    <tr style=\"text-align: right;\">\n",
       "      <th>Department</th>\n",
       "      <th>Human Resources</th>\n",
       "      <th>Research &amp; Development</th>\n",
       "      <th>Sales</th>\n",
       "    </tr>\n",
       "    <tr>\n",
       "      <th>Attrition</th>\n",
       "      <th></th>\n",
       "      <th></th>\n",
       "      <th></th>\n",
       "    </tr>\n",
       "  </thead>\n",
       "  <tbody>\n",
       "    <tr>\n",
       "      <th>No</th>\n",
       "      <td>44</td>\n",
       "      <td>810</td>\n",
       "      <td>379</td>\n",
       "    </tr>\n",
       "    <tr>\n",
       "      <th>Yes</th>\n",
       "      <td>19</td>\n",
       "      <td>151</td>\n",
       "      <td>67</td>\n",
       "    </tr>\n",
       "  </tbody>\n",
       "</table>\n",
       "</div>"
      ],
      "text/plain": [
       "Department  Human Resources  Research & Development  Sales\n",
       "Attrition                                                 \n",
       "No                       44                     810    379\n",
       "Yes                      19                     151     67"
      ]
     },
     "execution_count": 10,
     "metadata": {},
     "output_type": "execute_result"
    }
   ],
   "source": [
    "chitable = pd.crosstab(df.Attrition, df.Department)\n",
    "chitable"
   ]
  },
  {
   "cell_type": "markdown",
   "metadata": {},
   "source": [
    "<div style=\"font-size: 19px; color:#333\">Finding value of p</div>"
   ]
  },
  {
   "cell_type": "code",
   "execution_count": 11,
   "metadata": {},
   "outputs": [
    {
     "name": "stdout",
     "output_type": "stream",
     "text": [
      "p = 0.007841076431711646\n",
      "Hence H1 is considered since p < 0.05\n"
     ]
    }
   ],
   "source": [
    "stats, p, dof, expected = chi2_contingency(chitable)\n",
    "hypo_chooser(p)"
   ]
  },
  {
   "cell_type": "markdown",
   "metadata": {},
   "source": [
    "<h2>Hypothesis 4:</h2>\n",
    "<p style = \"font-size: 19px; margin-bottom: 7px\">Ho:There is no significant difference in the distance from home of the employees who left and who didn't leave<br>\n",
    "H1:There is no significant difference in the distance from home of the employees who left and who didn't leave<br></p>\n",
    "<p style=\"margin-top: 10px;font-size: 19px;color:#333\">There are two two independent variables that are the people who left the company and the one's who didn't. We're comparing both these variable's distance from home<br>\n",
    "Hence we will be using Mann-Whitney Test statistic</p>"
   ]
  },
  {
   "cell_type": "code",
   "execution_count": 12,
   "metadata": {},
   "outputs": [
    {
     "name": "stdout",
     "output_type": "stream",
     "text": [
      "p = 0.4786049358224514\n",
      "Hence Ho is considered since p >= 0.05\n"
     ]
    }
   ],
   "source": [
    "stats, p = mannwhitneyu(df_left.DistanceFromHome, df_stay.DistanceFromHome)\n",
    "hypo_chooser(p)"
   ]
  },
  {
   "cell_type": "markdown",
   "metadata": {},
   "source": [
    "<h2>Hypothesis 5:</h2>\n",
    "<p style = \"font-size: 19px; margin-bottom: 7px\">Ho:There is no dependency between Education and Attribution<br>\n",
    "H1:There is dependency between Education and Attribution<br></p>\n",
    "<div style=\"margin-top: 10px;font-size: 19px;color:#333\">Since we're checking the dependency of categorical variables<br>\n",
    "Therefore we will be using chi square test statistic<br>\n",
    "Making A Chi Table</div>"
   ]
  },
  {
   "cell_type": "code",
   "execution_count": 13,
   "metadata": {},
   "outputs": [
    {
     "data": {
      "text/html": [
       "<div>\n",
       "<style scoped>\n",
       "    .dataframe tbody tr th:only-of-type {\n",
       "        vertical-align: middle;\n",
       "    }\n",
       "\n",
       "    .dataframe tbody tr th {\n",
       "        vertical-align: top;\n",
       "    }\n",
       "\n",
       "    .dataframe thead th {\n",
       "        text-align: right;\n",
       "    }\n",
       "</style>\n",
       "<table border=\"1\" class=\"dataframe\">\n",
       "  <thead>\n",
       "    <tr style=\"text-align: right;\">\n",
       "      <th>Education</th>\n",
       "      <th>1</th>\n",
       "      <th>2</th>\n",
       "      <th>3</th>\n",
       "      <th>4</th>\n",
       "      <th>5</th>\n",
       "    </tr>\n",
       "    <tr>\n",
       "      <th>Attrition</th>\n",
       "      <th></th>\n",
       "      <th></th>\n",
       "      <th></th>\n",
       "      <th></th>\n",
       "      <th></th>\n",
       "    </tr>\n",
       "  </thead>\n",
       "  <tbody>\n",
       "    <tr>\n",
       "      <th>No</th>\n",
       "      <td>144</td>\n",
       "      <td>229</td>\n",
       "      <td>483</td>\n",
       "      <td>336</td>\n",
       "      <td>41</td>\n",
       "    </tr>\n",
       "    <tr>\n",
       "      <th>Yes</th>\n",
       "      <td>26</td>\n",
       "      <td>53</td>\n",
       "      <td>89</td>\n",
       "      <td>62</td>\n",
       "      <td>7</td>\n",
       "    </tr>\n",
       "  </tbody>\n",
       "</table>\n",
       "</div>"
      ],
      "text/plain": [
       "Education    1    2    3    4   5\n",
       "Attrition                        \n",
       "No         144  229  483  336  41\n",
       "Yes         26   53   89   62   7"
      ]
     },
     "execution_count": 13,
     "metadata": {},
     "output_type": "execute_result"
    }
   ],
   "source": [
    "chitable = pd.crosstab(df.Attrition,df.Education)\n",
    "chitable"
   ]
  },
  {
   "cell_type": "markdown",
   "metadata": {},
   "source": [
    "<div style=\"font-size: 19px; color:#333\">Finding value of p</div>"
   ]
  },
  {
   "cell_type": "code",
   "execution_count": 14,
   "metadata": {},
   "outputs": [
    {
     "name": "stdout",
     "output_type": "stream",
     "text": [
      "p = 0.7577477640783867\n",
      "Hence Ho is considered since p >= 0.05\n"
     ]
    }
   ],
   "source": [
    "stats, p, dof, expected = chi2_contingency(chitable)\n",
    "hypo_chooser(p)"
   ]
  },
  {
   "cell_type": "markdown",
   "metadata": {},
   "source": [
    "<h2>Hypothesis 6:</h2>\n",
    "<p style = \"font-size: 19px; margin-bottom: 7px\">Ho:There is no dependency between EducationField and Attribution<br>\n",
    "H1:There is dependency between EducationField and Attribution<br></p>\n",
    "<div style=\"margin-top: 10px;font-size: 19px;color:#333\">Since we're checking the dependency of categorical variables<br>\n",
    "Therefore we will be using chi square test statistic<br>\n",
    "Making A Chi Table</div>"
   ]
  },
  {
   "cell_type": "code",
   "execution_count": 15,
   "metadata": {},
   "outputs": [
    {
     "data": {
      "text/html": [
       "<div>\n",
       "<style scoped>\n",
       "    .dataframe tbody tr th:only-of-type {\n",
       "        vertical-align: middle;\n",
       "    }\n",
       "\n",
       "    .dataframe tbody tr th {\n",
       "        vertical-align: top;\n",
       "    }\n",
       "\n",
       "    .dataframe thead th {\n",
       "        text-align: right;\n",
       "    }\n",
       "</style>\n",
       "<table border=\"1\" class=\"dataframe\">\n",
       "  <thead>\n",
       "    <tr style=\"text-align: right;\">\n",
       "      <th>EducationField</th>\n",
       "      <th>Human Resources</th>\n",
       "      <th>Life Sciences</th>\n",
       "      <th>Marketing</th>\n",
       "      <th>Medical</th>\n",
       "      <th>Other</th>\n",
       "      <th>Technical Degree</th>\n",
       "    </tr>\n",
       "    <tr>\n",
       "      <th>Attrition</th>\n",
       "      <th></th>\n",
       "      <th></th>\n",
       "      <th></th>\n",
       "      <th></th>\n",
       "      <th></th>\n",
       "      <th></th>\n",
       "    </tr>\n",
       "  </thead>\n",
       "  <tbody>\n",
       "    <tr>\n",
       "      <th>No</th>\n",
       "      <td>16</td>\n",
       "      <td>505</td>\n",
       "      <td>134</td>\n",
       "      <td>389</td>\n",
       "      <td>72</td>\n",
       "      <td>117</td>\n",
       "    </tr>\n",
       "    <tr>\n",
       "      <th>Yes</th>\n",
       "      <td>11</td>\n",
       "      <td>101</td>\n",
       "      <td>25</td>\n",
       "      <td>75</td>\n",
       "      <td>10</td>\n",
       "      <td>15</td>\n",
       "    </tr>\n",
       "  </tbody>\n",
       "</table>\n",
       "</div>"
      ],
      "text/plain": [
       "EducationField  Human Resources  Life Sciences  Marketing  Medical  Other  \\\n",
       "Attrition                                                                   \n",
       "No                           16            505        134      389     72   \n",
       "Yes                          11            101         25       75     10   \n",
       "\n",
       "EducationField  Technical Degree  \n",
       "Attrition                         \n",
       "No                           117  \n",
       "Yes                           15  "
      ]
     },
     "execution_count": 15,
     "metadata": {},
     "output_type": "execute_result"
    }
   ],
   "source": [
    "chitable = pd.crosstab(df.Attrition,df.EducationField)\n",
    "chitable"
   ]
  },
  {
   "cell_type": "markdown",
   "metadata": {},
   "source": [
    "<div style=\"font-size: 19px; color:#333\">Finding value of p</div>"
   ]
  },
  {
   "cell_type": "code",
   "execution_count": 16,
   "metadata": {},
   "outputs": [
    {
     "name": "stdout",
     "output_type": "stream",
     "text": [
      "p = 0.00878935071037593\n",
      "Hence H1 is considered since p < 0.05\n"
     ]
    }
   ],
   "source": [
    "stats, p, dof, expected = chi2_contingency(chitable)\n",
    "hypo_chooser(p)"
   ]
  },
  {
   "cell_type": "markdown",
   "metadata": {},
   "source": [
    "<h2>Hypothesis 7:</h2>\n",
    "<p style = \"font-size: 19px; margin-bottom: 7px\">Ho:There is no dependency between JobRole and Attrition<br>\n",
    "H1:There is dependency between JobRole and Attribution<br></p>\n",
    "<div style=\"margin-top: 10px;font-size: 19px;color:#333\">Since we're checking the dependency of categorical variables<br>\n",
    "Therefore we will be using chi square test statistic<br>\n",
    "Making A Chi Table</div>"
   ]
  },
  {
   "cell_type": "code",
   "execution_count": 17,
   "metadata": {},
   "outputs": [
    {
     "data": {
      "text/html": [
       "<div>\n",
       "<style scoped>\n",
       "    .dataframe tbody tr th:only-of-type {\n",
       "        vertical-align: middle;\n",
       "    }\n",
       "\n",
       "    .dataframe tbody tr th {\n",
       "        vertical-align: top;\n",
       "    }\n",
       "\n",
       "    .dataframe thead th {\n",
       "        text-align: right;\n",
       "    }\n",
       "</style>\n",
       "<table border=\"1\" class=\"dataframe\">\n",
       "  <thead>\n",
       "    <tr style=\"text-align: right;\">\n",
       "      <th>JobRole</th>\n",
       "      <th>Healthcare Representative</th>\n",
       "      <th>Human Resources</th>\n",
       "      <th>Laboratory Technician</th>\n",
       "      <th>Manager</th>\n",
       "      <th>Manufacturing Director</th>\n",
       "      <th>Research Director</th>\n",
       "      <th>Research Scientist</th>\n",
       "      <th>Sales Executive</th>\n",
       "      <th>Sales Representative</th>\n",
       "    </tr>\n",
       "    <tr>\n",
       "      <th>Attrition</th>\n",
       "      <th></th>\n",
       "      <th></th>\n",
       "      <th></th>\n",
       "      <th></th>\n",
       "      <th></th>\n",
       "      <th></th>\n",
       "      <th></th>\n",
       "      <th></th>\n",
       "      <th></th>\n",
       "    </tr>\n",
       "  </thead>\n",
       "  <tbody>\n",
       "    <tr>\n",
       "      <th>No</th>\n",
       "      <td>112</td>\n",
       "      <td>45</td>\n",
       "      <td>217</td>\n",
       "      <td>88</td>\n",
       "      <td>129</td>\n",
       "      <td>61</td>\n",
       "      <td>239</td>\n",
       "      <td>271</td>\n",
       "      <td>71</td>\n",
       "    </tr>\n",
       "    <tr>\n",
       "      <th>Yes</th>\n",
       "      <td>19</td>\n",
       "      <td>7</td>\n",
       "      <td>42</td>\n",
       "      <td>14</td>\n",
       "      <td>16</td>\n",
       "      <td>19</td>\n",
       "      <td>53</td>\n",
       "      <td>55</td>\n",
       "      <td>12</td>\n",
       "    </tr>\n",
       "  </tbody>\n",
       "</table>\n",
       "</div>"
      ],
      "text/plain": [
       "JobRole    Healthcare Representative  Human Resources  Laboratory Technician  \\\n",
       "Attrition                                                                      \n",
       "No                               112               45                    217   \n",
       "Yes                               19                7                     42   \n",
       "\n",
       "JobRole    Manager  Manufacturing Director  Research Director  \\\n",
       "Attrition                                                       \n",
       "No              88                     129                 61   \n",
       "Yes             14                      16                 19   \n",
       "\n",
       "JobRole    Research Scientist  Sales Executive  Sales Representative  \n",
       "Attrition                                                             \n",
       "No                        239              271                    71  \n",
       "Yes                        53               55                    12  "
      ]
     },
     "execution_count": 17,
     "metadata": {},
     "output_type": "execute_result"
    }
   ],
   "source": [
    "chitable = pd.crosstab(df.Attrition,df.JobRole)\n",
    "chitable"
   ]
  },
  {
   "cell_type": "markdown",
   "metadata": {},
   "source": [
    "<div style=\"font-size: 19px; color:#333\">Finding value of p</div>"
   ]
  },
  {
   "cell_type": "code",
   "execution_count": 18,
   "metadata": {},
   "outputs": [
    {
     "name": "stdout",
     "output_type": "stream",
     "text": [
      "p = 0.3979911431958358\n",
      "Hence Ho is considered since p >= 0.05\n"
     ]
    }
   ],
   "source": [
    "stats, p, dof, expected = chi2_contingency(chitable)\n",
    "hypo_chooser(p)"
   ]
  },
  {
   "cell_type": "markdown",
   "metadata": {},
   "source": [
    "<h2>Hypothesis 8:</h2>\n",
    "<p style = \"font-size: 19px; margin-bottom: 7px\">Ho:There is no dependency between MaritalStatus and Attrition<br>\n",
    "H1:There is dependency between MaritalStatus and Attribution<br></p>\n",
    "<div style=\"margin-top: 10px;font-size: 19px;color:#333\">Since we're checking the dependency of categorical variables<br>\n",
    "Therefore we will be using chi square test statistic<br>\n",
    "Making A Chi Table</div>"
   ]
  },
  {
   "cell_type": "code",
   "execution_count": 19,
   "metadata": {},
   "outputs": [
    {
     "data": {
      "text/html": [
       "<div>\n",
       "<style scoped>\n",
       "    .dataframe tbody tr th:only-of-type {\n",
       "        vertical-align: middle;\n",
       "    }\n",
       "\n",
       "    .dataframe tbody tr th {\n",
       "        vertical-align: top;\n",
       "    }\n",
       "\n",
       "    .dataframe thead th {\n",
       "        text-align: right;\n",
       "    }\n",
       "</style>\n",
       "<table border=\"1\" class=\"dataframe\">\n",
       "  <thead>\n",
       "    <tr style=\"text-align: right;\">\n",
       "      <th>MaritalStatus</th>\n",
       "      <th>Divorced</th>\n",
       "      <th>Married</th>\n",
       "      <th>Single</th>\n",
       "    </tr>\n",
       "    <tr>\n",
       "      <th>Attrition</th>\n",
       "      <th></th>\n",
       "      <th></th>\n",
       "      <th></th>\n",
       "    </tr>\n",
       "  </thead>\n",
       "  <tbody>\n",
       "    <tr>\n",
       "      <th>No</th>\n",
       "      <td>294</td>\n",
       "      <td>589</td>\n",
       "      <td>350</td>\n",
       "    </tr>\n",
       "    <tr>\n",
       "      <th>Yes</th>\n",
       "      <td>33</td>\n",
       "      <td>84</td>\n",
       "      <td>120</td>\n",
       "    </tr>\n",
       "  </tbody>\n",
       "</table>\n",
       "</div>"
      ],
      "text/plain": [
       "MaritalStatus  Divorced  Married  Single\n",
       "Attrition                               \n",
       "No                  294      589     350\n",
       "Yes                  33       84     120"
      ]
     },
     "execution_count": 19,
     "metadata": {},
     "output_type": "execute_result"
    }
   ],
   "source": [
    "chi_table = pd.crosstab(df.Attrition, df.MaritalStatus)\n",
    "chi_table"
   ]
  },
  {
   "cell_type": "markdown",
   "metadata": {},
   "source": [
    "<div style=\"font-size: 19px; color:#333\">Finding value of p</div>"
   ]
  },
  {
   "cell_type": "code",
   "execution_count": 20,
   "metadata": {},
   "outputs": [
    {
     "name": "stdout",
     "output_type": "stream",
     "text": [
      "p = 0.3979911431958358\n",
      "Hence Ho is considered since p >= 0.05\n"
     ]
    }
   ],
   "source": [
    "stats, p, dof, expected = chi2_contingency(chitable)\n",
    "hypo_chooser(p)"
   ]
  },
  {
   "cell_type": "markdown",
   "metadata": {},
   "source": [
    "<h2>Hypothesis 9:</h2>\n",
    "<p style = \"font-size: 19px; margin-bottom: 7px\">Ho:There is no significant difference in the monthly income of employees who left and who didn't leave<br>\n",
    "H1:There is significant difference in the monthly income of employees who left and who didn't leave<br></p>\n",
    "<div style=\"margin-top: 10px;font-size: 19px;color:#333\">There are two two independent variables that are the people who left the company and the one's who didn't. We're comparing both these variable's monthly income<br>\n",
    "Hence we will be using Mann-Whitney Test statistic</div>"
   ]
  },
  {
   "cell_type": "code",
   "execution_count": 21,
   "metadata": {},
   "outputs": [
    {
     "name": "stdout",
     "output_type": "stream",
     "text": [
      "p = 0.17621332994327893\n",
      "Hence Ho is considered since p >= 0.05\n"
     ]
    }
   ],
   "source": [
    "stats, p = mannwhitneyu(df_left.MonthlyIncome, df_stay.MonthlyIncome)\n",
    "hypo_chooser(p)"
   ]
  },
  {
   "cell_type": "markdown",
   "metadata": {},
   "source": [
    "<h2>Hypothesis 10:</h2>\n",
    "<p style = \"font-size: 19px; margin-bottom: 7px\">Ho:There is no significant difference in total working years of employees who left and who didn't leave<br>\n",
    "H1:There is significant difference in total working years of employees who left and who didn't leave<br></p>\n",
    "<div style=\"margin-top: 10px;font-size: 19px;color:#333\">There are two two independent variables that are the people who left the company and the one's who didn't. We're comparing both these variable's total working years<br>\n",
    "Hence we will be using Mann-Whitney Test statistic</div>"
   ]
  },
  {
   "cell_type": "code",
   "execution_count": 22,
   "metadata": {},
   "outputs": [
    {
     "name": "stdout",
     "output_type": "stream",
     "text": [
      "p = 1.199784682399476e-14\n",
      "Hence H1 is considered since p < 0.05\n"
     ]
    }
   ],
   "source": [
    "stats, p = mannwhitneyu(df_left.TotalWorkingYears, df_stay.TotalWorkingYears)\n",
    "hypo_chooser(p)"
   ]
  },
  {
   "cell_type": "markdown",
   "metadata": {},
   "source": [
    "<h2>Hypothesis 11:</h2>\n",
    "<p style = \"font-size: 19px; margin-bottom: 7px\">Ho:There is no significant difference in number of years at company of employees who left and who didn't leave<br>\n",
    "H1:There is significant difference in number of years at company of employees who left and who didn't leave<br></p>\n",
    "<div style=\"margin-top: 10px;font-size: 19px;color:#333\">There are two two independent variables that are the people who left the company and the one's who didn't. We're comparing both these variable's number of years spent at this company<br>\n",
    "Hence we will be using Mann-Whitney Test</div>"
   ]
  },
  {
   "cell_type": "code",
   "execution_count": 23,
   "metadata": {},
   "outputs": [
    {
     "name": "stdout",
     "output_type": "stream",
     "text": [
      "p = 1.458095684978208e-13\n",
      "Hence H1 is considered since p < 0.05\n"
     ]
    }
   ],
   "source": [
    "stats, p = mannwhitneyu(df_left.YearsAtCompany, df_stay.YearsAtCompany)\n",
    "hypo_chooser(p)"
   ]
  },
  {
   "cell_type": "markdown",
   "metadata": {},
   "source": [
    "<h2>Hypothesis 12:</h2>\n",
    "<p style = \"font-size: 19px; margin-bottom: 7px\">Ho:There is no significant difference in number of years with current manager of employees who left and who didn't leave<br>\n",
    "H1:There is significant difference in number of years with current boss of employees who left and who didn't leave<br></p>\n",
    "<div style=\"margin-top: 10px;font-size: 19px;color:#333\">There are two two independent variables that are the people who left the company and the one's who didn't. We're comparing both these variable's number of years with the current manager<br>\n",
    "Hence we will be using Mann-Whitney Test</div>"
   ]
  },
  {
   "cell_type": "code",
   "execution_count": 24,
   "metadata": {},
   "outputs": [
    {
     "name": "stdout",
     "output_type": "stream",
     "text": [
      "p = 9.033771291572203e-12\n",
      "Hence H1 is considered since p < 0.05\n"
     ]
    }
   ],
   "source": [
    "stats, p = mannwhitneyu(df_left.YearsWithCurrManager, df_stay.YearsWithCurrManager)\n",
    "hypo_chooser(p)"
   ]
  },
  {
   "cell_type": "markdown",
   "metadata": {},
   "source": [
    "<h2>Hypothesis 13:</h2>\n",
    "<p style = \"font-size: 19px; margin-bottom: 7px\">Ho:There is no dependency between Gender and Attrition<br>\n",
    "H1:There is dependency between Gender and Attribution<br></p>\n",
    "<div style=\"margin-top: 10px;font-size: 19px;color:#333\">Since we're checking the dependency of categorical variables<br>\n",
    "Therefore we will be using chi square test statistic<br>\n",
    "Making A Chi Table</div>"
   ]
  },
  {
   "cell_type": "code",
   "execution_count": 25,
   "metadata": {},
   "outputs": [
    {
     "data": {
      "text/html": [
       "<div>\n",
       "<style scoped>\n",
       "    .dataframe tbody tr th:only-of-type {\n",
       "        vertical-align: middle;\n",
       "    }\n",
       "\n",
       "    .dataframe tbody tr th {\n",
       "        vertical-align: top;\n",
       "    }\n",
       "\n",
       "    .dataframe thead th {\n",
       "        text-align: right;\n",
       "    }\n",
       "</style>\n",
       "<table border=\"1\" class=\"dataframe\">\n",
       "  <thead>\n",
       "    <tr style=\"text-align: right;\">\n",
       "      <th>Gender</th>\n",
       "      <th>Female</th>\n",
       "      <th>Male</th>\n",
       "    </tr>\n",
       "    <tr>\n",
       "      <th>Attrition</th>\n",
       "      <th></th>\n",
       "      <th></th>\n",
       "    </tr>\n",
       "  </thead>\n",
       "  <tbody>\n",
       "    <tr>\n",
       "      <th>No</th>\n",
       "      <td>498</td>\n",
       "      <td>735</td>\n",
       "    </tr>\n",
       "    <tr>\n",
       "      <th>Yes</th>\n",
       "      <td>90</td>\n",
       "      <td>147</td>\n",
       "    </tr>\n",
       "  </tbody>\n",
       "</table>\n",
       "</div>"
      ],
      "text/plain": [
       "Gender     Female  Male\n",
       "Attrition              \n",
       "No            498   735\n",
       "Yes            90   147"
      ]
     },
     "execution_count": 25,
     "metadata": {},
     "output_type": "execute_result"
    }
   ],
   "source": [
    "chi_table = pd.crosstab(df.Attrition, df.Gender)\n</div>",
    "chi_table"
   ]
  },
  {
   "cell_type": "markdown",
   "metadata": {},
   "source": [
    "<div style=\"font-size: 19px; color:#333\">Finding value of p"
   ]
  },
  {
   "cell_type": "code",
   "execution_count": 26,
   "metadata": {},
   "outputs": [
    {
     "name": "stdout",
     "output_type": "stream",
     "text": [
      "p = 0.5335882358793274\n",
      "Hence Ho is considered since p >= 0.05\n"
     ]
    }
   ],
   "source": [
    "stats, p, dof, expected = chi2_contingency(chi_table)\n",
    "hypo_chooser(p)"
   ]
  },
  {
   "cell_type": "markdown",
   "metadata": {},
   "source": [
    "<h2>Hypothesis 14:</h2>\n",
    "<p style = \"font-size: 19px; margin-bottom: 7px\">Ho:There is no dependency between JobLevel and Attrition<br>\n",
    "H1:There is dependency between JobLevel and Attribution<br></p>\n",
    "<div style=\"margin-top: 10px;font-size: 19px;color:#333\">Since we're checking the dependency of categorical variables<br>\n",
    "Therefore we will be using chi square test statistic<br>\n",
    "Making A Chi Table</div>"
   ]
  },
  {
   "cell_type": "code",
   "execution_count": 27,
   "metadata": {},
   "outputs": [
    {
     "data": {
      "text/html": [
       "<div>\n",
       "<style scoped>\n",
       "    .dataframe tbody tr th:only-of-type {\n",
       "        vertical-align: middle;\n",
       "    }\n",
       "\n",
       "    .dataframe tbody tr th {\n",
       "        vertical-align: top;\n",
       "    }\n",
       "\n",
       "    .dataframe thead th {\n",
       "        text-align: right;\n",
       "    }\n",
       "</style>\n",
       "<table border=\"1\" class=\"dataframe\">\n",
       "  <thead>\n",
       "    <tr style=\"text-align: right;\">\n",
       "      <th>JobLevel</th>\n",
       "      <th>1</th>\n",
       "      <th>2</th>\n",
       "      <th>3</th>\n",
       "      <th>4</th>\n",
       "      <th>5</th>\n",
       "    </tr>\n",
       "    <tr>\n",
       "      <th>Attrition</th>\n",
       "      <th></th>\n",
       "      <th></th>\n",
       "      <th></th>\n",
       "      <th></th>\n",
       "      <th></th>\n",
       "    </tr>\n",
       "  </thead>\n",
       "  <tbody>\n",
       "    <tr>\n",
       "      <th>No</th>\n",
       "      <td>459</td>\n",
       "      <td>439</td>\n",
       "      <td>186</td>\n",
       "      <td>89</td>\n",
       "      <td>60</td>\n",
       "    </tr>\n",
       "    <tr>\n",
       "      <th>Yes</th>\n",
       "      <td>84</td>\n",
       "      <td>95</td>\n",
       "      <td>32</td>\n",
       "      <td>17</td>\n",
       "      <td>9</td>\n",
       "    </tr>\n",
       "  </tbody>\n",
       "</table>\n",
       "</div>"
      ],
      "text/plain": [
       "JobLevel     1    2    3   4   5\n",
       "Attrition                       \n",
       "No         459  439  186  89  60\n",
       "Yes         84   95   32  17   9"
      ]
     },
     "execution_count": 27,
     "metadata": {},
     "output_type": "execute_result"
    }
   ],
   "source": [
    "chi_table = pd.crosstab(df.Attrition, df.JobLevel)\n</div>",
    "chi_table"
   ]
  },
  {
   "cell_type": "markdown",
   "metadata": {},
   "source": [
    "<div style=\"font-size: 19px; color:#333\">Finding value of p</div>"
   ]
  },
  {
   "cell_type": "code",
   "execution_count": 28,
   "metadata": {},
   "outputs": [
    {
     "name": "stdout",
     "output_type": "stream",
     "text": [
      "p = 0.7192602477461423\n",
      "Hence Ho is considered since p >= 0.05\n"
     ]
    }
   ],
   "source": [
    "stats, p, dof, expected = chi2_contingency(chi_table)\n",
    "hypo_chooser(p)"
   ]
  },
  {
   "cell_type": "markdown",
   "metadata": {},
   "source": [
    "<h2>Hypothesis 15:</h2>\n",
    "<p style = \"font-size: 19px; margin-bottom: 7px\">Ho:There is no significant difference in number of companies worked by employees who left and who didn't leave<br>\n",
    "H1:There is no significant difference in number of companies worked by employees who left and who didn't leave<br></p>\n",
    "<div style=\"margin-top: 10px;font-size: 19px;color:#333\">There are two two independent variables that are the people who left the company and the one's who didn't. We're comparing both these variable's number of companies they worked in<br>\n",
    "Hence we will be using Mann-Whitney Test<div>"
   ]
  },
  {
   "cell_type": "code",
   "execution_count": 29,
   "metadata": {},
   "outputs": [
    {
     "name": "stdout",
     "output_type": "stream",
     "text": [
      "p = 0.12118252544058267\n",
      "Hence Ho is considered since p >= 0.05\n"
     ]
    }
   ],
   "source": [
    "stats, p = mannwhitneyu(df_left.NumCompaniesWorked, df_stay.NumCompaniesWorked)\n",
    "hypo_chooser(p)"
   ]
  },
  {
   "cell_type": "markdown",
   "metadata": {},
   "source": [
    "<h2>Hypothesis 16:</h2>\n",
    "<p style = \"font-size: 19px; margin-bottom: 7px\">Ho:There is no significant difference in percent salary hike of employees who left and who didn't leave<br>\n",
    "H1:There is significant difference in percent salary hike of employees who left and who didn't leave<br></p>\n",
    "<div style=\"margin-top: 10px;font-size: 19px;color:#333\">There are two two independent variables that are the people who left the company and the one's who didn't. We're comparing both these variable's percent salary hike<br>\n",
    "Hence we will be using Mann-Whitney Test<div>"
   ]
  },
  {
   "cell_type": "code",
   "execution_count": 30,
   "metadata": {},
   "outputs": [
    {
     "name": "stdout",
     "output_type": "stream",
     "text": [
      "p = 0.11471348352261845\n",
      "Hence Ho is considered since p >= 0.05\n"
     ]
    }
   ],
   "source": [
    "stats, p = mannwhitneyu(df_left.PercentSalaryHike, df_stay.PercentSalaryHike)\n",
    "hypo_chooser(p)"
   ]
  },
  {
   "cell_type": "code",
   "execution_count": 31,
   "metadata": {},
   "outputs": [
    {
     "data": {
      "text/plain": [
       "Index(['Age', 'Attrition', 'BusinessTravel', 'Department', 'DistanceFromHome',\n",
       "       'Education', 'EducationField', 'Gender', 'JobLevel', 'JobRole',\n",
       "       'MaritalStatus', 'MonthlyIncome', 'NumCompaniesWorked',\n",
       "       'PercentSalaryHike', 'StockOptionLevel', 'TotalWorkingYears',\n",
       "       'TrainingTimesLastYear', 'YearsAtCompany', 'YearsSinceLastPromotion',\n",
       "       'YearsWithCurrManager'],\n",
       "      dtype='object')"
      ]
     },
     "execution_count": 31,
     "metadata": {},
     "output_type": "execute_result"
    }
   ],
   "source": [
    "df.columns"
   ]
  },
  {
   "cell_type": "code",
   "execution_count": null,
   "metadata": {},
   "outputs": [],
   "source": []
  }
 ],
 "metadata": {
  "kernelspec": {
   "display_name": "Python 3",
   "language": "python",
   "name": "python3"
  },
  "language_info": {
   "codemirror_mode": {
    "name": "ipython",
    "version": 3
   },
   "file_extension": ".py",
   "mimetype": "text/x-python",
   "name": "python",
   "nbconvert_exporter": "python",
   "pygments_lexer": "ipython3",
   "version": "3.7.6"
  }
 },
 "nbformat": 4,
 "nbformat_minor": 4
}
