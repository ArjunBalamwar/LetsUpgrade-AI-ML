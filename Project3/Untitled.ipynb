{
 "cells": [
  {
   "cell_type": "code",
   "execution_count": 43,
   "metadata": {},
   "outputs": [],
   "source": [
    "import pandas as pd\n",
    "import numpy as np\n",
    "import matplotlib.pyplot as plt\n",
    "import seaborn as sns\n",
    "from scipy.stats import pearsonr\n",
    "from seaborn import pairplot \n",
    "from sklearn.model_selection import train_test_split\n",
    "from sklearn.preprocessing import StandardScaler,MinMaxScaler,RobustScaler\n",
    "import statsmodels.api as sm\n",
    "from sklearn import tree\n",
    "from sklearn.linear_model import LogisticRegression\n",
    "from sklearn.tree import DecisionTreeClassifier\n",
    "from sklearn.tree import export_graphviz\n",
    "# from sklearn.externals.six import StringIO\n",
    "from IPython.display import Image\n",
    "# import pydotplus\n",
    "# import graphviz\n",
    "from os import system\n",
    "from sklearn.neighbors import KNeighborsClassifier\n",
    "from sklearn.svm import SVC\n",
    "from sklearn.naive_bayes import GaussianNB\n",
    "from sklearn.ensemble import RandomForestClassifier, BaggingClassifier, AdaBoostClassifier, GradientBoostingClassifier\n",
    "from sklearn.metrics import accuracy_score, confusion_matrix,recall_score, precision_score,classification_report,roc_auc_score,precision_score, roc_auc_score\n",
    "from xgboost import XGBClassifier\n",
    "from lightgbm import LGBMClassifier\n",
    "from catboost import CatBoostClassifier\n",
    "from sklearn.preprocessing import LabelEncoder\n",
    "le = LabelEncoder()"
   ]
  },
  {
   "cell_type": "code",
   "execution_count": 44,
   "metadata": {},
   "outputs": [
    {
     "data": {
      "text/html": [
       "<div>\n",
       "<style scoped>\n",
       "    .dataframe tbody tr th:only-of-type {\n",
       "        vertical-align: middle;\n",
       "    }\n",
       "\n",
       "    .dataframe tbody tr th {\n",
       "        vertical-align: top;\n",
       "    }\n",
       "\n",
       "    .dataframe thead th {\n",
       "        text-align: right;\n",
       "    }\n",
       "</style>\n",
       "<table border=\"1\" class=\"dataframe\">\n",
       "  <thead>\n",
       "    <tr style=\"text-align: right;\">\n",
       "      <th></th>\n",
       "      <th>age</th>\n",
       "      <th>job</th>\n",
       "      <th>marital</th>\n",
       "      <th>education</th>\n",
       "      <th>default</th>\n",
       "      <th>balance</th>\n",
       "      <th>housing</th>\n",
       "      <th>loan</th>\n",
       "      <th>contact</th>\n",
       "      <th>day</th>\n",
       "      <th>month</th>\n",
       "      <th>duration</th>\n",
       "      <th>campaign</th>\n",
       "      <th>pdays</th>\n",
       "      <th>previous</th>\n",
       "      <th>poutcome</th>\n",
       "      <th>Target</th>\n",
       "    </tr>\n",
       "  </thead>\n",
       "  <tbody>\n",
       "    <tr>\n",
       "      <th>0</th>\n",
       "      <td>58</td>\n",
       "      <td>management</td>\n",
       "      <td>married</td>\n",
       "      <td>tertiary</td>\n",
       "      <td>no</td>\n",
       "      <td>2143</td>\n",
       "      <td>yes</td>\n",
       "      <td>no</td>\n",
       "      <td>unknown</td>\n",
       "      <td>5</td>\n",
       "      <td>may</td>\n",
       "      <td>261</td>\n",
       "      <td>1</td>\n",
       "      <td>-1</td>\n",
       "      <td>0</td>\n",
       "      <td>unknown</td>\n",
       "      <td>no</td>\n",
       "    </tr>\n",
       "    <tr>\n",
       "      <th>1</th>\n",
       "      <td>44</td>\n",
       "      <td>technician</td>\n",
       "      <td>single</td>\n",
       "      <td>secondary</td>\n",
       "      <td>no</td>\n",
       "      <td>29</td>\n",
       "      <td>yes</td>\n",
       "      <td>no</td>\n",
       "      <td>unknown</td>\n",
       "      <td>5</td>\n",
       "      <td>may</td>\n",
       "      <td>151</td>\n",
       "      <td>1</td>\n",
       "      <td>-1</td>\n",
       "      <td>0</td>\n",
       "      <td>unknown</td>\n",
       "      <td>no</td>\n",
       "    </tr>\n",
       "    <tr>\n",
       "      <th>2</th>\n",
       "      <td>33</td>\n",
       "      <td>entrepreneur</td>\n",
       "      <td>married</td>\n",
       "      <td>secondary</td>\n",
       "      <td>no</td>\n",
       "      <td>2</td>\n",
       "      <td>yes</td>\n",
       "      <td>yes</td>\n",
       "      <td>unknown</td>\n",
       "      <td>5</td>\n",
       "      <td>may</td>\n",
       "      <td>76</td>\n",
       "      <td>1</td>\n",
       "      <td>-1</td>\n",
       "      <td>0</td>\n",
       "      <td>unknown</td>\n",
       "      <td>no</td>\n",
       "    </tr>\n",
       "    <tr>\n",
       "      <th>3</th>\n",
       "      <td>47</td>\n",
       "      <td>blue-collar</td>\n",
       "      <td>married</td>\n",
       "      <td>unknown</td>\n",
       "      <td>no</td>\n",
       "      <td>1506</td>\n",
       "      <td>yes</td>\n",
       "      <td>no</td>\n",
       "      <td>unknown</td>\n",
       "      <td>5</td>\n",
       "      <td>may</td>\n",
       "      <td>92</td>\n",
       "      <td>1</td>\n",
       "      <td>-1</td>\n",
       "      <td>0</td>\n",
       "      <td>unknown</td>\n",
       "      <td>no</td>\n",
       "    </tr>\n",
       "    <tr>\n",
       "      <th>4</th>\n",
       "      <td>33</td>\n",
       "      <td>unknown</td>\n",
       "      <td>single</td>\n",
       "      <td>unknown</td>\n",
       "      <td>no</td>\n",
       "      <td>1</td>\n",
       "      <td>no</td>\n",
       "      <td>no</td>\n",
       "      <td>unknown</td>\n",
       "      <td>5</td>\n",
       "      <td>may</td>\n",
       "      <td>198</td>\n",
       "      <td>1</td>\n",
       "      <td>-1</td>\n",
       "      <td>0</td>\n",
       "      <td>unknown</td>\n",
       "      <td>no</td>\n",
       "    </tr>\n",
       "    <tr>\n",
       "      <th>...</th>\n",
       "      <td>...</td>\n",
       "      <td>...</td>\n",
       "      <td>...</td>\n",
       "      <td>...</td>\n",
       "      <td>...</td>\n",
       "      <td>...</td>\n",
       "      <td>...</td>\n",
       "      <td>...</td>\n",
       "      <td>...</td>\n",
       "      <td>...</td>\n",
       "      <td>...</td>\n",
       "      <td>...</td>\n",
       "      <td>...</td>\n",
       "      <td>...</td>\n",
       "      <td>...</td>\n",
       "      <td>...</td>\n",
       "      <td>...</td>\n",
       "    </tr>\n",
       "    <tr>\n",
       "      <th>45206</th>\n",
       "      <td>51</td>\n",
       "      <td>technician</td>\n",
       "      <td>married</td>\n",
       "      <td>tertiary</td>\n",
       "      <td>no</td>\n",
       "      <td>825</td>\n",
       "      <td>no</td>\n",
       "      <td>no</td>\n",
       "      <td>cellular</td>\n",
       "      <td>17</td>\n",
       "      <td>nov</td>\n",
       "      <td>977</td>\n",
       "      <td>3</td>\n",
       "      <td>-1</td>\n",
       "      <td>0</td>\n",
       "      <td>unknown</td>\n",
       "      <td>yes</td>\n",
       "    </tr>\n",
       "    <tr>\n",
       "      <th>45207</th>\n",
       "      <td>71</td>\n",
       "      <td>retired</td>\n",
       "      <td>divorced</td>\n",
       "      <td>primary</td>\n",
       "      <td>no</td>\n",
       "      <td>1729</td>\n",
       "      <td>no</td>\n",
       "      <td>no</td>\n",
       "      <td>cellular</td>\n",
       "      <td>17</td>\n",
       "      <td>nov</td>\n",
       "      <td>456</td>\n",
       "      <td>2</td>\n",
       "      <td>-1</td>\n",
       "      <td>0</td>\n",
       "      <td>unknown</td>\n",
       "      <td>yes</td>\n",
       "    </tr>\n",
       "    <tr>\n",
       "      <th>45208</th>\n",
       "      <td>72</td>\n",
       "      <td>retired</td>\n",
       "      <td>married</td>\n",
       "      <td>secondary</td>\n",
       "      <td>no</td>\n",
       "      <td>5715</td>\n",
       "      <td>no</td>\n",
       "      <td>no</td>\n",
       "      <td>cellular</td>\n",
       "      <td>17</td>\n",
       "      <td>nov</td>\n",
       "      <td>1127</td>\n",
       "      <td>5</td>\n",
       "      <td>184</td>\n",
       "      <td>3</td>\n",
       "      <td>success</td>\n",
       "      <td>yes</td>\n",
       "    </tr>\n",
       "    <tr>\n",
       "      <th>45209</th>\n",
       "      <td>57</td>\n",
       "      <td>blue-collar</td>\n",
       "      <td>married</td>\n",
       "      <td>secondary</td>\n",
       "      <td>no</td>\n",
       "      <td>668</td>\n",
       "      <td>no</td>\n",
       "      <td>no</td>\n",
       "      <td>telephone</td>\n",
       "      <td>17</td>\n",
       "      <td>nov</td>\n",
       "      <td>508</td>\n",
       "      <td>4</td>\n",
       "      <td>-1</td>\n",
       "      <td>0</td>\n",
       "      <td>unknown</td>\n",
       "      <td>no</td>\n",
       "    </tr>\n",
       "    <tr>\n",
       "      <th>45210</th>\n",
       "      <td>37</td>\n",
       "      <td>entrepreneur</td>\n",
       "      <td>married</td>\n",
       "      <td>secondary</td>\n",
       "      <td>no</td>\n",
       "      <td>2971</td>\n",
       "      <td>no</td>\n",
       "      <td>no</td>\n",
       "      <td>cellular</td>\n",
       "      <td>17</td>\n",
       "      <td>nov</td>\n",
       "      <td>361</td>\n",
       "      <td>2</td>\n",
       "      <td>188</td>\n",
       "      <td>11</td>\n",
       "      <td>other</td>\n",
       "      <td>no</td>\n",
       "    </tr>\n",
       "  </tbody>\n",
       "</table>\n",
       "<p>45211 rows × 17 columns</p>\n",
       "</div>"
      ],
      "text/plain": [
       "       age           job   marital  education default  balance housing loan  \\\n",
       "0       58    management   married   tertiary      no     2143     yes   no   \n",
       "1       44    technician    single  secondary      no       29     yes   no   \n",
       "2       33  entrepreneur   married  secondary      no        2     yes  yes   \n",
       "3       47   blue-collar   married    unknown      no     1506     yes   no   \n",
       "4       33       unknown    single    unknown      no        1      no   no   \n",
       "...    ...           ...       ...        ...     ...      ...     ...  ...   \n",
       "45206   51    technician   married   tertiary      no      825      no   no   \n",
       "45207   71       retired  divorced    primary      no     1729      no   no   \n",
       "45208   72       retired   married  secondary      no     5715      no   no   \n",
       "45209   57   blue-collar   married  secondary      no      668      no   no   \n",
       "45210   37  entrepreneur   married  secondary      no     2971      no   no   \n",
       "\n",
       "         contact  day month  duration  campaign  pdays  previous poutcome  \\\n",
       "0        unknown    5   may       261         1     -1         0  unknown   \n",
       "1        unknown    5   may       151         1     -1         0  unknown   \n",
       "2        unknown    5   may        76         1     -1         0  unknown   \n",
       "3        unknown    5   may        92         1     -1         0  unknown   \n",
       "4        unknown    5   may       198         1     -1         0  unknown   \n",
       "...          ...  ...   ...       ...       ...    ...       ...      ...   \n",
       "45206   cellular   17   nov       977         3     -1         0  unknown   \n",
       "45207   cellular   17   nov       456         2     -1         0  unknown   \n",
       "45208   cellular   17   nov      1127         5    184         3  success   \n",
       "45209  telephone   17   nov       508         4     -1         0  unknown   \n",
       "45210   cellular   17   nov       361         2    188        11    other   \n",
       "\n",
       "      Target  \n",
       "0         no  \n",
       "1         no  \n",
       "2         no  \n",
       "3         no  \n",
       "4         no  \n",
       "...      ...  \n",
       "45206    yes  \n",
       "45207    yes  \n",
       "45208    yes  \n",
       "45209     no  \n",
       "45210     no  \n",
       "\n",
       "[45211 rows x 17 columns]"
      ]
     },
     "execution_count": 44,
     "metadata": {},
     "output_type": "execute_result"
    }
   ],
   "source": [
    "df = pd.read_csv(\"bank-full.csv\")\n",
    "df"
   ]
  },
  {
   "cell_type": "code",
   "execution_count": 45,
   "metadata": {},
   "outputs": [
    {
     "data": {
      "text/plain": [
       "(45211, 17)"
      ]
     },
     "execution_count": 45,
     "metadata": {},
     "output_type": "execute_result"
    }
   ],
   "source": [
    "df.shape"
   ]
  },
  {
   "cell_type": "code",
   "execution_count": 46,
   "metadata": {},
   "outputs": [
    {
     "name": "stdout",
     "output_type": "stream",
     "text": [
      "<class 'pandas.core.frame.DataFrame'>\n",
      "RangeIndex: 45211 entries, 0 to 45210\n",
      "Data columns (total 17 columns):\n",
      " #   Column     Non-Null Count  Dtype \n",
      "---  ------     --------------  ----- \n",
      " 0   age        45211 non-null  int64 \n",
      " 1   job        45211 non-null  object\n",
      " 2   marital    45211 non-null  object\n",
      " 3   education  45211 non-null  object\n",
      " 4   default    45211 non-null  object\n",
      " 5   balance    45211 non-null  int64 \n",
      " 6   housing    45211 non-null  object\n",
      " 7   loan       45211 non-null  object\n",
      " 8   contact    45211 non-null  object\n",
      " 9   day        45211 non-null  int64 \n",
      " 10  month      45211 non-null  object\n",
      " 11  duration   45211 non-null  int64 \n",
      " 12  campaign   45211 non-null  int64 \n",
      " 13  pdays      45211 non-null  int64 \n",
      " 14  previous   45211 non-null  int64 \n",
      " 15  poutcome   45211 non-null  object\n",
      " 16  Target     45211 non-null  object\n",
      "dtypes: int64(7), object(10)\n",
      "memory usage: 5.9+ MB\n"
     ]
    }
   ],
   "source": [
    "df.info()"
   ]
  },
  {
   "cell_type": "code",
   "execution_count": 47,
   "metadata": {},
   "outputs": [
    {
     "data": {
      "text/plain": [
       "0"
      ]
     },
     "execution_count": 47,
     "metadata": {},
     "output_type": "execute_result"
    }
   ],
   "source": [
    "df.isnull().sum().sum()"
   ]
  },
  {
   "cell_type": "markdown",
   "metadata": {},
   "source": [
    "Hence there are no null values with 10 objects and 7 integer data types\n",
    "\n",
    "As per given data we know that 10 features are of category type,so lets convert the datatype of those features"
   ]
  },
  {
   "cell_type": "code",
   "execution_count": 48,
   "metadata": {},
   "outputs": [
    {
     "data": {
      "text/html": [
       "<div>\n",
       "<style scoped>\n",
       "    .dataframe tbody tr th:only-of-type {\n",
       "        vertical-align: middle;\n",
       "    }\n",
       "\n",
       "    .dataframe tbody tr th {\n",
       "        vertical-align: top;\n",
       "    }\n",
       "\n",
       "    .dataframe thead th {\n",
       "        text-align: right;\n",
       "    }\n",
       "</style>\n",
       "<table border=\"1\" class=\"dataframe\">\n",
       "  <thead>\n",
       "    <tr style=\"text-align: right;\">\n",
       "      <th></th>\n",
       "      <th>age</th>\n",
       "      <th>job</th>\n",
       "      <th>marital</th>\n",
       "      <th>education</th>\n",
       "      <th>default</th>\n",
       "      <th>balance</th>\n",
       "      <th>housing</th>\n",
       "      <th>loan</th>\n",
       "      <th>contact</th>\n",
       "      <th>day</th>\n",
       "      <th>month</th>\n",
       "      <th>duration</th>\n",
       "      <th>campaign</th>\n",
       "      <th>pdays</th>\n",
       "      <th>previous</th>\n",
       "      <th>poutcome</th>\n",
       "      <th>Target</th>\n",
       "    </tr>\n",
       "  </thead>\n",
       "  <tbody>\n",
       "    <tr>\n",
       "      <th>0</th>\n",
       "      <td>58</td>\n",
       "      <td>management</td>\n",
       "      <td>married</td>\n",
       "      <td>tertiary</td>\n",
       "      <td>no</td>\n",
       "      <td>2143</td>\n",
       "      <td>yes</td>\n",
       "      <td>no</td>\n",
       "      <td>unknown</td>\n",
       "      <td>5</td>\n",
       "      <td>may</td>\n",
       "      <td>261</td>\n",
       "      <td>1</td>\n",
       "      <td>-1</td>\n",
       "      <td>0</td>\n",
       "      <td>unknown</td>\n",
       "      <td>no</td>\n",
       "    </tr>\n",
       "    <tr>\n",
       "      <th>1</th>\n",
       "      <td>44</td>\n",
       "      <td>technician</td>\n",
       "      <td>single</td>\n",
       "      <td>secondary</td>\n",
       "      <td>no</td>\n",
       "      <td>29</td>\n",
       "      <td>yes</td>\n",
       "      <td>no</td>\n",
       "      <td>unknown</td>\n",
       "      <td>5</td>\n",
       "      <td>may</td>\n",
       "      <td>151</td>\n",
       "      <td>1</td>\n",
       "      <td>-1</td>\n",
       "      <td>0</td>\n",
       "      <td>unknown</td>\n",
       "      <td>no</td>\n",
       "    </tr>\n",
       "    <tr>\n",
       "      <th>2</th>\n",
       "      <td>33</td>\n",
       "      <td>entrepreneur</td>\n",
       "      <td>married</td>\n",
       "      <td>secondary</td>\n",
       "      <td>no</td>\n",
       "      <td>2</td>\n",
       "      <td>yes</td>\n",
       "      <td>yes</td>\n",
       "      <td>unknown</td>\n",
       "      <td>5</td>\n",
       "      <td>may</td>\n",
       "      <td>76</td>\n",
       "      <td>1</td>\n",
       "      <td>-1</td>\n",
       "      <td>0</td>\n",
       "      <td>unknown</td>\n",
       "      <td>no</td>\n",
       "    </tr>\n",
       "    <tr>\n",
       "      <th>3</th>\n",
       "      <td>47</td>\n",
       "      <td>blue-collar</td>\n",
       "      <td>married</td>\n",
       "      <td>unknown</td>\n",
       "      <td>no</td>\n",
       "      <td>1506</td>\n",
       "      <td>yes</td>\n",
       "      <td>no</td>\n",
       "      <td>unknown</td>\n",
       "      <td>5</td>\n",
       "      <td>may</td>\n",
       "      <td>92</td>\n",
       "      <td>1</td>\n",
       "      <td>-1</td>\n",
       "      <td>0</td>\n",
       "      <td>unknown</td>\n",
       "      <td>no</td>\n",
       "    </tr>\n",
       "    <tr>\n",
       "      <th>4</th>\n",
       "      <td>33</td>\n",
       "      <td>unknown</td>\n",
       "      <td>single</td>\n",
       "      <td>unknown</td>\n",
       "      <td>no</td>\n",
       "      <td>1</td>\n",
       "      <td>no</td>\n",
       "      <td>no</td>\n",
       "      <td>unknown</td>\n",
       "      <td>5</td>\n",
       "      <td>may</td>\n",
       "      <td>198</td>\n",
       "      <td>1</td>\n",
       "      <td>-1</td>\n",
       "      <td>0</td>\n",
       "      <td>unknown</td>\n",
       "      <td>no</td>\n",
       "    </tr>\n",
       "    <tr>\n",
       "      <th>...</th>\n",
       "      <td>...</td>\n",
       "      <td>...</td>\n",
       "      <td>...</td>\n",
       "      <td>...</td>\n",
       "      <td>...</td>\n",
       "      <td>...</td>\n",
       "      <td>...</td>\n",
       "      <td>...</td>\n",
       "      <td>...</td>\n",
       "      <td>...</td>\n",
       "      <td>...</td>\n",
       "      <td>...</td>\n",
       "      <td>...</td>\n",
       "      <td>...</td>\n",
       "      <td>...</td>\n",
       "      <td>...</td>\n",
       "      <td>...</td>\n",
       "    </tr>\n",
       "    <tr>\n",
       "      <th>45206</th>\n",
       "      <td>51</td>\n",
       "      <td>technician</td>\n",
       "      <td>married</td>\n",
       "      <td>tertiary</td>\n",
       "      <td>no</td>\n",
       "      <td>825</td>\n",
       "      <td>no</td>\n",
       "      <td>no</td>\n",
       "      <td>cellular</td>\n",
       "      <td>17</td>\n",
       "      <td>nov</td>\n",
       "      <td>977</td>\n",
       "      <td>3</td>\n",
       "      <td>-1</td>\n",
       "      <td>0</td>\n",
       "      <td>unknown</td>\n",
       "      <td>yes</td>\n",
       "    </tr>\n",
       "    <tr>\n",
       "      <th>45207</th>\n",
       "      <td>71</td>\n",
       "      <td>retired</td>\n",
       "      <td>divorced</td>\n",
       "      <td>primary</td>\n",
       "      <td>no</td>\n",
       "      <td>1729</td>\n",
       "      <td>no</td>\n",
       "      <td>no</td>\n",
       "      <td>cellular</td>\n",
       "      <td>17</td>\n",
       "      <td>nov</td>\n",
       "      <td>456</td>\n",
       "      <td>2</td>\n",
       "      <td>-1</td>\n",
       "      <td>0</td>\n",
       "      <td>unknown</td>\n",
       "      <td>yes</td>\n",
       "    </tr>\n",
       "    <tr>\n",
       "      <th>45208</th>\n",
       "      <td>72</td>\n",
       "      <td>retired</td>\n",
       "      <td>married</td>\n",
       "      <td>secondary</td>\n",
       "      <td>no</td>\n",
       "      <td>5715</td>\n",
       "      <td>no</td>\n",
       "      <td>no</td>\n",
       "      <td>cellular</td>\n",
       "      <td>17</td>\n",
       "      <td>nov</td>\n",
       "      <td>1127</td>\n",
       "      <td>5</td>\n",
       "      <td>184</td>\n",
       "      <td>3</td>\n",
       "      <td>success</td>\n",
       "      <td>yes</td>\n",
       "    </tr>\n",
       "    <tr>\n",
       "      <th>45209</th>\n",
       "      <td>57</td>\n",
       "      <td>blue-collar</td>\n",
       "      <td>married</td>\n",
       "      <td>secondary</td>\n",
       "      <td>no</td>\n",
       "      <td>668</td>\n",
       "      <td>no</td>\n",
       "      <td>no</td>\n",
       "      <td>telephone</td>\n",
       "      <td>17</td>\n",
       "      <td>nov</td>\n",
       "      <td>508</td>\n",
       "      <td>4</td>\n",
       "      <td>-1</td>\n",
       "      <td>0</td>\n",
       "      <td>unknown</td>\n",
       "      <td>no</td>\n",
       "    </tr>\n",
       "    <tr>\n",
       "      <th>45210</th>\n",
       "      <td>37</td>\n",
       "      <td>entrepreneur</td>\n",
       "      <td>married</td>\n",
       "      <td>secondary</td>\n",
       "      <td>no</td>\n",
       "      <td>2971</td>\n",
       "      <td>no</td>\n",
       "      <td>no</td>\n",
       "      <td>cellular</td>\n",
       "      <td>17</td>\n",
       "      <td>nov</td>\n",
       "      <td>361</td>\n",
       "      <td>2</td>\n",
       "      <td>188</td>\n",
       "      <td>11</td>\n",
       "      <td>other</td>\n",
       "      <td>no</td>\n",
       "    </tr>\n",
       "  </tbody>\n",
       "</table>\n",
       "<p>45211 rows × 17 columns</p>\n",
       "</div>"
      ],
      "text/plain": [
       "       age           job   marital  education default  balance housing loan  \\\n",
       "0       58    management   married   tertiary      no     2143     yes   no   \n",
       "1       44    technician    single  secondary      no       29     yes   no   \n",
       "2       33  entrepreneur   married  secondary      no        2     yes  yes   \n",
       "3       47   blue-collar   married    unknown      no     1506     yes   no   \n",
       "4       33       unknown    single    unknown      no        1      no   no   \n",
       "...    ...           ...       ...        ...     ...      ...     ...  ...   \n",
       "45206   51    technician   married   tertiary      no      825      no   no   \n",
       "45207   71       retired  divorced    primary      no     1729      no   no   \n",
       "45208   72       retired   married  secondary      no     5715      no   no   \n",
       "45209   57   blue-collar   married  secondary      no      668      no   no   \n",
       "45210   37  entrepreneur   married  secondary      no     2971      no   no   \n",
       "\n",
       "         contact  day month  duration  campaign  pdays  previous poutcome  \\\n",
       "0        unknown    5   may       261         1     -1         0  unknown   \n",
       "1        unknown    5   may       151         1     -1         0  unknown   \n",
       "2        unknown    5   may        76         1     -1         0  unknown   \n",
       "3        unknown    5   may        92         1     -1         0  unknown   \n",
       "4        unknown    5   may       198         1     -1         0  unknown   \n",
       "...          ...  ...   ...       ...       ...    ...       ...      ...   \n",
       "45206   cellular   17   nov       977         3     -1         0  unknown   \n",
       "45207   cellular   17   nov       456         2     -1         0  unknown   \n",
       "45208   cellular   17   nov      1127         5    184         3  success   \n",
       "45209  telephone   17   nov       508         4     -1         0  unknown   \n",
       "45210   cellular   17   nov       361         2    188        11    other   \n",
       "\n",
       "      Target  \n",
       "0         no  \n",
       "1         no  \n",
       "2         no  \n",
       "3         no  \n",
       "4         no  \n",
       "...      ...  \n",
       "45206    yes  \n",
       "45207    yes  \n",
       "45208    yes  \n",
       "45209     no  \n",
       "45210     no  \n",
       "\n",
       "[45211 rows x 17 columns]"
      ]
     },
     "execution_count": 48,
     "metadata": {},
     "output_type": "execute_result"
    }
   ],
   "source": [
    "cat_columns = df.loc[:, df.dtypes == object].columns\n",
    "cont_columns = df.loc[:, df.dtypes != object].columns\n",
    "df[cat_columns].apply(pd.Categorical)\n",
    "df"
   ]
  },
  {
   "cell_type": "markdown",
   "metadata": {},
   "source": [
    "After conversion of datatypes in above step\n",
    "10 features have category datatype and 7 have int datatype"
   ]
  },
  {
   "cell_type": "code",
   "execution_count": 49,
   "metadata": {},
   "outputs": [
    {
     "data": {
      "text/html": [
       "<div>\n",
       "<style scoped>\n",
       "    .dataframe tbody tr th:only-of-type {\n",
       "        vertical-align: middle;\n",
       "    }\n",
       "\n",
       "    .dataframe tbody tr th {\n",
       "        vertical-align: top;\n",
       "    }\n",
       "\n",
       "    .dataframe thead th {\n",
       "        text-align: right;\n",
       "    }\n",
       "</style>\n",
       "<table border=\"1\" class=\"dataframe\">\n",
       "  <thead>\n",
       "    <tr style=\"text-align: right;\">\n",
       "      <th></th>\n",
       "      <th>job</th>\n",
       "      <th>marital</th>\n",
       "      <th>education</th>\n",
       "      <th>default</th>\n",
       "      <th>housing</th>\n",
       "      <th>loan</th>\n",
       "      <th>contact</th>\n",
       "      <th>month</th>\n",
       "      <th>poutcome</th>\n",
       "      <th>Target</th>\n",
       "    </tr>\n",
       "  </thead>\n",
       "  <tbody>\n",
       "    <tr>\n",
       "      <th>0</th>\n",
       "      <td>management</td>\n",
       "      <td>married</td>\n",
       "      <td>tertiary</td>\n",
       "      <td>no</td>\n",
       "      <td>yes</td>\n",
       "      <td>no</td>\n",
       "      <td>unknown</td>\n",
       "      <td>may</td>\n",
       "      <td>unknown</td>\n",
       "      <td>no</td>\n",
       "    </tr>\n",
       "    <tr>\n",
       "      <th>1</th>\n",
       "      <td>technician</td>\n",
       "      <td>single</td>\n",
       "      <td>secondary</td>\n",
       "      <td>no</td>\n",
       "      <td>yes</td>\n",
       "      <td>no</td>\n",
       "      <td>unknown</td>\n",
       "      <td>may</td>\n",
       "      <td>unknown</td>\n",
       "      <td>no</td>\n",
       "    </tr>\n",
       "    <tr>\n",
       "      <th>2</th>\n",
       "      <td>entrepreneur</td>\n",
       "      <td>married</td>\n",
       "      <td>secondary</td>\n",
       "      <td>no</td>\n",
       "      <td>yes</td>\n",
       "      <td>yes</td>\n",
       "      <td>unknown</td>\n",
       "      <td>may</td>\n",
       "      <td>unknown</td>\n",
       "      <td>no</td>\n",
       "    </tr>\n",
       "    <tr>\n",
       "      <th>3</th>\n",
       "      <td>blue-collar</td>\n",
       "      <td>married</td>\n",
       "      <td>unknown</td>\n",
       "      <td>no</td>\n",
       "      <td>yes</td>\n",
       "      <td>no</td>\n",
       "      <td>unknown</td>\n",
       "      <td>may</td>\n",
       "      <td>unknown</td>\n",
       "      <td>no</td>\n",
       "    </tr>\n",
       "    <tr>\n",
       "      <th>4</th>\n",
       "      <td>unknown</td>\n",
       "      <td>single</td>\n",
       "      <td>unknown</td>\n",
       "      <td>no</td>\n",
       "      <td>no</td>\n",
       "      <td>no</td>\n",
       "      <td>unknown</td>\n",
       "      <td>may</td>\n",
       "      <td>unknown</td>\n",
       "      <td>no</td>\n",
       "    </tr>\n",
       "    <tr>\n",
       "      <th>...</th>\n",
       "      <td>...</td>\n",
       "      <td>...</td>\n",
       "      <td>...</td>\n",
       "      <td>...</td>\n",
       "      <td>...</td>\n",
       "      <td>...</td>\n",
       "      <td>...</td>\n",
       "      <td>...</td>\n",
       "      <td>...</td>\n",
       "      <td>...</td>\n",
       "    </tr>\n",
       "    <tr>\n",
       "      <th>45206</th>\n",
       "      <td>technician</td>\n",
       "      <td>married</td>\n",
       "      <td>tertiary</td>\n",
       "      <td>no</td>\n",
       "      <td>no</td>\n",
       "      <td>no</td>\n",
       "      <td>cellular</td>\n",
       "      <td>nov</td>\n",
       "      <td>unknown</td>\n",
       "      <td>yes</td>\n",
       "    </tr>\n",
       "    <tr>\n",
       "      <th>45207</th>\n",
       "      <td>retired</td>\n",
       "      <td>divorced</td>\n",
       "      <td>primary</td>\n",
       "      <td>no</td>\n",
       "      <td>no</td>\n",
       "      <td>no</td>\n",
       "      <td>cellular</td>\n",
       "      <td>nov</td>\n",
       "      <td>unknown</td>\n",
       "      <td>yes</td>\n",
       "    </tr>\n",
       "    <tr>\n",
       "      <th>45208</th>\n",
       "      <td>retired</td>\n",
       "      <td>married</td>\n",
       "      <td>secondary</td>\n",
       "      <td>no</td>\n",
       "      <td>no</td>\n",
       "      <td>no</td>\n",
       "      <td>cellular</td>\n",
       "      <td>nov</td>\n",
       "      <td>success</td>\n",
       "      <td>yes</td>\n",
       "    </tr>\n",
       "    <tr>\n",
       "      <th>45209</th>\n",
       "      <td>blue-collar</td>\n",
       "      <td>married</td>\n",
       "      <td>secondary</td>\n",
       "      <td>no</td>\n",
       "      <td>no</td>\n",
       "      <td>no</td>\n",
       "      <td>telephone</td>\n",
       "      <td>nov</td>\n",
       "      <td>unknown</td>\n",
       "      <td>no</td>\n",
       "    </tr>\n",
       "    <tr>\n",
       "      <th>45210</th>\n",
       "      <td>entrepreneur</td>\n",
       "      <td>married</td>\n",
       "      <td>secondary</td>\n",
       "      <td>no</td>\n",
       "      <td>no</td>\n",
       "      <td>no</td>\n",
       "      <td>cellular</td>\n",
       "      <td>nov</td>\n",
       "      <td>other</td>\n",
       "      <td>no</td>\n",
       "    </tr>\n",
       "  </tbody>\n",
       "</table>\n",
       "<p>45211 rows × 10 columns</p>\n",
       "</div>"
      ],
      "text/plain": [
       "                job   marital  education default housing loan    contact  \\\n",
       "0        management   married   tertiary      no     yes   no    unknown   \n",
       "1        technician    single  secondary      no     yes   no    unknown   \n",
       "2      entrepreneur   married  secondary      no     yes  yes    unknown   \n",
       "3       blue-collar   married    unknown      no     yes   no    unknown   \n",
       "4           unknown    single    unknown      no      no   no    unknown   \n",
       "...             ...       ...        ...     ...     ...  ...        ...   \n",
       "45206    technician   married   tertiary      no      no   no   cellular   \n",
       "45207       retired  divorced    primary      no      no   no   cellular   \n",
       "45208       retired   married  secondary      no      no   no   cellular   \n",
       "45209   blue-collar   married  secondary      no      no   no  telephone   \n",
       "45210  entrepreneur   married  secondary      no      no   no   cellular   \n",
       "\n",
       "      month poutcome Target  \n",
       "0       may  unknown     no  \n",
       "1       may  unknown     no  \n",
       "2       may  unknown     no  \n",
       "3       may  unknown     no  \n",
       "4       may  unknown     no  \n",
       "...     ...      ...    ...  \n",
       "45206   nov  unknown    yes  \n",
       "45207   nov  unknown    yes  \n",
       "45208   nov  success    yes  \n",
       "45209   nov  unknown     no  \n",
       "45210   nov    other     no  \n",
       "\n",
       "[45211 rows x 10 columns]"
      ]
     },
     "execution_count": 49,
     "metadata": {},
     "output_type": "execute_result"
    }
   ],
   "source": [
    "df[cat_columns]"
   ]
  },
  {
   "cell_type": "markdown",
   "metadata": {},
   "source": [
    "Checking columns which contain string data"
   ]
  },
  {
   "cell_type": "code",
   "execution_count": 50,
   "metadata": {},
   "outputs": [
    {
     "name": "stdout",
     "output_type": "stream",
     "text": [
      "['unknown' 'failure' 'other' 'success']\n",
      "['unknown' 'cellular' 'telephone']\n",
      "['tertiary' 'secondary' 'unknown' 'primary']\n",
      "['management' 'technician' 'entrepreneur' 'blue-collar' 'unknown'\n",
      " 'retired' 'admin.' 'services' 'self-employed' 'unemployed' 'housemaid'\n",
      " 'student']\n"
     ]
    }
   ],
   "source": [
    "print(df['poutcome'].unique())\n",
    "print(df['contact'].unique())\n",
    "print(df['education'].unique())\n",
    "print(df['job'].unique())"
   ]
  },
  {
   "cell_type": "code",
   "execution_count": 51,
   "metadata": {},
   "outputs": [
    {
     "data": {
      "text/html": [
       "<div>\n",
       "<style scoped>\n",
       "    .dataframe tbody tr th:only-of-type {\n",
       "        vertical-align: middle;\n",
       "    }\n",
       "\n",
       "    .dataframe tbody tr th {\n",
       "        vertical-align: top;\n",
       "    }\n",
       "\n",
       "    .dataframe thead th {\n",
       "        text-align: right;\n",
       "    }\n",
       "</style>\n",
       "<table border=\"1\" class=\"dataframe\">\n",
       "  <thead>\n",
       "    <tr style=\"text-align: right;\">\n",
       "      <th></th>\n",
       "      <th>age</th>\n",
       "      <th>balance</th>\n",
       "      <th>day</th>\n",
       "      <th>duration</th>\n",
       "      <th>campaign</th>\n",
       "      <th>pdays</th>\n",
       "      <th>previous</th>\n",
       "    </tr>\n",
       "  </thead>\n",
       "  <tbody>\n",
       "    <tr>\n",
       "      <th>count</th>\n",
       "      <td>45211.000000</td>\n",
       "      <td>45211.000000</td>\n",
       "      <td>45211.000000</td>\n",
       "      <td>45211.000000</td>\n",
       "      <td>45211.000000</td>\n",
       "      <td>45211.000000</td>\n",
       "      <td>45211.000000</td>\n",
       "    </tr>\n",
       "    <tr>\n",
       "      <th>mean</th>\n",
       "      <td>40.936210</td>\n",
       "      <td>1362.272058</td>\n",
       "      <td>15.806419</td>\n",
       "      <td>258.163080</td>\n",
       "      <td>2.763841</td>\n",
       "      <td>40.197828</td>\n",
       "      <td>0.580323</td>\n",
       "    </tr>\n",
       "    <tr>\n",
       "      <th>std</th>\n",
       "      <td>10.618762</td>\n",
       "      <td>3044.765829</td>\n",
       "      <td>8.322476</td>\n",
       "      <td>257.527812</td>\n",
       "      <td>3.098021</td>\n",
       "      <td>100.128746</td>\n",
       "      <td>2.303441</td>\n",
       "    </tr>\n",
       "    <tr>\n",
       "      <th>min</th>\n",
       "      <td>18.000000</td>\n",
       "      <td>-8019.000000</td>\n",
       "      <td>1.000000</td>\n",
       "      <td>0.000000</td>\n",
       "      <td>1.000000</td>\n",
       "      <td>-1.000000</td>\n",
       "      <td>0.000000</td>\n",
       "    </tr>\n",
       "    <tr>\n",
       "      <th>25%</th>\n",
       "      <td>33.000000</td>\n",
       "      <td>72.000000</td>\n",
       "      <td>8.000000</td>\n",
       "      <td>103.000000</td>\n",
       "      <td>1.000000</td>\n",
       "      <td>-1.000000</td>\n",
       "      <td>0.000000</td>\n",
       "    </tr>\n",
       "    <tr>\n",
       "      <th>50%</th>\n",
       "      <td>39.000000</td>\n",
       "      <td>448.000000</td>\n",
       "      <td>16.000000</td>\n",
       "      <td>180.000000</td>\n",
       "      <td>2.000000</td>\n",
       "      <td>-1.000000</td>\n",
       "      <td>0.000000</td>\n",
       "    </tr>\n",
       "    <tr>\n",
       "      <th>75%</th>\n",
       "      <td>48.000000</td>\n",
       "      <td>1428.000000</td>\n",
       "      <td>21.000000</td>\n",
       "      <td>319.000000</td>\n",
       "      <td>3.000000</td>\n",
       "      <td>-1.000000</td>\n",
       "      <td>0.000000</td>\n",
       "    </tr>\n",
       "    <tr>\n",
       "      <th>max</th>\n",
       "      <td>95.000000</td>\n",
       "      <td>102127.000000</td>\n",
       "      <td>31.000000</td>\n",
       "      <td>4918.000000</td>\n",
       "      <td>63.000000</td>\n",
       "      <td>871.000000</td>\n",
       "      <td>275.000000</td>\n",
       "    </tr>\n",
       "  </tbody>\n",
       "</table>\n",
       "</div>"
      ],
      "text/plain": [
       "                age        balance           day      duration      campaign  \\\n",
       "count  45211.000000   45211.000000  45211.000000  45211.000000  45211.000000   \n",
       "mean      40.936210    1362.272058     15.806419    258.163080      2.763841   \n",
       "std       10.618762    3044.765829      8.322476    257.527812      3.098021   \n",
       "min       18.000000   -8019.000000      1.000000      0.000000      1.000000   \n",
       "25%       33.000000      72.000000      8.000000    103.000000      1.000000   \n",
       "50%       39.000000     448.000000     16.000000    180.000000      2.000000   \n",
       "75%       48.000000    1428.000000     21.000000    319.000000      3.000000   \n",
       "max       95.000000  102127.000000     31.000000   4918.000000     63.000000   \n",
       "\n",
       "              pdays      previous  \n",
       "count  45211.000000  45211.000000  \n",
       "mean      40.197828      0.580323  \n",
       "std      100.128746      2.303441  \n",
       "min       -1.000000      0.000000  \n",
       "25%       -1.000000      0.000000  \n",
       "50%       -1.000000      0.000000  \n",
       "75%       -1.000000      0.000000  \n",
       "max      871.000000    275.000000  "
      ]
     },
     "execution_count": 51,
     "metadata": {},
     "output_type": "execute_result"
    }
   ],
   "source": [
    "df.describe()"
   ]
  },
  {
   "cell_type": "code",
   "execution_count": 52,
   "metadata": {},
   "outputs": [
    {
     "data": {
      "image/png": "[encoded data removed]",
      "text/plain": [
       "<Figure size 432x288 with 1 Axes>"
      ]
     },
     "metadata": {
      "needs_background": "light"
     },
     "output_type": "display_data"
    },
    {
     "data": {
      "image/png": "[encoded data removed]",
      "text/plain": [
       "<Figure size 432x288 with 1 Axes>"
      ]
     },
     "metadata": {
      "needs_background": "light"
     },
     "output_type": "display_data"
    },
    {
     "data": {
      "image/png": "[encoded data removed]",
      "text/plain": [
       "<Figure size 432x288 with 1 Axes>"
      ]
     },
     "metadata": {
      "needs_background": "light"
     },
     "output_type": "display_data"
    },
    {
     "data": {
      "image/png": "[encoded data removed]",
      "text/plain": [
       "<Figure size 432x288 with 1 Axes>"
      ]
     },
     "metadata": {
      "needs_background": "light"
     },
     "output_type": "display_data"
    },
    {
     "data": {
      "image/png": "[encoded data removed]",
      "text/plain": [
       "<Figure size 432x288 with 1 Axes>"
      ]
     },
     "metadata": {
      "needs_background": "light"
     },
     "output_type": "display_data"
    },
    {
     "data": {
      "image/png": "[encoded data removed]",
      "text/plain": [
       "<Figure size 432x288 with 1 Axes>"
      ]
     },
     "metadata": {
      "needs_background": "light"
     },
     "output_type": "display_data"
    },
    {
     "data": {
      "image/png": "[encoded data removed]",
      "text/plain": [
       "<Figure size 432x288 with 1 Axes>"
      ]
     },
     "metadata": {
      "needs_background": "light"
     },
     "output_type": "display_data"
    }
   ],
   "source": [
    "for column in cont_columns:      \n",
    "    df.boxplot([column])\n",
    "    plt.show()"
   ]
  },
  {
   "cell_type": "markdown",
   "metadata": {},
   "source": [
    "# 5 point summary understanding:"
   ]
  },
  {
   "cell_type": "markdown",
   "metadata": {},
   "source": [
    "-->Outliers are present in 'age', 'balance', 'duration', 'campaign', 'pdays' and 'previous' columns.\n",
    "\n",
    "-->'balance', 'duration', 'campaign', 'pdays' and 'previous' are right skewed.\n",
    "\n",
    "-->More than 75% people have been contacted in a day after previous campaign as pdays is -1 till 75th precentile.\n",
    "\n",
    "-->Minimum balance is -8019 and maximum balance is 102127\n",
    "\n",
    "-->Minimum age is 18 years and maximum is 95 years"
   ]
  },
  {
   "cell_type": "markdown",
   "metadata": {},
   "source": [
    "# Distribution of numerical columns."
   ]
  },
  {
   "cell_type": "code",
   "execution_count": 53,
   "metadata": {},
   "outputs": [
    {
     "name": "stderr",
     "output_type": "stream",
     "text": [
      "C:\\Users\\user\\anaconda3\\lib\\site-packages\\seaborn\\distributions.py:369: UserWarning: Default bandwidth for data is 0; skipping density estimation.\n",
      "  warnings.warn(msg, UserWarning)\n",
      "C:\\Users\\user\\anaconda3\\lib\\site-packages\\seaborn\\distributions.py:369: UserWarning: Default bandwidth for data is 0; skipping density estimation.\n",
      "  warnings.warn(msg, UserWarning)\n",
      "<ipython-input-53-55cdf157f416>:11: UserWarning: Matplotlib is currently using module://ipykernel.pylab.backend_inline, which is a non-GUI backend, so cannot show the figure.\n",
      "  fig.show() #display plots\n"
     ]
    },
    {
     "data": {
      "image/png": "[encoded data removed]",
      "text/plain": [
       "<Figure size 720x1080 with 8 Axes>"
      ]
     },
     "metadata": {
      "needs_background": "light"
     },
     "output_type": "display_data"
    }
   ],
   "source": [
    "fig, axe = plt.subplots(nrows=4, ncols=2, figsize=(10, 15)) \n",
    "axe = axe.flatten() #to flatten subplot index positions\n",
    "sns.distplot(df['age'],ax=axe[0]) #Distance plot of 'age'\n",
    "sns.distplot(df['balance'],ax=axe[1]) #Distance plot of 'balance'\n",
    "sns.distplot(df['day'],ax=axe[2]) #Distance plot of 'day'\n",
    "sns.distplot(df['duration'],ax=axe[3]) #Distance plot of 'duration'\n",
    "sns.distplot(df['campaign'],ax=axe[4]) #Distance plot of 'campaign'\n",
    "sns.distplot(df['pdays'],ax=axe[5]) #Distance plot of 'pdays'\n",
    "sns.distplot(df['previous'],ax=axe[6]) #Distance plot of 'previous'\n",
    "fig.tight_layout() #for arranging the plots\n",
    "fig.show() #display plots\n",
    "axe.flat[-1].set_visible(False)"
   ]
  },
  {
   "cell_type": "markdown",
   "metadata": {},
   "source": [
    "### Understanding from distributions\n",
    "* 'balance', 'duration', 'campaign', 'pdays' and 'previous' are right skewed.\n",
    "* 'age' is somewhat normally distributed"
   ]
  },
  {
   "cell_type": "markdown",
   "metadata": {},
   "source": [
    "# Distribution of Categorical columns."
   ]
  },
  {
   "cell_type": "code",
   "execution_count": 54,
   "metadata": {},
   "outputs": [
    {
     "name": "stderr",
     "output_type": "stream",
     "text": [
      "<ipython-input-54-0def2c7afe6e>:10: UserWarning: Matplotlib is currently using module://ipykernel.pylab.backend_inline, which is a non-GUI backend, so cannot show the figure.\n",
      "  fig.show() #display plots\n"
     ]
    },
    {
     "data": {
      "image/png": "[encoded data removed]",
      "text/plain": [
       "<Figure size 720x1296 with 10 Axes>"
      ]
     },
     "metadata": {
      "needs_background": "light"
     },
     "output_type": "display_data"
    }
   ],
   "source": [
    "fig, axe = plt.subplots(nrows=5, ncols=2, figsize=(10, 18)) \n",
    "axe = axe.flatten() #to flatten subplot index positions\n",
    "i = 0\n",
    "for column in cat_columns:\n",
    "    plot=sns.countplot(x=df[column],data=df,ax=axe[i])\n",
    "    if i==0:\n",
    "        plt.setp(plot.get_xticklabels(), rotation=90)\n",
    "    i+=1\n",
    "fig.tight_layout() #for arranging the plots\n",
    "fig.show() #display plots"
   ]
  },
  {
   "cell_type": "markdown",
   "metadata": {},
   "source": [
    " ### Understanding from distributions\n",
    "* More than 90% customers have no default credit\n",
    "* Around 88% customers have not subscribed for term deposit\n",
    "* Most customers have been contacted in may\n",
    "* Most customers have been contacted by cellular network(mobile phone)\n",
    "* Number of customers who have housing loan is more than the number of customers who don't have housing loan\n",
    "* Around 6% customers have credit in default"
   ]
  },
  {
   "cell_type": "code",
   "execution_count": 55,
   "metadata": {},
   "outputs": [
    {
     "data": {
      "text/html": [
       "<div>\n",
       "<style scoped>\n",
       "    .dataframe tbody tr th:only-of-type {\n",
       "        vertical-align: middle;\n",
       "    }\n",
       "\n",
       "    .dataframe tbody tr th {\n",
       "        vertical-align: top;\n",
       "    }\n",
       "\n",
       "    .dataframe thead th {\n",
       "        text-align: right;\n",
       "    }\n",
       "</style>\n",
       "<table border=\"1\" class=\"dataframe\">\n",
       "  <thead>\n",
       "    <tr style=\"text-align: right;\">\n",
       "      <th></th>\n",
       "      <th>age</th>\n",
       "      <th>balance</th>\n",
       "      <th>day</th>\n",
       "      <th>duration</th>\n",
       "      <th>campaign</th>\n",
       "      <th>pdays</th>\n",
       "      <th>previous</th>\n",
       "    </tr>\n",
       "  </thead>\n",
       "  <tbody>\n",
       "    <tr>\n",
       "      <th>Skew</th>\n",
       "      <td>0.684818</td>\n",
       "      <td>8.360308</td>\n",
       "      <td>0.093079</td>\n",
       "      <td>3.144318</td>\n",
       "      <td>4.89865</td>\n",
       "      <td>2.615715</td>\n",
       "      <td>41.846454</td>\n",
       "    </tr>\n",
       "  </tbody>\n",
       "</table>\n",
       "</div>"
      ],
      "text/plain": [
       "           age   balance       day  duration  campaign     pdays   previous\n",
       "Skew  0.684818  8.360308  0.093079  3.144318   4.89865  2.615715  41.846454"
      ]
     },
     "execution_count": 55,
     "metadata": {},
     "output_type": "execute_result"
    }
   ],
   "source": [
    "df.skew().to_frame(\"Skew\").T"
   ]
  },
  {
   "cell_type": "markdown",
   "metadata": {},
   "source": [
    "## Checking the presence of outliers "
   ]
  },
  {
   "cell_type": "code",
   "execution_count": 56,
   "metadata": {},
   "outputs": [
    {
     "name": "stderr",
     "output_type": "stream",
     "text": [
      "<ipython-input-56-1ba976cb9d27>:11: UserWarning: Matplotlib is currently using module://ipykernel.pylab.backend_inline, which is a non-GUI backend, so cannot show the figure.\n",
      "  fig.show() #display plots\n"
     ]
    },
    {
     "data": {
      "image/png": "[encoded data removed]",
      "text/plain": [
       "<Figure size 720x864 with 8 Axes>"
      ]
     },
     "metadata": {
      "needs_background": "light"
     },
     "output_type": "display_data"
    }
   ],
   "source": [
    "fig, axe = plt.subplots(nrows=4, ncols=2, figsize=(10, 12))\n",
    "axe = axe.flatten()#to flatten subplot index positions\n",
    "sns.boxplot(x='age',data=df,color='springgreen',ax=axe[0]) #Box plot of 'ID' for finding outliers \n",
    "sns.boxplot(x='balance',data=df,color='springgreen',ax=axe[1]) #Box plot of 'Family' \n",
    "sns.boxplot(x='day',data=df,color='springgreen',ax=axe[2]) #Box plot of 'Personal Loan' \n",
    "sns.boxplot(x='duration',data=df,color='springgreen',ax=axe[3]) #Box plot of 'CD Account' \n",
    "sns.boxplot(x='campaign',data=df,color='springgreen',ax=axe[4]) #Box plot of 'Online' \n",
    "sns.boxplot(x='pdays',data=df,color='springgreen',ax=axe[5]) #Box plot of 'CreditCard'\n",
    "sns.boxplot(x='previous',data=df,color='springgreen',ax=axe[6]) #Box plot of 'CreditCard' \n",
    "fig.tight_layout() #for arranging the plots\n",
    "fig.show() #display plots\n",
    "axe.flat[-1].set_visible(False)"
   ]
  },
  {
   "cell_type": "markdown",
   "metadata": {},
   "source": [
    "### Understanding from boxplots\n",
    "* Prove the existance of outliers in 'age', 'balance', 'duration', 'campaign', 'pdays' and 'previous' columns.\n",
    "* Values less than 0 are present in 'Balance' column"
   ]
  },
  {
   "cell_type": "code",
   "execution_count": 57,
   "metadata": {},
   "outputs": [
    {
     "data": {
      "text/html": [
       "<div>\n",
       "<style scoped>\n",
       "    .dataframe tbody tr th:only-of-type {\n",
       "        vertical-align: middle;\n",
       "    }\n",
       "\n",
       "    .dataframe tbody tr th {\n",
       "        vertical-align: top;\n",
       "    }\n",
       "\n",
       "    .dataframe thead th {\n",
       "        text-align: right;\n",
       "    }\n",
       "</style>\n",
       "<table border=\"1\" class=\"dataframe\">\n",
       "  <thead>\n",
       "    <tr style=\"text-align: right;\">\n",
       "      <th></th>\n",
       "      <th>Target</th>\n",
       "    </tr>\n",
       "  </thead>\n",
       "  <tbody>\n",
       "    <tr>\n",
       "      <th>no</th>\n",
       "      <td>39922</td>\n",
       "    </tr>\n",
       "    <tr>\n",
       "      <th>yes</th>\n",
       "      <td>5289</td>\n",
       "    </tr>\n",
       "  </tbody>\n",
       "</table>\n",
       "</div>"
      ],
      "text/plain": [
       "     Target\n",
       "no    39922\n",
       "yes    5289"
      ]
     },
     "execution_count": 57,
     "metadata": {},
     "output_type": "execute_result"
    }
   ],
   "source": [
    "df['Target'].value_counts().to_frame(\"Target\")"
   ]
  },
  {
   "cell_type": "markdown",
   "metadata": {},
   "source": [
    "* From above values it can be stated that the dataset is imbalanced.\n",
    "* Hence we will be upscaling the minority."
   ]
  },
  {
   "cell_type": "code",
   "execution_count": 58,
   "metadata": {},
   "outputs": [
    {
     "data": {
      "text/plain": [
       "no     39922\n",
       "yes    39922\n",
       "Name: Target, dtype: int64"
      ]
     },
     "execution_count": 58,
     "metadata": {},
     "output_type": "execute_result"
    }
   ],
   "source": [
    "from sklearn.utils import resample\n",
    "df_minority = df[df[\"Target\"] == \"yes\"]\n",
    "df_majority = df[df[\"Target\"] == \"no\"]\n",
    "\n",
    "df_min_upsampled = resample(df_minority, replace=True, n_samples=39922, random_state=123)\n",
    "\n",
    "df = pd.concat([df_majority, df_min_upsampled])\n",
    "df[\"Target\"].value_counts()"
   ]
  },
  {
   "cell_type": "markdown",
   "metadata": {},
   "source": [
    "# Data Preprocessing:"
   ]
  },
  {
   "cell_type": "code",
   "execution_count": 59,
   "metadata": {},
   "outputs": [
    {
     "name": "stdout",
     "output_type": "stream",
     "text": [
      "age\n",
      "Target\n",
      "no     39\n",
      "yes    38\n",
      "Name: age, dtype: int64\n",
      "=======================================\n",
      "balance\n",
      "Target\n",
      "no     417\n",
      "yes    760\n",
      "Name: balance, dtype: int64\n",
      "=======================================\n",
      "day\n",
      "Target\n",
      "no     16\n",
      "yes    15\n",
      "Name: day, dtype: int64\n",
      "=======================================\n",
      "duration\n",
      "Target\n",
      "no     164\n",
      "yes    424\n",
      "Name: duration, dtype: int64\n",
      "=======================================\n",
      "campaign\n",
      "Target\n",
      "no     2\n",
      "yes    2\n",
      "Name: campaign, dtype: int64\n",
      "=======================================\n",
      "pdays\n",
      "Target\n",
      "no    -1\n",
      "yes   -1\n",
      "Name: pdays, dtype: int64\n",
      "=======================================\n",
      "previous\n",
      "Target\n",
      "no     0\n",
      "yes    0\n",
      "Name: previous, dtype: int64\n",
      "=======================================\n"
     ]
    }
   ],
   "source": [
    "for column in cont_columns:\n",
    "    print(column)\n",
    "    grp = df.groupby([\"Target\"])\n",
    "    print(grp[column].median())\n",
    "    print(\"=======================================\")"
   ]
  },
  {
   "cell_type": "markdown",
   "metadata": {},
   "source": [
    "### Encoding categorical values according to the duration feature"
   ]
  },
  {
   "cell_type": "code",
   "execution_count": 60,
   "metadata": {},
   "outputs": [],
   "source": [
    "def encoder(cat, cont):\n",
    "    print(f\"{cat} relation with {cont}\")\n",
    "    grp = df.groupby([cat])\n",
    "    lst = grp[cont].median().sort_values().index\n",
    "    feature_map = {lst[i]: i for i in range(len(lst))}\n",
    "    df[cat] = df[cat].map(feature_map)\n",
    "    print(\"Order:\", lst, \"\\n\") "
   ]
  },
  {
   "cell_type": "code",
   "execution_count": 61,
   "metadata": {},
   "outputs": [
    {
     "name": "stdout",
     "output_type": "stream",
     "text": [
      "job relation with duration\n",
      "Order: Index(['housemaid', 'admin.', 'management', 'student', 'technician',\n",
      "       'blue-collar', 'entrepreneur', 'services', 'unknown', 'self-employed',\n",
      "       'retired', 'unemployed'],\n",
      "      dtype='object', name='job') \n",
      "\n",
      "marital relation with duration\n",
      "Order: Index(['married', 'single', 'divorced'], dtype='object', name='marital') \n",
      "\n",
      "education relation with duration\n",
      "Order: Index(['tertiary', 'secondary', 'primary', 'unknown'], dtype='object', name='education') \n",
      "\n",
      "default relation with duration\n",
      "Order: Index(['no', 'yes'], dtype='object', name='default') \n",
      "\n",
      "housing relation with duration\n",
      "Order: Index(['yes', 'no'], dtype='object', name='housing') \n",
      "\n",
      "loan relation with duration\n",
      "Order: Index(['yes', 'no'], dtype='object', name='loan') \n",
      "\n",
      "contact relation with duration\n",
      "Order: Index(['unknown', 'telephone', 'cellular'], dtype='object', name='contact') \n",
      "\n",
      "month relation with duration\n",
      "Order: Index(['mar', 'feb', 'aug', 'nov', 'jun', 'jan', 'oct', 'may', 'sep', 'jul',\n",
      "       'apr', 'dec'],\n",
      "      dtype='object', name='month') \n",
      "\n",
      "poutcome relation with duration\n",
      "Order: Index(['failure', 'unknown', 'other', 'success'], dtype='object', name='poutcome') \n",
      "\n",
      "Target relation with duration\n",
      "Order: Index(['no', 'yes'], dtype='object', name='Target') \n",
      "\n"
     ]
    }
   ],
   "source": [
    "for column in cat_columns:\n",
    "    encoder(column, \"duration\")"
   ]
  },
  {
   "cell_type": "markdown",
   "metadata": {},
   "source": [
    "## Checking & modifying datatypes after Label Encoding"
   ]
  },
  {
   "cell_type": "code",
   "execution_count": 62,
   "metadata": {},
   "outputs": [
    {
     "name": "stdout",
     "output_type": "stream",
     "text": [
      "<class 'pandas.core.frame.DataFrame'>\n",
      "Int64Index: 79844 entries, 0 to 42054\n",
      "Data columns (total 17 columns):\n",
      " #   Column     Non-Null Count  Dtype\n",
      "---  ------     --------------  -----\n",
      " 0   age        79844 non-null  int64\n",
      " 1   job        79844 non-null  int64\n",
      " 2   marital    79844 non-null  int64\n",
      " 3   education  79844 non-null  int64\n",
      " 4   default    79844 non-null  int64\n",
      " 5   balance    79844 non-null  int64\n",
      " 6   housing    79844 non-null  int64\n",
      " 7   loan       79844 non-null  int64\n",
      " 8   contact    79844 non-null  int64\n",
      " 9   day        79844 non-null  int64\n",
      " 10  month      79844 non-null  int64\n",
      " 11  duration   79844 non-null  int64\n",
      " 12  campaign   79844 non-null  int64\n",
      " 13  pdays      79844 non-null  int64\n",
      " 14  previous   79844 non-null  int64\n",
      " 15  poutcome   79844 non-null  int64\n",
      " 16  Target     79844 non-null  int64\n",
      "dtypes: int64(17)\n",
      "memory usage: 11.0 MB\n"
     ]
    }
   ],
   "source": [
    "df.info()"
   ]
  },
  {
   "cell_type": "markdown",
   "metadata": {},
   "source": [
    "### Modifying the data distribution of continuous variables"
   ]
  },
  {
   "cell_type": "code",
   "execution_count": 63,
   "metadata": {},
   "outputs": [],
   "source": [
    "df[\"balance\"] = df[\"balance\"]+3000\n",
    "df[\"pday_mod\"] = 0\n",
    "df.loc[df[\"pdays\"] == -1, \"pday_mod\"] = 1\n",
    "df[\"pdays\"] = df[\"pdays\"]+1"
   ]
  },
  {
   "cell_type": "code",
   "execution_count": 64,
   "metadata": {},
   "outputs": [
    {
     "data": {
      "image/png": "[encoded data removed]",
      "text/plain": [
       "<Figure size 432x288 with 1 Axes>"
      ]
     },
     "metadata": {
      "needs_background": "light"
     },
     "output_type": "display_data"
    },
    {
     "data": {
      "image/png": "[encoded data removed]",
      "text/plain": [
       "<Figure size 432x288 with 1 Axes>"
      ]
     },
     "metadata": {
      "needs_background": "light"
     },
     "output_type": "display_data"
    },
    {
     "data": {
      "image/png": "[encoded data removed]",
      "text/plain": [
       "<Figure size 432x288 with 1 Axes>"
      ]
     },
     "metadata": {
      "needs_background": "light"
     },
     "output_type": "display_data"
    },
    {
     "data": {
      "image/png": "[encoded data removed]",
      "text/plain": [
       "<Figure size 432x288 with 1 Axes>"
      ]
     },
     "metadata": {
      "needs_background": "light"
     },
     "output_type": "display_data"
    },
    {
     "data": {
      "image/png": "[encoded data removed]",
      "text/plain": [
       "<Figure size 432x288 with 1 Axes>"
      ]
     },
     "metadata": {
      "needs_background": "light"
     },
     "output_type": "display_data"
    },
    {
     "data": {
      "image/png": "[encoded data removed]",
      "text/plain": [
       "<Figure size 432x288 with 1 Axes>"
      ]
     },
     "metadata": {
      "needs_background": "light"
     },
     "output_type": "display_data"
    },
    {
     "data": {
      "image/png": "[encoded data removed]",
      "text/plain": [
       "<Figure size 432x288 with 1 Axes>"
      ]
     },
     "metadata": {
      "needs_background": "light"
     },
     "output_type": "display_data"
    },
    {
     "data": {
      "image/png": "[encoded data removed]",
      "text/plain": [
       "<Figure size 432x288 with 1 Axes>"
      ]
     },
     "metadata": {
      "needs_background": "light"
     },
     "output_type": "display_data"
    },
    {
     "data": {
      "image/png": "[encoded data removed]",
      "text/plain": [
       "<Figure size 432x288 with 1 Axes>"
      ]
     },
     "metadata": {
      "needs_background": "light"
     },
     "output_type": "display_data"
    },
    {
     "data": {
      "image/png": "[encoded data removed]",
      "text/plain": [
       "<Figure size 432x288 with 1 Axes>"
      ]
     },
     "metadata": {
      "needs_background": "light"
     },
     "output_type": "display_data"
    },
    {
     "data": {
      "image/png": "[encoded data removed]",
      "text/plain": [
       "<Figure size 432x288 with 1 Axes>"
      ]
     },
     "metadata": {
      "needs_background": "light"
     },
     "output_type": "display_data"
    },
    {
     "data": {
      "image/png": "[encoded data removed]",
      "text/plain": [
       "<Figure size 432x288 with 1 Axes>"
      ]
     },
     "metadata": {
      "needs_background": "light"
     },
     "output_type": "display_data"
    },
    {
     "data": {
      "image/png": "[encoded data removed]",
      "text/plain": [
       "<Figure size 432x288 with 1 Axes>"
      ]
     },
     "metadata": {
      "needs_background": "light"
     },
     "output_type": "display_data"
    },
    {
     "data": {
      "image/png": "[encoded data removed]",
      "text/plain": [
       "<Figure size 432x288 with 1 Axes>"
      ]
     },
     "metadata": {
      "needs_background": "light"
     },
     "output_type": "display_data"
    },
    {
     "data": {
      "image/png": "[encoded data removed]",
      "text/plain": [
       "<Figure size 432x288 with 1 Axes>"
      ]
     },
     "metadata": {
      "needs_background": "light"
     },
     "output_type": "display_data"
    },
    {
     "data": {
      "image/png": "[encoded data removed]",
      "text/plain": [
       "<Figure size 432x288 with 1 Axes>"
      ]
     },
     "metadata": {
      "needs_background": "light"
     },
     "output_type": "display_data"
    },
    {
     "data": {
      "image/png": "[encoded data removed]",
      "text/plain": [
       "<Figure size 432x288 with 1 Axes>"
      ]
     },
     "metadata": {
      "needs_background": "light"
     },
     "output_type": "display_data"
    },
    {
     "data": {
      "image/png": "[encoded data removed]",
      "text/plain": [
       "<Figure size 432x288 with 1 Axes>"
      ]
     },
     "metadata": {
      "needs_background": "light"
     },
     "output_type": "display_data"
    }
   ],
   "source": [
    "for column in df.columns:\n",
    "    if column in cont_columns:      \n",
    "        df[column] = df[column].map(lambda i: np.log(i) if i > 0 else 0)\n",
    "    df.boxplot([column])\n",
    "    plt.show()"
   ]
  },
  {
   "cell_type": "markdown",
   "metadata": {},
   "source": [
    "## Corr plot of all features"
   ]
  },
  {
   "cell_type": "code",
   "execution_count": 65,
   "metadata": {},
   "outputs": [],
   "source": [
    "df_2 = df.copy()"
   ]
  },
  {
   "cell_type": "code",
   "execution_count": 66,
   "metadata": {},
   "outputs": [
    {
     "data": {
      "text/plain": [
       "<matplotlib.axes._subplots.AxesSubplot at 0x2234f2e1400>"
      ]
     },
     "execution_count": 66,
     "metadata": {},
     "output_type": "execute_result"
    },
    {
     "data": {
      "image/png": "[encoded data removed]",
      "text/plain": [
       "<Figure size 1080x720 with 2 Axes>"
      ]
     },
     "metadata": {
      "needs_background": "light"
     },
     "output_type": "display_data"
    }
   ],
   "source": [
    "plt.figure(figsize=(15,10)) #for adjusting figuresize\n",
    "sns.heatmap(df_2.corr(),annot=True) #for correlation plot"
   ]
  },
  {
   "cell_type": "markdown",
   "metadata": {},
   "source": [
    "### Understanding from above corrp plot:\n",
    "\n",
    "* 'pdays' and 'previous' are highly correlated"
   ]
  },
  {
   "cell_type": "markdown",
   "metadata": {},
   "source": [
    "# Train Test Split (70:30)"
   ]
  },
  {
   "cell_type": "code",
   "execution_count": 67,
   "metadata": {},
   "outputs": [],
   "source": [
    "X = df_2.drop('Target',axis=1) #independent dimensions  \n",
    "y = df_2['Target'] #selecting target column\n",
    "X_train,X_test,y_train,y_test = train_test_split(X,y,test_size=0.30,random_state=1) #train test split in 70:30 ratio"
   ]
  },
  {
   "cell_type": "markdown",
   "metadata": {},
   "source": [
    "# Scaling of columns"
   ]
  },
  {
   "cell_type": "code",
   "execution_count": 68,
   "metadata": {},
   "outputs": [],
   "source": [
    "scaler = StandardScaler() #using standard scaler method\n",
    "X_train_scaled = scaler.fit_transform(X_train) #Scaling of Train dataset\n",
    "X_test_scaled = scaler.fit_transform(X_test) #Scaling of Test dataset"
   ]
  },
  {
   "cell_type": "markdown",
   "metadata": {},
   "source": [
    "# Models:\n",
    "## Logistic Regression:"
   ]
  },
  {
   "cell_type": "code",
   "execution_count": 69,
   "metadata": {
    "scrolled": false
   },
   "outputs": [
    {
     "name": "stdout",
     "output_type": "stream",
     "text": [
      "Optimization terminated successfully.\n",
      "         Current function value: 0.425733\n",
      "         Iterations 7\n"
     ]
    },
    {
     "data": {
      "text/html": [
       "<table class=\"simpletable\">\n",
       "<caption>Logit Regression Results</caption>\n",
       "<tr>\n",
       "  <th>Dep. Variable:</th>        <td>Target</td>      <th>  No. Observations:  </th>  <td> 79844</td> \n",
       "</tr>\n",
       "<tr>\n",
       "  <th>Model:</th>                 <td>Logit</td>      <th>  Df Residuals:      </th>  <td> 79826</td> \n",
       "</tr>\n",
       "<tr>\n",
       "  <th>Method:</th>                 <td>MLE</td>       <th>  Df Model:          </th>  <td>    17</td> \n",
       "</tr>\n",
       "<tr>\n",
       "  <th>Date:</th>            <td>Tue, 13 Oct 2020</td> <th>  Pseudo R-squ.:     </th>  <td>0.3858</td> \n",
       "</tr>\n",
       "<tr>\n",
       "  <th>Time:</th>                <td>20:27:22</td>     <th>  Log-Likelihood:    </th> <td> -33992.</td>\n",
       "</tr>\n",
       "<tr>\n",
       "  <th>converged:</th>             <td>True</td>       <th>  LL-Null:           </th> <td> -55344.</td>\n",
       "</tr>\n",
       "<tr>\n",
       "  <th>Covariance Type:</th>     <td>nonrobust</td>    <th>  LLR p-value:       </th>  <td> 0.000</td> \n",
       "</tr>\n",
       "</table>\n",
       "<table class=\"simpletable\">\n",
       "<tr>\n",
       "      <td></td>         <th>coef</th>     <th>std err</th>      <th>z</th>      <th>P>|z|</th>  <th>[0.025</th>    <th>0.975]</th>  \n",
       "</tr>\n",
       "<tr>\n",
       "  <th>const</th>     <td>  -14.9215</td> <td>    0.300</td> <td>  -49.684</td> <td> 0.000</td> <td>  -15.510</td> <td>  -14.333</td>\n",
       "</tr>\n",
       "<tr>\n",
       "  <th>age</th>       <td>   -0.1041</td> <td>    0.036</td> <td>   -2.873</td> <td> 0.004</td> <td>   -0.175</td> <td>   -0.033</td>\n",
       "</tr>\n",
       "<tr>\n",
       "  <th>job</th>       <td>   -0.0054</td> <td>    0.004</td> <td>   -1.527</td> <td> 0.127</td> <td>   -0.012</td> <td>    0.002</td>\n",
       "</tr>\n",
       "<tr>\n",
       "  <th>marital</th>   <td>    0.1721</td> <td>    0.014</td> <td>   12.217</td> <td> 0.000</td> <td>    0.145</td> <td>    0.200</td>\n",
       "</tr>\n",
       "<tr>\n",
       "  <th>education</th> <td>   -0.1318</td> <td>    0.013</td> <td>  -10.481</td> <td> 0.000</td> <td>   -0.156</td> <td>   -0.107</td>\n",
       "</tr>\n",
       "<tr>\n",
       "  <th>default</th>   <td>   -0.2739</td> <td>    0.081</td> <td>   -3.377</td> <td> 0.001</td> <td>   -0.433</td> <td>   -0.115</td>\n",
       "</tr>\n",
       "<tr>\n",
       "  <th>balance</th>   <td>    0.4373</td> <td>    0.025</td> <td>   17.589</td> <td> 0.000</td> <td>    0.389</td> <td>    0.486</td>\n",
       "</tr>\n",
       "<tr>\n",
       "  <th>housing</th>   <td>    1.0119</td> <td>    0.021</td> <td>   48.397</td> <td> 0.000</td> <td>    0.971</td> <td>    1.053</td>\n",
       "</tr>\n",
       "<tr>\n",
       "  <th>loan</th>      <td>    0.6494</td> <td>    0.030</td> <td>   22.001</td> <td> 0.000</td> <td>    0.592</td> <td>    0.707</td>\n",
       "</tr>\n",
       "<tr>\n",
       "  <th>contact</th>   <td>    0.5574</td> <td>    0.013</td> <td>   42.005</td> <td> 0.000</td> <td>    0.531</td> <td>    0.583</td>\n",
       "</tr>\n",
       "<tr>\n",
       "  <th>day</th>       <td>   -0.1096</td> <td>    0.013</td> <td>   -8.344</td> <td> 0.000</td> <td>   -0.135</td> <td>   -0.084</td>\n",
       "</tr>\n",
       "<tr>\n",
       "  <th>month</th>     <td>   -0.0096</td> <td>    0.003</td> <td>   -2.901</td> <td> 0.004</td> <td>   -0.016</td> <td>   -0.003</td>\n",
       "</tr>\n",
       "<tr>\n",
       "  <th>duration</th>  <td>    1.9113</td> <td>    0.015</td> <td>  126.620</td> <td> 0.000</td> <td>    1.882</td> <td>    1.941</td>\n",
       "</tr>\n",
       "<tr>\n",
       "  <th>campaign</th>  <td>   -0.4207</td> <td>    0.015</td> <td>  -27.254</td> <td> 0.000</td> <td>   -0.451</td> <td>   -0.390</td>\n",
       "</tr>\n",
       "<tr>\n",
       "  <th>pdays</th>     <td>   -0.1026</td> <td>    0.029</td> <td>   -3.505</td> <td> 0.000</td> <td>   -0.160</td> <td>   -0.045</td>\n",
       "</tr>\n",
       "<tr>\n",
       "  <th>previous</th>  <td>    0.1729</td> <td>    0.027</td> <td>    6.355</td> <td> 0.000</td> <td>    0.120</td> <td>    0.226</td>\n",
       "</tr>\n",
       "<tr>\n",
       "  <th>poutcome</th>  <td>    0.6258</td> <td>    0.016</td> <td>   40.169</td> <td> 0.000</td> <td>    0.595</td> <td>    0.656</td>\n",
       "</tr>\n",
       "<tr>\n",
       "  <th>pday_mod</th>  <td>   -1.2846</td> <td>    0.158</td> <td>   -8.133</td> <td> 0.000</td> <td>   -1.594</td> <td>   -0.975</td>\n",
       "</tr>\n",
       "</table>"
      ],
      "text/plain": [
       "<class 'statsmodels.iolib.summary.Summary'>\n",
       "\"\"\"\n",
       "                           Logit Regression Results                           \n",
       "==============================================================================\n",
       "Dep. Variable:                 Target   No. Observations:                79844\n",
       "Model:                          Logit   Df Residuals:                    79826\n",
       "Method:                           MLE   Df Model:                           17\n",
       "Date:                Tue, 13 Oct 2020   Pseudo R-squ.:                  0.3858\n",
       "Time:                        20:27:22   Log-Likelihood:                -33992.\n",
       "converged:                       True   LL-Null:                       -55344.\n",
       "Covariance Type:            nonrobust   LLR p-value:                     0.000\n",
       "==============================================================================\n",
       "                 coef    std err          z      P>|z|      [0.025      0.975]\n",
       "------------------------------------------------------------------------------\n",
       "const        -14.9215      0.300    -49.684      0.000     -15.510     -14.333\n",
       "age           -0.1041      0.036     -2.873      0.004      -0.175      -0.033\n",
       "job           -0.0054      0.004     -1.527      0.127      -0.012       0.002\n",
       "marital        0.1721      0.014     12.217      0.000       0.145       0.200\n",
       "education     -0.1318      0.013    -10.481      0.000      -0.156      -0.107\n",
       "default       -0.2739      0.081     -3.377      0.001      -0.433      -0.115\n",
       "balance        0.4373      0.025     17.589      0.000       0.389       0.486\n",
       "housing        1.0119      0.021     48.397      0.000       0.971       1.053\n",
       "loan           0.6494      0.030     22.001      0.000       0.592       0.707\n",
       "contact        0.5574      0.013     42.005      0.000       0.531       0.583\n",
       "day           -0.1096      0.013     -8.344      0.000      -0.135      -0.084\n",
       "month         -0.0096      0.003     -2.901      0.004      -0.016      -0.003\n",
       "duration       1.9113      0.015    126.620      0.000       1.882       1.941\n",
       "campaign      -0.4207      0.015    -27.254      0.000      -0.451      -0.390\n",
       "pdays         -0.1026      0.029     -3.505      0.000      -0.160      -0.045\n",
       "previous       0.1729      0.027      6.355      0.000       0.120       0.226\n",
       "poutcome       0.6258      0.016     40.169      0.000       0.595       0.656\n",
       "pday_mod      -1.2846      0.158     -8.133      0.000      -1.594      -0.975\n",
       "==============================================================================\n",
       "\"\"\""
      ]
     },
     "execution_count": 69,
     "metadata": {},
     "output_type": "execute_result"
    }
   ],
   "source": [
    "X1 = sm.add_constant(X)\n",
    "Logistic = sm.Logit(df_2[[\"Target\"]], X1)\n",
    "result = Logistic.fit()\n",
    "result.summary()"
   ]
  },
  {
   "cell_type": "code",
   "execution_count": 70,
   "metadata": {},
   "outputs": [],
   "source": [
    "logic_r = LogisticRegression(solver='liblinear') #Instantiate the LogisticRegression object\n",
    "logic_r.fit(X_train_scaled,y_train) #Call the fit method of logistic regression to train the model or to learn the parameters of model\n",
    "y_pred = logic_r.predict(X_test_scaled) #Predict  "
   ]
  },
  {
   "cell_type": "code",
   "execution_count": 71,
   "metadata": {},
   "outputs": [
    {
     "name": "stdout",
     "output_type": "stream",
     "text": [
      "\u001b[1m->\u001b[1m->\u001b[1m->\u001b[1m->\u001b[1m->\u001b[1m->\u001b[1m->\u001b[1m->\u001b[1m->\u001b[1m->\u001b[1m->\u001b[1m->\u001b[1m->\u001b[1m->\u001b[1m->\u001b[1m->\u001b[1m->\u001b[1m->\u001b[1m->\u001b[1m->\u001b[1m->\u001b[1m->\u001b[1m->\u001b[1m->\u001b[1m->\u001b[1m->\u001b[1m->\u001b[1m->\u001b[1m->\u001b[1m->\u001b[1m->\u001b[1m->\u001b[1m->\u001b[1m->\u001b[1m->\u001b[1m->\u001b[1m->\u001b[1m->\u001b[1m->\u001b[1m->\u001b[1m->\u001b[1m->\u001b[1m->\u001b[1m->\u001b[1m->\u001b[1m->\u001b[1m->\u001b[1m->\u001b[1m->\u001b[1m->\u001b[1m->\u001b[1m->\u001b[1m->\u001b[1m->\u001b[1m->\u001b[1m->\u001b[1m->\u001b[1m->\u001b[1m->\u001b[1m->\u001b[1m->\u001b[1m->\u001b[1m->\n",
      "\u001b[1mConfusion Matrix\n",
      " [[9551 2441]\n",
      " [2181 9781]]\n",
      "----------------------------------------\n",
      "Accuracy of Logistic Regression :0.81\n",
      "----------------------------------------\n",
      "\n",
      " Classification Report\n",
      "               precision    recall  f1-score   support\n",
      "\n",
      "           0       0.81      0.80      0.81     11992\n",
      "           1       0.80      0.82      0.81     11962\n",
      "\n",
      "    accuracy                           0.81     23954\n",
      "   macro avg       0.81      0.81      0.81     23954\n",
      "weighted avg       0.81      0.81      0.81     23954\n",
      "\n",
      "->->->->->->->->->->->->->->->->->->->->->->->->->->->->->->->->->->->->->->->->->->->->->->->->->->->->->->->->->->->->->->->\n"
     ]
    }
   ],
   "source": [
    "print('\\033[1m''->'*63)\n",
    "print('\\033[1m''Confusion Matrix\\n',confusion_matrix(y_test,y_pred)) #for confusion matrix\n",
    "print('-'*40)\n",
    "LR_accuracy = accuracy_score(y_test,y_pred)\n",
    "print('Accuracy of Logistic Regression :{:.2f}'.format(LR_accuracy)) #for accuracy score\n",
    "print('-'*40)\n",
    "print('\\n Classification Report\\n',classification_report(y_test,y_pred)) #for classification report\n",
    "print('->'*63)"
   ]
  },
  {
   "cell_type": "markdown",
   "metadata": {},
   "source": [
    "## Naive Bayes"
   ]
  },
  {
   "cell_type": "code",
   "execution_count": 72,
   "metadata": {},
   "outputs": [],
   "source": [
    "NB = GaussianNB()   #Instantiate the Gaussian Naive bayes \n",
    "NB.fit(X_train_scaled,y_train) #Call the fit method of NB to train the model or to learn the parameters of model\n",
    "y_predi = NB.predict(X_test_scaled) #Predict "
   ]
  },
  {
   "cell_type": "code",
   "execution_count": 73,
   "metadata": {},
   "outputs": [
    {
     "name": "stdout",
     "output_type": "stream",
     "text": [
      "\u001b[1m->\u001b[1m->\u001b[1m->\u001b[1m->\u001b[1m->\u001b[1m->\u001b[1m->\u001b[1m->\u001b[1m->\u001b[1m->\u001b[1m->\u001b[1m->\u001b[1m->\u001b[1m->\u001b[1m->\u001b[1m->\u001b[1m->\u001b[1m->\u001b[1m->\u001b[1m->\u001b[1m->\u001b[1m->\u001b[1m->\u001b[1m->\u001b[1m->\u001b[1m->\u001b[1m->\u001b[1m->\u001b[1m->\u001b[1m->\u001b[1m->\u001b[1m->\u001b[1m->\u001b[1m->\u001b[1m->\u001b[1m->\u001b[1m->\u001b[1m->\u001b[1m->\u001b[1m->\u001b[1m->\u001b[1m->\u001b[1m->\u001b[1m->\u001b[1m->\u001b[1m->\u001b[1m->\u001b[1m->\u001b[1m->\u001b[1m->\u001b[1m->\u001b[1m->\u001b[1m->\u001b[1m->\u001b[1m->\u001b[1m->\u001b[1m->\u001b[1m->\u001b[1m->\u001b[1m->\u001b[1m->\u001b[1m->\u001b[1m->\n",
      "\u001b[1mConfusion Matrix\n",
      " [[9518 2474]\n",
      " [4341 7621]]\n",
      "------------------------------\n",
      "Accuracy of Naive Bayes :0.72\n",
      "------------------------------\n",
      "\n",
      " Classification Report\n",
      "               precision    recall  f1-score   support\n",
      "\n",
      "           0       0.69      0.79      0.74     11992\n",
      "           1       0.75      0.64      0.69     11962\n",
      "\n",
      "    accuracy                           0.72     23954\n",
      "   macro avg       0.72      0.72      0.71     23954\n",
      "weighted avg       0.72      0.72      0.71     23954\n",
      "\n",
      "->->->->->->->->->->->->->->->->->->->->->->->->->->->->->->->->->->->->->->->->->->->->->->->->->->->->->->->->->->->->->->->\n"
     ]
    }
   ],
   "source": [
    "print('\\033[1m''->'*63)\n",
    "print('\\033[1m''Confusion Matrix\\n',confusion_matrix(y_test,y_predi)) #for confusion matrix\n",
    "print('-'*30)\n",
    "NB_accuracy = accuracy_score(y_test,y_predi)\n",
    "print('Accuracy of Naive Bayes :{:.2f}'.format(NB_accuracy)) #for accuracy score\n",
    "print('-'*30)\n",
    "print('\\n Classification Report\\n',classification_report(y_test,y_predi)) #for classification report\n",
    "print('->'*63)"
   ]
  },
  {
   "cell_type": "markdown",
   "metadata": {},
   "source": [
    "## K-Nearest Neighbor"
   ]
  },
  {
   "cell_type": "code",
   "execution_count": 74,
   "metadata": {},
   "outputs": [],
   "source": [
    "# # k=3\n",
    "# knn = KNeighborsClassifier(n_neighbors = 3)  #Instantiate KNN with k=3\n",
    "# knn.fit(X_train_scaled,y_train) #Call the fit method of KNN to train the model or to learn the parameters of model\n",
    "# y_predict = knn.predict(X_test_scaled) #Predict \n",
    "\n",
    "# print('\\033[1m''->'*63)\n",
    "# print('\\033[1m''Confusion Matrix\\n',confusion_matrix(y_test,y_predi)) #for confusion matrix\n",
    "# print('-'*30)\n",
    "# KNN_accuracy = accuracy_score(y_test,y_predict)\n",
    "# print('Accuracy of KNN :{:.2f}'.format(KNN_accuracy)) #for accuracy score\n",
    "# print('-'*30)\n",
    "# print('\\n Classification Report\\n',classification_report(y_test,y_predi)) #for classification report\n",
    "# print('->'*63)"
   ]
  },
  {
   "cell_type": "code",
   "execution_count": 75,
   "metadata": {},
   "outputs": [],
   "source": [
    "# oddList = list(np.arange(1,15)) #Range from 1 to 15\n",
    "# neighbors = list(filter(lambda x: x % 2 != 0, oddList)) #Selecting only odd numbers from Range 1 to 24\n",
    "\n",
    "# accuracy_list = [] #Empty list to store accuracy scores of KNN models based on various K values\n",
    "\n",
    "# for i in neighbors:\n",
    "#     knn = KNeighborsClassifier(n_neighbors = i) #Instantiate KNN with k=i\n",
    "#     knn.fit(X_train_scaled,y_train)  #Call the fit method of KNN to train the model or to learn the parameters of model\n",
    "#     y_pred = knn.predict(X_test_scaled) #Predict \n",
    "#     accuracy_s = accuracy_score(y_test,y_pred) #for accuracy score\n",
    "#     accuracy_list.append(accuracy_s)  #for appedning accuracy score to accuracy score list\n",
    "    \n",
    "# MSE=[1 - j for j in accuracy_list] #calculation of Mean Squared Error\n",
    "\n",
    "# optimal = neighbors[MSE.index(min(MSE))] #Optimal K value selected by minimum MSE\n",
    "# print('optimal k is',optimal) #Print optimal K value selected by minimum MSE\n",
    "\n",
    "# plt.plot(neighbors,MSE) #MSE plot \n",
    "# plt.xlabel('Number of Neighbors K') #XLabel\n",
    "# plt.ylabel('Misclassification Error') #YLabel\n",
    "# plt.show() #display plot"
   ]
  },
  {
   "cell_type": "markdown",
   "metadata": {},
   "source": [
    "## SVC"
   ]
  },
  {
   "cell_type": "code",
   "execution_count": 76,
   "metadata": {},
   "outputs": [],
   "source": [
    "# svc = SVC()  #Instantiate SVC\n",
    "# svc.fit(X_train_scaled,y_train) #Call the fit method of SVC to train the model or to learn the parameters of model\n",
    "# predicted_svc = svc.predict(X_test_scaled) #Predict \n",
    "\n",
    "# print('\\033[1m''->'*63)\n",
    "# print('\\033[1m''Confusion Matrix\\n',confusion_matrix(y_test,predicted_svc)) #for confusion matrix\n",
    "# print('-'*30)\n",
    "# SVC_accuracy = accuracy_score(y_test,predicted_svc) #for accuracy score\n",
    "# print('Accuracy of SVC :',SVC_accuracy)\n",
    "# print('-'*30)\n",
    "# print('\\n Classification Report\\n',classification_report(y_test,predicted_svc)) #for classification report\n",
    "# print('->'*63)"
   ]
  },
  {
   "cell_type": "markdown",
   "metadata": {},
   "source": [
    "# Ensemble Models"
   ]
  },
  {
   "cell_type": "markdown",
   "metadata": {},
   "source": [
    "## Decision Tree"
   ]
  },
  {
   "cell_type": "code",
   "execution_count": 77,
   "metadata": {},
   "outputs": [
    {
     "name": "stdout",
     "output_type": "stream",
     "text": [
      "\u001b[1m->\u001b[1m->\u001b[1m->\u001b[1m->\u001b[1m->\u001b[1m->\u001b[1m->\u001b[1m->\u001b[1m->\u001b[1m->\u001b[1m->\u001b[1m->\u001b[1m->\u001b[1m->\u001b[1m->\u001b[1m->\u001b[1m->\u001b[1m->\u001b[1m->\u001b[1m->\u001b[1m->\u001b[1m->\u001b[1m->\u001b[1m->\u001b[1m->\u001b[1m->\u001b[1m->\u001b[1m->\u001b[1m->\u001b[1m->\u001b[1m->\u001b[1m->\u001b[1m->\u001b[1m->\u001b[1m->\u001b[1m->\u001b[1m->\u001b[1m->\u001b[1m->\u001b[1m->\u001b[1m->\u001b[1m->\u001b[1m->\u001b[1m->\u001b[1m->\u001b[1m->\u001b[1m->\u001b[1m->\u001b[1m->\u001b[1m->\u001b[1m->\u001b[1m->\u001b[1m->\u001b[1m->\u001b[1m->\u001b[1m->\u001b[1m->\u001b[1m->\u001b[1m->\u001b[1m->\u001b[1m->\u001b[1m->\u001b[1m->\n",
      "\u001b[1mConfusion Matrix\n",
      " [[11007   985]\n",
      " [   17 11945]]\n",
      "------------------------------\n",
      "Accuracy of Decision Tree :0.96\n",
      "------------------------------\n",
      "\n",
      " Classification Report\n",
      "               precision    recall  f1-score   support\n",
      "\n",
      "           0       1.00      0.92      0.96     11992\n",
      "           1       0.92      1.00      0.96     11962\n",
      "\n",
      "    accuracy                           0.96     23954\n",
      "   macro avg       0.96      0.96      0.96     23954\n",
      "weighted avg       0.96      0.96      0.96     23954\n",
      "\n",
      "->->->->->->->->->->->->->->->->->->->->->->->->->->->->->->->->->->->->->->->->->->->->->->->->->->->->->->->->->->->->->->->\n"
     ]
    }
   ],
   "source": [
    "dTree = DecisionTreeClassifier(criterion = 'gini', random_state=1) #Instantiate Decision Tree\n",
    "dTree.fit(X_train, y_train) #Call the fit method of DT to train the model or to learn the parameters of model\n",
    "predicted_DT = dTree.predict(X_test) #Predict \n",
    "\n",
    "print('\\033[1m''->'*63)\n",
    "print('\\033[1m''Confusion Matrix\\n',confusion_matrix(y_test,predicted_DT)) #for confusion matrix\n",
    "print('-'*30)\n",
    "DT_accuracy = accuracy_score(y_test,predicted_DT)\n",
    "print('Accuracy of Decision Tree :{:.2f}'.format(DT_accuracy)) #for accuracy score\n",
    "print('-'*30)\n",
    "print('\\n Classification Report\\n',classification_report(y_test,predicted_DT)) #for classification report\n",
    "print('->'*63)"
   ]
  },
  {
   "cell_type": "markdown",
   "metadata": {},
   "source": [
    "## Feature importance test for decision tree"
   ]
  },
  {
   "cell_type": "code",
   "execution_count": 78,
   "metadata": {},
   "outputs": [
    {
     "data": {
      "text/html": [
       "<div>\n",
       "<style scoped>\n",
       "    .dataframe tbody tr th:only-of-type {\n",
       "        vertical-align: middle;\n",
       "    }\n",
       "\n",
       "    .dataframe tbody tr th {\n",
       "        vertical-align: top;\n",
       "    }\n",
       "\n",
       "    .dataframe thead th {\n",
       "        text-align: right;\n",
       "    }\n",
       "</style>\n",
       "<table border=\"1\" class=\"dataframe\">\n",
       "  <thead>\n",
       "    <tr style=\"text-align: right;\">\n",
       "      <th></th>\n",
       "      <th>0</th>\n",
       "    </tr>\n",
       "  </thead>\n",
       "  <tbody>\n",
       "    <tr>\n",
       "      <th>duration</th>\n",
       "      <td>0.343315</td>\n",
       "    </tr>\n",
       "    <tr>\n",
       "      <th>month</th>\n",
       "      <td>0.093948</td>\n",
       "    </tr>\n",
       "    <tr>\n",
       "      <th>balance</th>\n",
       "      <td>0.088140</td>\n",
       "    </tr>\n",
       "    <tr>\n",
       "      <th>poutcome</th>\n",
       "      <td>0.076291</td>\n",
       "    </tr>\n",
       "    <tr>\n",
       "      <th>age</th>\n",
       "      <td>0.075837</td>\n",
       "    </tr>\n",
       "    <tr>\n",
       "      <th>day</th>\n",
       "      <td>0.075404</td>\n",
       "    </tr>\n",
       "    <tr>\n",
       "      <th>contact</th>\n",
       "      <td>0.068984</td>\n",
       "    </tr>\n",
       "    <tr>\n",
       "      <th>housing</th>\n",
       "      <td>0.039236</td>\n",
       "    </tr>\n",
       "    <tr>\n",
       "      <th>job</th>\n",
       "      <td>0.029518</td>\n",
       "    </tr>\n",
       "    <tr>\n",
       "      <th>pdays</th>\n",
       "      <td>0.029443</td>\n",
       "    </tr>\n",
       "    <tr>\n",
       "      <th>campaign</th>\n",
       "      <td>0.026464</td>\n",
       "    </tr>\n",
       "    <tr>\n",
       "      <th>education</th>\n",
       "      <td>0.016647</td>\n",
       "    </tr>\n",
       "    <tr>\n",
       "      <th>previous</th>\n",
       "      <td>0.012611</td>\n",
       "    </tr>\n",
       "    <tr>\n",
       "      <th>marital</th>\n",
       "      <td>0.011057</td>\n",
       "    </tr>\n",
       "    <tr>\n",
       "      <th>loan</th>\n",
       "      <td>0.008826</td>\n",
       "    </tr>\n",
       "    <tr>\n",
       "      <th>pday_mod</th>\n",
       "      <td>0.003586</td>\n",
       "    </tr>\n",
       "    <tr>\n",
       "      <th>default</th>\n",
       "      <td>0.000694</td>\n",
       "    </tr>\n",
       "  </tbody>\n",
       "</table>\n",
       "</div>"
      ],
      "text/plain": [
       "                  0\n",
       "duration   0.343315\n",
       "month      0.093948\n",
       "balance    0.088140\n",
       "poutcome   0.076291\n",
       "age        0.075837\n",
       "day        0.075404\n",
       "contact    0.068984\n",
       "housing    0.039236\n",
       "job        0.029518\n",
       "pdays      0.029443\n",
       "campaign   0.026464\n",
       "education  0.016647\n",
       "previous   0.012611\n",
       "marital    0.011057\n",
       "loan       0.008826\n",
       "pday_mod   0.003586\n",
       "default    0.000694"
      ]
     },
     "execution_count": 78,
     "metadata": {},
     "output_type": "execute_result"
    }
   ],
   "source": [
    "xvar = df_2.drop('Target', axis=1) #variables in x\n",
    "feature_cols = xvar.columns # columns in x\n",
    "feat_importance = dTree.tree_.compute_feature_importances(normalize=False) #compute feature importance\n",
    "\n",
    "\n",
    "feat_imp_dict = dict(zip(feature_cols, dTree.feature_importances_)) #dictionary of columns and importance\n",
    "feat_imp = pd.DataFrame.from_dict(feat_imp_dict, orient='index') #conversion of dictionary to dataframe\n",
    "feat_imp.sort_values(by=0, ascending=False) #sort in descending order"
   ]
  },
  {
   "cell_type": "code",
   "execution_count": 79,
   "metadata": {},
   "outputs": [
    {
     "name": "stdout",
     "output_type": "stream",
     "text": [
      "\u001b[1m->\u001b[1m->\u001b[1m->\u001b[1m->\u001b[1m->\u001b[1m->\u001b[1m->\u001b[1m->\u001b[1m->\u001b[1m->\u001b[1m->\u001b[1m->\u001b[1m->\u001b[1m->\u001b[1m->\u001b[1m->\u001b[1m->\u001b[1m->\u001b[1m->\u001b[1m->\u001b[1m->\u001b[1m->\u001b[1m->\u001b[1m->\u001b[1m->\u001b[1m->\u001b[1m->\u001b[1m->\u001b[1m->\u001b[1m->\u001b[1m->\u001b[1m->\u001b[1m->\u001b[1m->\u001b[1m->\u001b[1m->\u001b[1m->\u001b[1m->\u001b[1m->\u001b[1m->\u001b[1m->\u001b[1m->\u001b[1m->\u001b[1m->\u001b[1m->\u001b[1m->\u001b[1m->\u001b[1m->\u001b[1m->\u001b[1m->\u001b[1m->\u001b[1m->\u001b[1m->\u001b[1m->\u001b[1m->\u001b[1m->\u001b[1m->\u001b[1m->\u001b[1m->\u001b[1m->\u001b[1m->\u001b[1m->\u001b[1m->\n",
      "\u001b[1mConfusion Matrix\n",
      " [[11003   989]\n",
      " [   27 11935]]\n",
      "------------------------------\n",
      "Accuracy of Decision Tree with Regularization:0.96\n",
      "------------------------------\n",
      "\n",
      " Classification Report\n",
      "               precision    recall  f1-score   support\n",
      "\n",
      "           0       1.00      0.92      0.96     11992\n",
      "           1       0.92      1.00      0.96     11962\n",
      "\n",
      "    accuracy                           0.96     23954\n",
      "   macro avg       0.96      0.96      0.96     23954\n",
      "weighted avg       0.96      0.96      0.96     23954\n",
      "\n",
      "->->->->->->->->->->->->->->->->->->->->->->->->->->->->->->->->->->->->->->->->->->->->->->->->->->->->->->->->->->->->->->->\n"
     ]
    }
   ],
   "source": [
    "dTreeR = DecisionTreeClassifier(criterion = 'gini', max_depth = 28, random_state=1) #Instantiate Decision Tree with max_depth\n",
    "dTreeR.fit(X_train, y_train) #Call the fit method of DT to train the model or to learn the parameters of model\n",
    "predicted_DTR = dTreeR.predict(X_test) #Predict\n",
    "\n",
    "print('\\033[1m''->'*63)\n",
    "print('\\033[1m''Confusion Matrix\\n',confusion_matrix(y_test,predicted_DTR)) #for confusion matrix\n",
    "print('-'*30)\n",
    "DTR_accuracy = accuracy_score(y_test,predicted_DTR)\n",
    "print('Accuracy of Decision Tree with Regularization:{:.2f}'.format(DTR_accuracy)) #for accuracy score\n",
    "print('-'*30)\n",
    "print('\\n Classification Report\\n',classification_report(y_test,predicted_DTR)) #for classification report\n",
    "print('->'*63)"
   ]
  },
  {
   "cell_type": "code",
   "execution_count": 80,
   "metadata": {},
   "outputs": [],
   "source": [
    "# fig = plt.figure(figsize = (50, 25))\n",
    "# _=tree.plot_tree(dTreeR, feature_names = X.columns, filled=True)"
   ]
  },
  {
   "cell_type": "code",
   "execution_count": 81,
   "metadata": {},
   "outputs": [
    {
     "data": {
      "text/html": [
       "<div>\n",
       "<style scoped>\n",
       "    .dataframe tbody tr th:only-of-type {\n",
       "        vertical-align: middle;\n",
       "    }\n",
       "\n",
       "    .dataframe tbody tr th {\n",
       "        vertical-align: top;\n",
       "    }\n",
       "\n",
       "    .dataframe thead th {\n",
       "        text-align: right;\n",
       "    }\n",
       "</style>\n",
       "<table border=\"1\" class=\"dataframe\">\n",
       "  <thead>\n",
       "    <tr style=\"text-align: right;\">\n",
       "      <th></th>\n",
       "      <th>0</th>\n",
       "    </tr>\n",
       "  </thead>\n",
       "  <tbody>\n",
       "    <tr>\n",
       "      <th>duration</th>\n",
       "      <td>0.342645</td>\n",
       "    </tr>\n",
       "    <tr>\n",
       "      <th>month</th>\n",
       "      <td>0.092567</td>\n",
       "    </tr>\n",
       "    <tr>\n",
       "      <th>balance</th>\n",
       "      <td>0.088277</td>\n",
       "    </tr>\n",
       "    <tr>\n",
       "      <th>poutcome</th>\n",
       "      <td>0.076831</td>\n",
       "    </tr>\n",
       "    <tr>\n",
       "      <th>age</th>\n",
       "      <td>0.076675</td>\n",
       "    </tr>\n",
       "    <tr>\n",
       "      <th>day</th>\n",
       "      <td>0.073178</td>\n",
       "    </tr>\n",
       "    <tr>\n",
       "      <th>contact</th>\n",
       "      <td>0.069770</td>\n",
       "    </tr>\n",
       "    <tr>\n",
       "      <th>housing</th>\n",
       "      <td>0.039479</td>\n",
       "    </tr>\n",
       "    <tr>\n",
       "      <th>pdays</th>\n",
       "      <td>0.031703</td>\n",
       "    </tr>\n",
       "    <tr>\n",
       "      <th>job</th>\n",
       "      <td>0.030546</td>\n",
       "    </tr>\n",
       "    <tr>\n",
       "      <th>campaign</th>\n",
       "      <td>0.025619</td>\n",
       "    </tr>\n",
       "    <tr>\n",
       "      <th>education</th>\n",
       "      <td>0.017742</td>\n",
       "    </tr>\n",
       "    <tr>\n",
       "      <th>previous</th>\n",
       "      <td>0.013352</td>\n",
       "    </tr>\n",
       "    <tr>\n",
       "      <th>marital</th>\n",
       "      <td>0.010185</td>\n",
       "    </tr>\n",
       "    <tr>\n",
       "      <th>loan</th>\n",
       "      <td>0.008900</td>\n",
       "    </tr>\n",
       "    <tr>\n",
       "      <th>pday_mod</th>\n",
       "      <td>0.002129</td>\n",
       "    </tr>\n",
       "    <tr>\n",
       "      <th>default</th>\n",
       "      <td>0.000403</td>\n",
       "    </tr>\n",
       "  </tbody>\n",
       "</table>\n",
       "</div>"
      ],
      "text/plain": [
       "                  0\n",
       "duration   0.342645\n",
       "month      0.092567\n",
       "balance    0.088277\n",
       "poutcome   0.076831\n",
       "age        0.076675\n",
       "day        0.073178\n",
       "contact    0.069770\n",
       "housing    0.039479\n",
       "pdays      0.031703\n",
       "job        0.030546\n",
       "campaign   0.025619\n",
       "education  0.017742\n",
       "previous   0.013352\n",
       "marital    0.010185\n",
       "loan       0.008900\n",
       "pday_mod   0.002129\n",
       "default    0.000403"
      ]
     },
     "execution_count": 81,
     "metadata": {},
     "output_type": "execute_result"
    }
   ],
   "source": [
    "feat_importance = dTreeR.tree_.compute_feature_importances(normalize=False) #compute feature importance\n",
    "\n",
    "\n",
    "feat_imp_dict = dict(zip(feature_cols, dTreeR.feature_importances_)) #dictionary of columns and importance\n",
    "feat_imp = pd.DataFrame.from_dict(feat_imp_dict, orient='index') #conversion of dictionary to dataframe\n",
    "feat_imp.sort_values(by=0, ascending=False) #sort in descending order"
   ]
  },
  {
   "cell_type": "markdown",
   "metadata": {},
   "source": [
    "## Bagging"
   ]
  },
  {
   "cell_type": "code",
   "execution_count": 82,
   "metadata": {},
   "outputs": [
    {
     "name": "stdout",
     "output_type": "stream",
     "text": [
      "\u001b[1m->\u001b[1m->\u001b[1m->\u001b[1m->\u001b[1m->\u001b[1m->\u001b[1m->\u001b[1m->\u001b[1m->\u001b[1m->\u001b[1m->\u001b[1m->\u001b[1m->\u001b[1m->\u001b[1m->\u001b[1m->\u001b[1m->\u001b[1m->\u001b[1m->\u001b[1m->\u001b[1m->\u001b[1m->\u001b[1m->\u001b[1m->\u001b[1m->\u001b[1m->\u001b[1m->\u001b[1m->\u001b[1m->\u001b[1m->\u001b[1m->\u001b[1m->\u001b[1m->\u001b[1m->\u001b[1m->\u001b[1m->\u001b[1m->\u001b[1m->\u001b[1m->\u001b[1m->\u001b[1m->\u001b[1m->\u001b[1m->\u001b[1m->\u001b[1m->\u001b[1m->\u001b[1m->\u001b[1m->\u001b[1m->\u001b[1m->\u001b[1m->\u001b[1m->\u001b[1m->\u001b[1m->\u001b[1m->\u001b[1m->\u001b[1m->\u001b[1m->\u001b[1m->\u001b[1m->\u001b[1m->\u001b[1m->\u001b[1m->\n",
      "\u001b[1mConfusion Matrix\n",
      " [[11121   871]\n",
      " [   14 11948]]\n",
      "------------------------------\n",
      "Accuracy of Decision Tree :0.96\n",
      "------------------------------\n",
      "\n",
      " Classification Report\n",
      "               precision    recall  f1-score   support\n",
      "\n",
      "           0       1.00      0.93      0.96     11992\n",
      "           1       0.93      1.00      0.96     11962\n",
      "\n",
      "    accuracy                           0.96     23954\n",
      "   macro avg       0.97      0.96      0.96     23954\n",
      "weighted avg       0.97      0.96      0.96     23954\n",
      "\n",
      "->->->->->->->->->->->->->->->->->->->->->->->->->->->->->->->->->->->->->->->->->->->->->->->->->->->->->->->->->->->->->->->\n"
     ]
    }
   ],
   "source": [
    "bagc = BaggingClassifier(base_estimator=dTree, n_estimators=500,random_state=1) #Instantiate Bagging Classifier\n",
    "bagc = bagc.fit(X_train, y_train) #Call the fit method of Bagging classifier to train the model or to learn the parameters of model\n",
    "predicted_BAG = bagc.predict(X_test) #Predict\n",
    "\n",
    "\n",
    "print('\\033[1m''->'*63)\n",
    "print('\\033[1m''Confusion Matrix\\n',confusion_matrix(y_test,predicted_BAG)) #for confusion matrix\n",
    "print('-'*30)\n",
    "BAG_accuracy = accuracy_score(y_test,predicted_BAG)\n",
    "print('Accuracy of Decision Tree :{:.2f}'.format(BAG_accuracy)) #for accuracy score\n",
    "print('-'*30)\n",
    "print('\\n Classification Report\\n',classification_report(y_test,predicted_BAG)) #for classification report\n",
    "print('->'*63)"
   ]
  },
  {
   "cell_type": "markdown",
   "metadata": {},
   "source": [
    "## Adaptive Boosting"
   ]
  },
  {
   "cell_type": "code",
   "execution_count": 83,
   "metadata": {},
   "outputs": [
    {
     "name": "stdout",
     "output_type": "stream",
     "text": [
      "\u001b[1m->\u001b[1m->\u001b[1m->\u001b[1m->\u001b[1m->\u001b[1m->\u001b[1m->\u001b[1m->\u001b[1m->\u001b[1m->\u001b[1m->\u001b[1m->\u001b[1m->\u001b[1m->\u001b[1m->\u001b[1m->\u001b[1m->\u001b[1m->\u001b[1m->\u001b[1m->\u001b[1m->\u001b[1m->\u001b[1m->\u001b[1m->\u001b[1m->\u001b[1m->\u001b[1m->\u001b[1m->\u001b[1m->\u001b[1m->\u001b[1m->\u001b[1m->\u001b[1m->\u001b[1m->\u001b[1m->\u001b[1m->\u001b[1m->\u001b[1m->\u001b[1m->\u001b[1m->\u001b[1m->\u001b[1m->\u001b[1m->\u001b[1m->\u001b[1m->\u001b[1m->\u001b[1m->\u001b[1m->\u001b[1m->\u001b[1m->\u001b[1m->\u001b[1m->\u001b[1m->\u001b[1m->\u001b[1m->\u001b[1m->\u001b[1m->\u001b[1m->\u001b[1m->\u001b[1m->\u001b[1m->\u001b[1m->\u001b[1m->\n",
      "\u001b[1mConfusion Matrix\n",
      " [[10134  1858]\n",
      " [ 2117  9845]]\n",
      "------------------------------\n",
      "Accuracy of KNN :0.83\n",
      "------------------------------\n",
      "\n",
      " Classification Report\n",
      "               precision    recall  f1-score   support\n",
      "\n",
      "           0       0.83      0.85      0.84     11992\n",
      "           1       0.84      0.82      0.83     11962\n",
      "\n",
      "    accuracy                           0.83     23954\n",
      "   macro avg       0.83      0.83      0.83     23954\n",
      "weighted avg       0.83      0.83      0.83     23954\n",
      "\n",
      "->->->->->->->->->->->->->->->->->->->->->->->->->->->->->->->->->->->->->->->->->->->->->->->->->->->->->->->->->->->->->->->\n"
     ]
    }
   ],
   "source": [
    "adab = AdaBoostClassifier(n_estimators=50, random_state=1) #Instantiate Adaptive boosting Classifier\n",
    "adab = adab.fit(X_train, y_train) #Call the fit method of Adaptive boosting Classifier to train the model or to learn the parameters of model\n",
    "predicted_ADA = adab.predict(X_test) #Predict\n",
    "\n",
    "\n",
    "\n",
    "print('\\033[1m''->'*63)\n",
    "print('\\033[1m''Confusion Matrix\\n',confusion_matrix(y_test,predicted_ADA)) #for confusion matrix\n",
    "print('-'*30)\n",
    "ADA_accuracy = accuracy_score(y_test,predicted_ADA)\n",
    "print('Accuracy of KNN :{:.2f}'.format(ADA_accuracy)) #for accuracy score\n",
    "print('-'*30)\n",
    "print('\\n Classification Report\\n',classification_report(y_test,predicted_ADA)) #for classification report\n",
    "print('->'*63)"
   ]
  },
  {
   "cell_type": "markdown",
   "metadata": {},
   "source": [
    "## Gradient boosting"
   ]
  },
  {
   "cell_type": "code",
   "execution_count": 84,
   "metadata": {},
   "outputs": [
    {
     "name": "stdout",
     "output_type": "stream",
     "text": [
      "\u001b[1m->\u001b[1m->\u001b[1m->\u001b[1m->\u001b[1m->\u001b[1m->\u001b[1m->\u001b[1m->\u001b[1m->\u001b[1m->\u001b[1m->\u001b[1m->\u001b[1m->\u001b[1m->\u001b[1m->\u001b[1m->\u001b[1m->\u001b[1m->\u001b[1m->\u001b[1m->\u001b[1m->\u001b[1m->\u001b[1m->\u001b[1m->\u001b[1m->\u001b[1m->\u001b[1m->\u001b[1m->\u001b[1m->\u001b[1m->\u001b[1m->\u001b[1m->\u001b[1m->\u001b[1m->\u001b[1m->\u001b[1m->\u001b[1m->\u001b[1m->\u001b[1m->\u001b[1m->\u001b[1m->\u001b[1m->\u001b[1m->\u001b[1m->\u001b[1m->\u001b[1m->\u001b[1m->\u001b[1m->\u001b[1m->\u001b[1m->\u001b[1m->\u001b[1m->\u001b[1m->\u001b[1m->\u001b[1m->\u001b[1m->\u001b[1m->\u001b[1m->\u001b[1m->\u001b[1m->\u001b[1m->\u001b[1m->\u001b[1m->\n",
      "\u001b[1mConfusion Matrix\n",
      " [[ 9997  1995]\n",
      " [ 1458 10504]]\n",
      "------------------------------\n",
      "Accuracy of KNN :0.86\n",
      "------------------------------\n",
      "\n",
      " Classification Report\n",
      "               precision    recall  f1-score   support\n",
      "\n",
      "           0       0.87      0.83      0.85     11992\n",
      "           1       0.84      0.88      0.86     11962\n",
      "\n",
      "    accuracy                           0.86     23954\n",
      "   macro avg       0.86      0.86      0.86     23954\n",
      "weighted avg       0.86      0.86      0.86     23954\n",
      "\n",
      "->->->->->->->->->->->->->->->->->->->->->->->->->->->->->->->->->->->->->->->->->->->->->->->->->->->->->->->->->->->->->->->\n"
     ]
    }
   ],
   "source": [
    "gradb = GradientBoostingClassifier(n_estimators = 100,random_state=1) #Instantiate Gradient boosting Classifier\n",
    "gradb = gradb.fit(X_train, y_train)#Call the fit method of Gradient boosting Classifier to train the model or to learn the parameters of model\n",
    "predicted_GRAD = gradb.predict(X_test) #Predict\n",
    "\n",
    "\n",
    "print('\\033[1m''->'*63)\n",
    "print('\\033[1m''Confusion Matrix\\n',confusion_matrix(y_test,predicted_GRAD)) #for confusion matrix\n",
    "print('-'*30)\n",
    "GRAD_accuracy = accuracy_score(y_test,predicted_GRAD)\n",
    "print('Accuracy of KNN :{:.2f}'.format(GRAD_accuracy)) #for accuracy score\n",
    "print('-'*30)\n",
    "print('\\n Classification Report\\n',classification_report(y_test,predicted_GRAD)) #for classification report\n",
    "print('->'*63)"
   ]
  },
  {
   "cell_type": "markdown",
   "metadata": {},
   "source": [
    "## Random Forest"
   ]
  },
  {
   "cell_type": "code",
   "execution_count": 86,
   "metadata": {},
   "outputs": [
    {
     "name": "stdout",
     "output_type": "stream",
     "text": [
      "\u001b[1m->\u001b[1m->\u001b[1m->\u001b[1m->\u001b[1m->\u001b[1m->\u001b[1m->\u001b[1m->\u001b[1m->\u001b[1m->\u001b[1m->\u001b[1m->\u001b[1m->\u001b[1m->\u001b[1m->\u001b[1m->\u001b[1m->\u001b[1m->\u001b[1m->\u001b[1m->\u001b[1m->\u001b[1m->\u001b[1m->\u001b[1m->\u001b[1m->\u001b[1m->\u001b[1m->\u001b[1m->\u001b[1m->\u001b[1m->\u001b[1m->\u001b[1m->\u001b[1m->\u001b[1m->\u001b[1m->\u001b[1m->\u001b[1m->\u001b[1m->\u001b[1m->\u001b[1m->\u001b[1m->\u001b[1m->\u001b[1m->\u001b[1m->\u001b[1m->\u001b[1m->\u001b[1m->\u001b[1m->\u001b[1m->\u001b[1m->\u001b[1m->\u001b[1m->\u001b[1m->\u001b[1m->\u001b[1m->\u001b[1m->\u001b[1m->\u001b[1m->\u001b[1m->\u001b[1m->\u001b[1m->\u001b[1m->\u001b[1m->\n",
      "\u001b[1mConfusion Matrix\n",
      " [[11271   721]\n",
      " [   11 11951]]\n",
      "------------------------------\n",
      "Accuracy of Random Forest :0.97\n",
      "------------------------------\n",
      "\n",
      " Classification Report\n",
      "               precision    recall  f1-score   support\n",
      "\n",
      "           0       1.00      0.94      0.97     11992\n",
      "           1       0.94      1.00      0.97     11962\n",
      "\n",
      "    accuracy                           0.97     23954\n",
      "   macro avg       0.97      0.97      0.97     23954\n",
      "weighted avg       0.97      0.97      0.97     23954\n",
      "\n",
      "->->->->->->->->->->->->->->->->->->->->->->->->->->->->->->->->->->->->->->->->->->->->->->->->->->->->->->->->->->->->->->->\n"
     ]
    }
   ],
   "source": [
    "#n=100\n",
    "randf = RandomForestClassifier(n_estimators = 100, random_state=1, max_features=3)#Instantiate Random Forest Classifier\n",
    "randf = randf.fit(X_train, y_train) #Call the fit method of Random Forest Classifier to train the model or to learn the parameters of model\n",
    "predicted_RAN = randf.predict(X_test) #Predict\n",
    "\n",
    "print('\\033[1m''->'*63)\n",
    "print('\\033[1m''Confusion Matrix\\n',confusion_matrix(y_test,predicted_RAN )) #for confusion matrix\n",
    "print('-'*30)\n",
    "RAN_accuracy = accuracy_score(y_test,predicted_RAN )\n",
    "print('Accuracy of Random Forest :{:.2f}'.format(RAN_accuracy)) #for accuracy score\n",
    "print('-'*30)\n",
    "print('\\n Classification Report\\n',classification_report(y_test,predicted_RAN )) #for classification report\n",
    "print('->'*63)"
   ]
  },
  {
   "cell_type": "code",
   "execution_count": 92,
   "metadata": {},
   "outputs": [
    {
     "name": "stdout",
     "output_type": "stream",
     "text": [
      "\u001b[1m->\u001b[1m->\u001b[1m->\u001b[1m->\u001b[1m->\u001b[1m->\u001b[1m->\u001b[1m->\u001b[1m->\u001b[1m->\u001b[1m->\u001b[1m->\u001b[1m->\u001b[1m->\u001b[1m->\u001b[1m->\u001b[1m->\u001b[1m->\u001b[1m->\u001b[1m->\u001b[1m->\u001b[1m->\u001b[1m->\u001b[1m->\u001b[1m->\u001b[1m->\u001b[1m->\u001b[1m->\u001b[1m->\u001b[1m->\u001b[1m->\u001b[1m->\u001b[1m->\u001b[1m->\u001b[1m->\u001b[1m->\u001b[1m->\u001b[1m->\u001b[1m->\u001b[1m->\u001b[1m->\u001b[1m->\u001b[1m->\u001b[1m->\u001b[1m->\u001b[1m->\u001b[1m->\u001b[1m->\u001b[1m->\u001b[1m->\u001b[1m->\u001b[1m->\u001b[1m->\u001b[1m->\u001b[1m->\u001b[1m->\u001b[1m->\u001b[1m->\u001b[1m->\u001b[1m->\u001b[1m->\u001b[1m->\u001b[1m->\n",
      "\u001b[1mConfusion Matrix\n",
      " [[11185   807]\n",
      " [   13 11949]]\n",
      "------------------------------\n",
      "Accuracy of KNN :0.97\n",
      "------------------------------\n",
      "\n",
      " Classification Report\n",
      "               precision    recall  f1-score   support\n",
      "\n",
      "           0       1.00      0.93      0.96     11992\n",
      "           1       0.94      1.00      0.97     11962\n",
      "\n",
      "    accuracy                           0.97     23954\n",
      "   macro avg       0.97      0.97      0.97     23954\n",
      "weighted avg       0.97      0.97      0.97     23954\n",
      "\n",
      "->->->->->->->->->->->->->->->->->->->->->->->->->->->->->->->->->->->->->->->->->->->->->->->->->->->->->->->->->->->->->->->\n"
     ]
    }
   ],
   "source": [
    "#n=500\n",
    "randf = RandomForestClassifier(n_estimators = 500, random_state=1, max_features=10) #Instantiate Random Forest Classifier\n",
    "randf = randf.fit(X_train, y_train)  #Call the fit method of Random Forest Classifier to train the model or to learn the parameters of model\n",
    "predicted_RANN = randf.predict(X_test) #Predict\n",
    "\n",
    "print('\\033[1m''->'*63)\n",
    "print('\\033[1m''Confusion Matrix\\n',confusion_matrix(y_test,predicted_RANN)) #for confusion matrix\n",
    "print('-'*30)\n",
    "RANN_accuracy = accuracy_score(y_test,predicted_RANN)\n",
    "print('Accuracy of KNN :{:.2f}'.format(RANN_accuracy)) #for accuracy score\n",
    "print('-'*30)\n",
    "print('\\n Classification Report\\n',classification_report(y_test,predicted_RANN)) #for classification report\n",
    "print('->'*63)"
   ]
  },
  {
   "cell_type": "markdown",
   "metadata": {},
   "source": [
    "# Models with accuracy scores"
   ]
  },
  {
   "cell_type": "code",
   "execution_count": 93,
   "metadata": {},
   "outputs": [
    {
     "name": "stdout",
     "output_type": "stream",
     "text": [
      "\u001b[1mCurrent Scores with Outliers replaced with mean:\n"
     ]
    },
    {
     "data": {
      "text/html": [
       "<div>\n",
       "<style scoped>\n",
       "    .dataframe tbody tr th:only-of-type {\n",
       "        vertical-align: middle;\n",
       "    }\n",
       "\n",
       "    .dataframe tbody tr th {\n",
       "        vertical-align: top;\n",
       "    }\n",
       "\n",
       "    .dataframe thead th {\n",
       "        text-align: right;\n",
       "    }\n",
       "</style>\n",
       "<table border=\"1\" class=\"dataframe\">\n",
       "  <thead>\n",
       "    <tr style=\"text-align: right;\">\n",
       "      <th></th>\n",
       "      <th>Model</th>\n",
       "      <th>Accuracy score</th>\n",
       "    </tr>\n",
       "  </thead>\n",
       "  <tbody>\n",
       "    <tr>\n",
       "      <th>6</th>\n",
       "      <td>Random Forest N=100</td>\n",
       "      <td>0.969441</td>\n",
       "    </tr>\n",
       "    <tr>\n",
       "      <th>7</th>\n",
       "      <td>Random Forest N=500</td>\n",
       "      <td>0.965768</td>\n",
       "    </tr>\n",
       "    <tr>\n",
       "      <th>3</th>\n",
       "      <td>Bagging</td>\n",
       "      <td>0.963054</td>\n",
       "    </tr>\n",
       "    <tr>\n",
       "      <th>1</th>\n",
       "      <td>Decision Tree</td>\n",
       "      <td>0.958170</td>\n",
       "    </tr>\n",
       "    <tr>\n",
       "      <th>2</th>\n",
       "      <td>Decision Tree with Regularization</td>\n",
       "      <td>0.957585</td>\n",
       "    </tr>\n",
       "    <tr>\n",
       "      <th>5</th>\n",
       "      <td>Gradient Boosting</td>\n",
       "      <td>0.855849</td>\n",
       "    </tr>\n",
       "    <tr>\n",
       "      <th>4</th>\n",
       "      <td>Adaptive Boosting</td>\n",
       "      <td>0.834057</td>\n",
       "    </tr>\n",
       "    <tr>\n",
       "      <th>0</th>\n",
       "      <td>Logistic Regression</td>\n",
       "      <td>0.807047</td>\n",
       "    </tr>\n",
       "  </tbody>\n",
       "</table>\n",
       "</div>"
      ],
      "text/plain": [
       "                               Model  Accuracy score\n",
       "6                Random Forest N=100        0.969441\n",
       "7                Random Forest N=500        0.965768\n",
       "3                            Bagging        0.963054\n",
       "1                      Decision Tree        0.958170\n",
       "2  Decision Tree with Regularization        0.957585\n",
       "5                  Gradient Boosting        0.855849\n",
       "4                  Adaptive Boosting        0.834057\n",
       "0                Logistic Regression        0.807047"
      ]
     },
     "execution_count": 93,
     "metadata": {},
     "output_type": "execute_result"
    }
   ],
   "source": [
    "Scores = [\n",
    "#       ('KNN', KNN_accuracy),\n",
    "      ('Logistic Regression', LR_accuracy),\n",
    "#       ('Naive bayes', NB_accuracy),\n",
    "#       ('SVC', SVC_accuracy ),\n",
    "      ('Decision Tree',DT_accuracy),\n",
    "      ('Decision Tree with Regularization',DTR_accuracy),\n",
    "      ('Bagging',BAG_accuracy),\n",
    "      ('Adaptive Boosting',ADA_accuracy),\n",
    "      ('Gradient Boosting',GRAD_accuracy),\n",
    "      ('Random Forest N=100',RAN_accuracy),\n",
    "      ('Random Forest N=500',RANN_accuracy)] #List of accuracy scores of all models\n",
    "\n",
    "Scores = pd.DataFrame(Scores,columns=['Model','Accuracy score']) #Conversion of list to dataframe\n",
    "\n",
    "print('\\033[1m''Current Scores with Outliers replaced with mean:')\n",
    "Scores.sort_values(by='Accuracy score',ascending=False) #Sort values in descending manner"
   ]
  },
  {
   "cell_type": "code",
   "execution_count": 94,
   "metadata": {},
   "outputs": [
    {
     "data": {
      "image/png": "[encoded data removed]",
      "text/plain": [
       "<Figure size 432x288 with 1 Axes>"
      ]
     },
     "metadata": {
      "needs_background": "light"
     },
     "output_type": "display_data"
    }
   ],
   "source": [
    "sns.lineplot(x=Scores['Model'],y=Scores['Accuracy score'],data=Scores,markers=True, dashes=False) #Countplot of Scores\n",
    "plt.xticks(rotation=90)\n",
    "plt.show()"
   ]
  },
  {
   "cell_type": "markdown",
   "metadata": {},
   "source": [
    "# Conclusion:\n",
    "## Comments on dataset:\n",
    "* The models perform well in predicting the class 0 i.e. customer not subscribing to term deposit which can be seen in the confusion matrix of all models. \n",
    "* The models do not perform well in predicting the class 1 i.e. customer subscribing to term deposit which can be seen in the confusion matrix of all models. \n",
    "* Above situation occured because the Dataset is imbalanced. i.e. The ratio difference between class 0 and class 1 is huge. Which is why we have upscaled the data but still that more data is needed.\n",
    "* This situation could have been avoided if the datset was balanced. \n",
    "* Along with imbalance, the dataset contained large number of unknown string values in 'job','education','contact' and 'poutcome' columns.\n",
    "\n",
    "## Comments on  Models:\n",
    "* The best model was found to be Random Forest.\n",
    "* SVC Perfomed better since it is a powerful ensembling technique.\n",
    "* Using log on the data affected the accuracy scores of all models significantly as reduces right or left skewness of all continuous variables.\n",
    "* In Decision Trees, Gradient boosting method always performed better for this dataset.\n",
    "* While visualizing Decision Tree, The Pruned decision tree was easy to visualize as it had lesser leaf nodes than Tree which was not pruned.\n",
    "\n",
    "## Miscellaneous Comments:\n",
    "* After trying get_dummies the score did not show significant difference as well as I have skipped the get_dummies step because the dataset was creating more dimension, which was making the project more computationally intensive.\n",
    "* If I had kept get_dummies step, then in production stage if the new dataset turned out to be huge in number of rows then this project would have taken a lot of time to execute.\n",
    "* Outlier handeling did not make any significant difference in the accuracy scores of models.\n",
    "* I have tried to keep minimum time complexity of this project."
   ]
  }
 ],
 "metadata": {
  "kernelspec": {
   "display_name": "Python 3",
   "language": "python",
   "name": "python3"
  }
 },
 "nbformat": 4,
 "nbformat_minor": 4
}
