{
 "cells": [
  {
   "cell_type": "code",
   "execution_count": 1,
   "metadata": {},
   "outputs": [],
   "source": [
    "import numpy as np\n",
    "from numpy import array, vstack, hstack"
   ]
  },
  {
   "cell_type": "markdown",
   "metadata": {},
   "source": [
    "# 1. Create a 3x3x3 array with random values"
   ]
  },
  {
   "cell_type": "code",
   "execution_count": 2,
   "metadata": {},
   "outputs": [
    {
     "name": "stdout",
     "output_type": "stream",
     "text": [
      "[[[-0.70347655 -0.2894718  -1.00296977]\n",
      "  [-1.25869832 -0.72730781  0.65919142]\n",
      "  [ 0.79463782  0.97239413 -1.18235557]]\n",
      "\n",
      " [[ 1.21496169  1.51109442 -0.11259213]\n",
      "  [-0.12065371 -1.21559512  0.91631   ]\n",
      "  [-1.20325294  1.05109928 -0.36111108]]\n",
      "\n",
      " [[ 0.32552151 -0.41673457 -1.82639251]\n",
      "  [ 0.80229056 -0.07840594  1.00616214]\n",
      "  [ 1.07919056 -0.42518355 -2.51345363]]]\n"
     ]
    }
   ],
   "source": [
    "#   OR\n",
    "a1 = np.random.randn(3,3,3)\n",
    "print(a1)"
   ]
  },
  {
   "cell_type": "markdown",
   "metadata": {},
   "source": [
    "# 2.Create a 5x5 matrix with values 1,2,3,4 just below the diagonal"
   ]
  },
  {
   "cell_type": "code",
   "execution_count": 3,
   "metadata": {},
   "outputs": [
    {
     "name": "stdout",
     "output_type": "stream",
     "text": [
      "[[0. 0. 0. 0. 0.]\n",
      " [1. 0. 0. 0. 0.]\n",
      " [1. 2. 0. 0. 0.]\n",
      " [1. 2. 3. 0. 0.]\n",
      " [1. 2. 3. 4. 0.]]\n"
     ]
    }
   ],
   "source": [
    "a2 = np.zeros((5,5))\n",
    "for i in range(1,5):\n",
    "    for j in range(i):\n",
    "        a2[i,j] = j+1\n",
    "print(a2)"
   ]
  },
  {
   "cell_type": "code",
   "execution_count": 4,
   "metadata": {},
   "outputs": [
    {
     "name": "stdout",
     "output_type": "stream",
     "text": [
      "[[0. 0. 0. 0. 0.]\n",
      " [1. 0. 0. 0. 0.]\n",
      " [0. 2. 0. 0. 0.]\n",
      " [0. 0. 3. 0. 0.]\n",
      " [0. 0. 0. 4. 0.]]\n"
     ]
    }
   ],
   "source": [
    "a_2 = np.zeros((5,5))\n",
    "for i in range(1,5):\n",
    "    a_2[i,i-1] = i\n",
    "print(a_2)"
   ]
  },
  {
   "cell_type": "markdown",
   "metadata": {},
   "source": [
    "# 3.Create a 8x8 matrix and fill it with a checkerboard pattern"
   ]
  },
  {
   "cell_type": "code",
   "execution_count": 5,
   "metadata": {},
   "outputs": [
    {
     "name": "stdout",
     "output_type": "stream",
     "text": [
      "[[0. 1. 0. 1. 0. 1. 0. 1.]\n",
      " [1. 0. 1. 0. 1. 0. 1. 0.]\n",
      " [0. 1. 0. 1. 0. 1. 0. 1.]\n",
      " [1. 0. 1. 0. 1. 0. 1. 0.]\n",
      " [0. 1. 0. 1. 0. 1. 0. 1.]\n",
      " [1. 0. 1. 0. 1. 0. 1. 0.]\n",
      " [0. 1. 0. 1. 0. 1. 0. 1.]\n",
      " [1. 0. 1. 0. 1. 0. 1. 0.]]\n"
     ]
    }
   ],
   "source": [
    "a3 = np.ones((8,8))\n",
    "for row in range(len(a3)):\n",
    "    for column in range(row%2, 8, 2):\n",
    "        a3[row,column] = 0  \n",
    "print(a3)"
   ]
  },
  {
   "cell_type": "markdown",
   "metadata": {},
   "source": [
    "# 4. Normalize a 5x5 random matrix"
   ]
  },
  {
   "cell_type": "code",
   "execution_count": 6,
   "metadata": {},
   "outputs": [
    {
     "name": "stdout",
     "output_type": "stream",
     "text": [
      "5.36981543836272\n"
     ]
    }
   ],
   "source": [
    "a4 = np.linalg.norm(a1)\n",
    "print(a4)"
   ]
  },
  {
   "cell_type": "markdown",
   "metadata": {},
   "source": [
    "# 5. How to find common values between two arrays?"
   ]
  },
  {
   "cell_type": "markdown",
   "metadata": {},
   "source": [
    "<div style=\"margin-top: 10px;font-size: 19px;color:#333\">\n",
    "    We can use the numpy method intersect1d() which can find all common values between two arrays<br>\n",
    "</div>"
   ]
  },
  {
   "cell_type": "code",
   "execution_count": 7,
   "metadata": {},
   "outputs": [
    {
     "name": "stdout",
     "output_type": "stream",
     "text": [
      "[0. 1.]\n"
     ]
    }
   ],
   "source": [
    "a5 = np.intersect1d(a3,a2)\n",
    "print(a5)"
   ]
  },
  {
   "cell_type": "markdown",
   "metadata": {},
   "source": [
    "# 6.How to get the dates of yesterday, today and tomorrow?"
   ]
  },
  {
   "cell_type": "code",
   "execution_count": 8,
   "metadata": {},
   "outputs": [
    {
     "name": "stdout",
     "output_type": "stream",
     "text": [
      "Yesterday: 2020-07-28\n",
      "Today: 2020-07-29\n",
      "Tomorrow: 2020-07-30\n"
     ]
    }
   ],
   "source": [
    "today = np.datetime64(\"today\")\n",
    "yesterday = today - np.timedelta64(1, \"D\")\n",
    "tomorrow = today + np.timedelta64(1, \"D\")\n",
    "print(\"Yesterday:\", yesterday)\n",
    "print(\"Today:\", today)\n",
    "print(\"Tomorrow:\", tomorrow)"
   ]
  },
  {
   "cell_type": "markdown",
   "metadata": {},
   "source": [
    "# 7. Consider two random array A and B, check if they are equal"
   ]
  },
  {
   "cell_type": "code",
   "execution_count": 9,
   "metadata": {},
   "outputs": [
    {
     "data": {
      "text/plain": [
       "False"
      ]
     },
     "execution_count": 9,
     "metadata": {},
     "output_type": "execute_result"
    }
   ],
   "source": [
    "np.array_equal(a2, a_2)"
   ]
  },
  {
   "cell_type": "markdown",
   "metadata": {},
   "source": [
    "# 8.Create random vector of size 10 and replace the maximum value by 0"
   ]
  },
  {
   "cell_type": "code",
   "execution_count": 10,
   "metadata": {},
   "outputs": [
    {
     "name": "stdout",
     "output_type": "stream",
     "text": [
      "Initial: [0.84750259 0.94853519 0.43461037 0.83768766 0.06657432 0.30263156\n",
      " 0.12539547 0.76996206 0.13770494 0.40019628] \n",
      "\n",
      "Max: 0.9485351911969973 \n",
      "\n",
      "Final: [0.84750259 0.         0.43461037 0.83768766 0.06657432 0.30263156\n",
      " 0.12539547 0.76996206 0.13770494 0.40019628]\n"
     ]
    }
   ],
   "source": [
    "#Keeping in mind there can be more than one element having max value \n",
    "vector = np.random.random(10)\n",
    "\n",
    "print(\"Initial:\",vector,\"\\n\")\n",
    "\n",
    "print(\"Max:\", max(vector),\"\\n\")\n",
    "\n",
    "vector = np.where(vector == max(vector), 0, vector)\n",
    "print(\"Final:\",vector)"
   ]
  },
  {
   "cell_type": "markdown",
   "metadata": {},
   "source": [
    "# 9. How to print all the values of an array?"
   ]
  },
  {
   "cell_type": "code",
   "execution_count": 11,
   "metadata": {},
   "outputs": [
    {
     "name": "stdout",
     "output_type": "stream",
     "text": [
      "[[0. 0. 0. 0. 0.]\n",
      " [1. 0. 0. 0. 0.]\n",
      " [1. 2. 0. 0. 0.]\n",
      " [1. 2. 3. 0. 0.]\n",
      " [1. 2. 3. 4. 0.]]\n"
     ]
    }
   ],
   "source": [
    "print(a2)"
   ]
  },
  {
   "cell_type": "markdown",
   "metadata": {},
   "source": [
    "# 10.Subtract the mean of each row of a matrix"
   ]
  },
  {
   "cell_type": "code",
   "execution_count": 12,
   "metadata": {},
   "outputs": [
    {
     "data": {
      "text/plain": [
       "array([[ 0. ,  0. ,  0. ,  0. ,  0. ],\n",
       "       [ 0.8, -0.2, -0.2, -0.2, -0.2],\n",
       "       [-0.4,  1.6, -0.4, -0.4, -0.4],\n",
       "       [-0.6, -0.6,  2.4, -0.6, -0.6],\n",
       "       [-0.8, -0.8, -0.8,  3.2, -0.8]])"
      ]
     },
     "execution_count": 12,
     "metadata": {},
     "output_type": "execute_result"
    }
   ],
   "source": [
    "a10 = a_2-a_2.mean(axis=1)[:,None]\n",
    "a10"
   ]
  },
  {
   "cell_type": "markdown",
   "metadata": {},
   "source": [
    "# 11.Consider a given vector, how to add 1 to each element indexed by a second vector (be careful with repeated indices)?"
   ]
  },
  {
   "cell_type": "code",
   "execution_count": 13,
   "metadata": {},
   "outputs": [
    {
     "name": "stdout",
     "output_type": "stream",
     "text": [
      "Initial: [0.84750259 0.         0.43461037 0.83768766 0.06657432 0.30263156\n",
      " 0.12539547 0.76996206 0.13770494 0.40019628] \n",
      "\n",
      "Indexed vector: [0 1 2 1 3 3] \n",
      "\n",
      "Final: [1.84750259 1.         1.43461037 1.83768766 0.06657432 0.30263156\n",
      " 0.12539547 0.76996206 0.13770494 0.40019628]\n"
     ]
    }
   ],
   "source": [
    "print(f\"Initial: {vector} \\n\")\n",
    "vector2 = np.array([0,1,2,1,3,3])\n",
    "print(f\"Indexed vector: {vector2} \\n\")\n",
    "for index in np.unique(vector2):\n",
    "    if index < vector.shape[0]:\n",
    "        vector[index]+=1\n",
    "print(f\"Final: {vector}\")"
   ]
  },
  {
   "cell_type": "markdown",
   "metadata": {},
   "source": [
    "# 12.How to get the diagonal of a dot product?"
   ]
  },
  {
   "cell_type": "code",
   "execution_count": 14,
   "metadata": {},
   "outputs": [
    {
     "name": "stdout",
     "output_type": "stream",
     "text": [
      "a:\n",
      "[[0 1 2]\n",
      " [3 4 5]]\n",
      "\n",
      "b:\n",
      "[[0 3]\n",
      " [1 4]\n",
      " [2 5]]\n",
      "\n"
     ]
    },
    {
     "data": {
      "text/plain": [
       "array([ 5, 50])"
      ]
     },
     "execution_count": 14,
     "metadata": {},
     "output_type": "execute_result"
    }
   ],
   "source": [
    "a = np.array([[0,1,2],[3,4,5]])\n",
    "print(f\"a:\\n{a}\\n\")\n",
    "b = a.T\n",
    "print(f\"b:\\n{b}\\n\")\n",
    "a12 = np.diag(a.dot(b))\n",
    "a12"
   ]
  },
  {
   "cell_type": "code",
   "execution_count": 15,
   "metadata": {},
   "outputs": [
    {
     "name": "stdout",
     "output_type": "stream",
     "text": [
      "5\n",
      "50\n"
     ]
    }
   ],
   "source": [
    "if a.shape[1] == b.shape[0]:\n",
    "    for row_a in range(a.shape[0]):\n",
    "        l = a[row_a, :] * b[:, row_a]\n",
    "        print(l.sum())"
   ]
  },
  {
   "cell_type": "markdown",
   "metadata": {},
   "source": [
    "# 13.How to find the most frequent value in an array?"
   ]
  },
  {
   "cell_type": "code",
   "execution_count": 16,
   "metadata": {},
   "outputs": [
    {
     "name": "stdout",
     "output_type": "stream",
     "text": [
      "Original array:\n",
      "[3 5 9 0 8 7 8 9 7 4 7 4 6 0 6 9 0 6 9 1 9 6 3 5 0 5 2 3 2 5 4 9 2 2 6 4 4\n",
      " 0 9 6]\n",
      "Most frequent value in the above array:\n",
      "9\n"
     ]
    }
   ],
   "source": [
    "x = np.random.randint(0, 10, 40)\n",
    "print(\"Original array:\")\n",
    "print(x)\n",
    "print(\"Most frequent value in the above array:\")\n",
    "print(np.bincount(x).argmax())"
   ]
  },
  {
   "cell_type": "markdown",
   "metadata": {},
   "source": [
    "# 14.How to get the n largest values of an array"
   ]
  },
  {
   "cell_type": "code",
   "execution_count": 17,
   "metadata": {},
   "outputs": [
    {
     "name": "stdout",
     "output_type": "stream",
     "text": [
      "a:\n",
      " [[1 3 1]\n",
      " [4 6 1]]\n",
      "Enter n: 2\n"
     ]
    }
   ],
   "source": [
    "a = np.array([[1,3,1],[4,6,1]])\n",
    "print(\"a:\\n\", a)\n",
    "n = int(input(\"Enter n: \"))\n",
    "n *= -1"
   ]
  },
  {
   "cell_type": "code",
   "execution_count": 18,
   "metadata": {},
   "outputs": [
    {
     "data": {
      "text/plain": [
       "array([4, 6])"
      ]
     },
     "execution_count": 18,
     "metadata": {},
     "output_type": "execute_result"
    }
   ],
   "source": [
    "np.sort(a.flatten())[n:]"
   ]
  },
  {
   "cell_type": "markdown",
   "metadata": {},
   "source": [
    "# 15.How to create a record array from a regular array?"
   ]
  },
  {
   "cell_type": "code",
   "execution_count": 19,
   "metadata": {},
   "outputs": [
    {
     "name": "stdout",
     "output_type": "stream",
     "text": [
      "(1, 'Red', 12.2)\n",
      "(2, 'Green', 15.)\n",
      "(3, 'White', 20.)\n"
     ]
    }
   ],
   "source": [
    "a1=np.array([1,2,3,4])\n",
    "a2=np.array(['Red','Green','White','Orange'])\n",
    "a3=np.array([12.20,15,20,40])\n",
    "result= np.core.records.fromarrays([a1, a2, a3],names='a,b,c')\n",
    "print(result[0])\n",
    "print(result[1])\n",
    "print(result[2])"
   ]
  },
  {
   "cell_type": "code",
   "execution_count": null,
   "metadata": {},
   "outputs": [],
   "source": []
  }
 ],
 "metadata": {
  "kernelspec": {
   "display_name": "Python 3",
   "language": "python",
   "name": "python3"
  },
  "language_info": {
   "codemirror_mode": {
    "name": "ipython",
    "version": 3
   },
   "file_extension": ".py",
   "mimetype": "text/x-python",
   "name": "python",
   "nbconvert_exporter": "python",
   "pygments_lexer": "ipython3",
   "version": "3.7.6"
  }
 },
 "nbformat": 4,
 "nbformat_minor": 4
}
