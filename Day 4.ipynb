{
 "cells": [
  {
   "cell_type": "markdown",
   "metadata": {},
   "source": [
    "<h1>Question 1</h1>"
   ]
  },
  {
   "cell_type": "code",
   "execution_count": 1,
   "metadata": {},
   "outputs": [],
   "source": [
    "cmplx1 = 1+3j\n",
    "cmplx2 = 3 -1j"
   ]
  },
  {
   "cell_type": "code",
   "execution_count": 2,
   "metadata": {},
   "outputs": [
    {
     "name": "stdout",
     "output_type": "stream",
     "text": [
      "Sum: (4+2j)\n"
     ]
    }
   ],
   "source": [
    "sum = cmplx1 + cmplx2\n",
    "print(f\"Sum: {sum}\")"
   ]
  },
  {
   "cell_type": "code",
   "execution_count": 3,
   "metadata": {},
   "outputs": [
    {
     "name": "stdout",
     "output_type": "stream",
     "text": [
      "Subtraction: (-2+4j)\n"
     ]
    }
   ],
   "source": [
    "subtraction = cmplx1 - cmplx2\n",
    "print(f\"Subtraction: {subtraction}\")"
   ]
  },
  {
   "cell_type": "code",
   "execution_count": 4,
   "metadata": {},
   "outputs": [
    {
     "name": "stdout",
     "output_type": "stream",
     "text": [
      "Product: (6+8j)\n"
     ]
    }
   ],
   "source": [
    "product = cmplx1 * cmplx2\n",
    "print(\"Product:\",product)"
   ]
  },
  {
   "cell_type": "code",
   "execution_count": 5,
   "metadata": {},
   "outputs": [
    {
     "name": "stdout",
     "output_type": "stream",
     "text": [
      "Division: 1j\n"
     ]
    }
   ],
   "source": [
    "division = cmplx1 / cmplx2\n",
    "print(\"Division:\",division)"
   ]
  },
  {
   "cell_type": "code",
   "execution_count": 6,
   "metadata": {},
   "outputs": [],
   "source": [
    "#Can't take floor division of complex numbers\n",
    "#Can't take modulo of complex numbers"
   ]
  },
  {
   "cell_type": "markdown",
   "metadata": {},
   "source": [
    "<h1>Question 2</h1>"
   ]
  },
  {
   "cell_type": "code",
   "execution_count": 7,
   "metadata": {},
   "outputs": [],
   "source": [
    "#range() can give a range of numbers, which accepts maximum of three parameters and is mostly used in for loops to give it a starting, ending and sometimes a step value"
   ]
  },
  {
   "cell_type": "code",
   "execution_count": 8,
   "metadata": {},
   "outputs": [
    {
     "name": "stdout",
     "output_type": "stream",
     "text": [
      "range(0, 5)\n",
      "0\n",
      "1\n",
      "2\n",
      "3\n",
      "4\n"
     ]
    }
   ],
   "source": [
    "#using one parameter gives the ending value while the default values of start and step parameters are 0 and 1\n",
    "print(range(5))\n",
    "#using it in a for loop\n",
    "for number in range(5):\n",
    "    print(number)"
   ]
  },
  {
   "cell_type": "code",
   "execution_count": 9,
   "metadata": {},
   "outputs": [
    {
     "name": "stdout",
     "output_type": "stream",
     "text": [
      "range(2, 5)\n",
      "2\n",
      "3\n",
      "4\n"
     ]
    }
   ],
   "source": [
    "#using two parameters gives the start value and end value while the default step value reamins 1\n",
    "print(range(2,5))\n",
    "#using it in a for loop\n",
    "for number in range(2,5):\n",
    "    print(number)"
   ]
  },
  {
   "cell_type": "code",
   "execution_count": 10,
   "metadata": {},
   "outputs": [
    {
     "name": "stdout",
     "output_type": "stream",
     "text": [
      "range(5, 0, -1)\n",
      "5\n",
      "4\n",
      "3\n",
      "2\n",
      "1\n"
     ]
    }
   ],
   "source": [
    "#using three parameters gives the start value, end value and the step value\n",
    "print(range(5, 0, -1))\n",
    "#using it in a for loop\n",
    "for number in range(5, 0, -1):\n",
    "    print(number)"
   ]
  },
  {
   "cell_type": "markdown",
   "metadata": {},
   "source": [
    "<h3>Small Program</h3>"
   ]
  },
  {
   "cell_type": "code",
   "execution_count": 11,
   "metadata": {},
   "outputs": [
    {
     "name": "stdout",
     "output_type": "stream",
     "text": [
      "0 1 2 3 4 5 6 7 8 9 10 11 12 13 14 15 16 17 18 "
     ]
    }
   ],
   "source": [
    "string = \"String length is 18\"\n",
    "for character_number in range(len(string)):\n",
    "    print(character_number, end = \" \")"
   ]
  },
  {
   "cell_type": "markdown",
   "metadata": {},
   "source": [
    "<h1>Question3</h1>"
   ]
  },
  {
   "cell_type": "code",
   "execution_count": 12,
   "metadata": {},
   "outputs": [
    {
     "name": "stdout",
     "output_type": "stream",
     "text": [
      "Enter number 1: 18\n",
      "Enter number 2: 5\n"
     ]
    }
   ],
   "source": [
    "number1 = int(input(\"Enter number 1: \"))\n",
    "number2 = int(input(\"Enter number 2: \"))"
   ]
  },
  {
   "cell_type": "code",
   "execution_count": 13,
   "metadata": {},
   "outputs": [
    {
     "name": "stdout",
     "output_type": "stream",
     "text": [
      "Division: 3.6\n"
     ]
    }
   ],
   "source": [
    "if number1-number2 > 25:\n",
    "    product = number1 * number2\n",
    "    print(\"Product:\", multiply)\n",
    "else:\n",
    "    division = number1/number2\n",
    "    print(\"Division:\", division)"
   ]
  },
  {
   "cell_type": "markdown",
   "metadata": {},
   "source": [
    "<h1>Question 4</h1>"
   ]
  },
  {
   "cell_type": "code",
   "execution_count": 14,
   "metadata": {},
   "outputs": [
    {
     "name": "stdout",
     "output_type": "stream",
     "text": [
      "1.Enter integer: 34\n",
      "2.Enter integer: 21\n",
      "3.Enter integer: 643\n",
      "4.Enter integer: 123\n",
      "5.Enter integer: 235564\n",
      "6.Enter integer: 3\n",
      "7.Enter integer: 145\n",
      "8.Enter integer: 6\n",
      "9.Enter integer: 32\n",
      "10.Enter integer: 44\n"
     ]
    }
   ],
   "source": [
    "numbers = []\n",
    "for index in range(10):\n",
    "    numbers.append(int(input(f\"{index+1}.Enter integer: \")))"
   ]
  },
  {
   "cell_type": "code",
   "execution_count": 15,
   "metadata": {},
   "outputs": [
    {
     "name": "stdout",
     "output_type": "stream",
     "text": [
      "Result: 1154\n",
      "Result: 55490398094\n",
      "Result: 34\n",
      "Result: 1022\n",
      "Result: 1934\n"
     ]
    }
   ],
   "source": [
    "for integer in numbers:\n",
    "    if integer%2 == 0:\n",
    "        print(\"Result:\", (integer**2)-2)"
   ]
  },
  {
   "cell_type": "markdown",
   "metadata": {},
   "source": [
    "<h1>Question 5</h1>"
   ]
  },
  {
   "cell_type": "code",
   "execution_count": 16,
   "metadata": {},
   "outputs": [
    {
     "name": "stdout",
     "output_type": "stream",
     "text": [
      "1.Enter integer: 10\n",
      "2.Enter integer: 1\n",
      "3.Enter integer: 11\n",
      "4.Enter integer: 12\n",
      "5.Enter integer: 13\n",
      "6.Enter integer: 14\n",
      "7.Enter integer: 15\n",
      "8.Enter integer: 16\n",
      "9.Enter integer: 17\n",
      "10.Enter integer: 18\n"
     ]
    }
   ],
   "source": [
    "numbers = []\n",
    "for index in range(10):\n",
    "    numbers.append(int(input(f\"{index+1}.Enter integer: \")))"
   ]
  },
  {
   "cell_type": "code",
   "execution_count": 17,
   "metadata": {},
   "outputs": [
    {
     "name": "stdout",
     "output_type": "stream",
     "text": [
      "15\n",
      "16\n",
      "17\n",
      "18\n"
     ]
    }
   ],
   "source": [
    "for number in numbers:\n",
    "    if number/2 > 7:\n",
    "        print(number)"
   ]
  }
 ],
 "metadata": {
  "kernelspec": {
   "display_name": "Python 3",
   "language": "python",
   "name": "python3"
  },
  "language_info": {
   "codemirror_mode": {
    "name": "ipython",
    "version": 3
   },
   "file_extension": ".py",
   "mimetype": "text/x-python",
   "name": "python",
   "nbconvert_exporter": "python",
   "pygments_lexer": "ipython3",
   "version": "3.7.6"
  }
 },
 "nbformat": 4,
 "nbformat_minor": 4
}
