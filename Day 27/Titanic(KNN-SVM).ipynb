{
 "cells": [
  {
   "cell_type": "code",
   "execution_count": 19,
   "metadata": {},
   "outputs": [],
   "source": [
    "import pandas as pd\n",
    "import numpy as np\n",
    "import matplotlib.pyplot as plt\n",
    "from sklearn.neighbors import KNeighborsClassifier\n",
    "from sklearn.model_selection import train_test_split\n",
    "from sklearn.preprocessing import LabelEncoder\n",
    "from sklearn.metrics import confusion_matrix \n",
    "from sklearn.svm import SVC\n",
    "le = LabelEncoder()"
   ]
  },
  {
   "cell_type": "code",
   "execution_count": 2,
   "metadata": {
    "scrolled": true
   },
   "outputs": [
    {
     "data": {
      "text/html": [
       "<div>\n",
       "<style scoped>\n",
       "    .dataframe tbody tr th:only-of-type {\n",
       "        vertical-align: middle;\n",
       "    }\n",
       "\n",
       "    .dataframe tbody tr th {\n",
       "        vertical-align: top;\n",
       "    }\n",
       "\n",
       "    .dataframe thead th {\n",
       "        text-align: right;\n",
       "    }\n",
       "</style>\n",
       "<table border=\"1\" class=\"dataframe\">\n",
       "  <thead>\n",
       "    <tr style=\"text-align: right;\">\n",
       "      <th></th>\n",
       "      <th>PassengerId</th>\n",
       "      <th>Survived</th>\n",
       "      <th>Pclass</th>\n",
       "      <th>Name</th>\n",
       "      <th>Sex</th>\n",
       "      <th>Age</th>\n",
       "      <th>SibSp</th>\n",
       "      <th>Parch</th>\n",
       "      <th>Ticket</th>\n",
       "      <th>Fare</th>\n",
       "      <th>Cabin</th>\n",
       "      <th>Embarked</th>\n",
       "    </tr>\n",
       "  </thead>\n",
       "  <tbody>\n",
       "    <tr>\n",
       "      <th>0</th>\n",
       "      <td>1</td>\n",
       "      <td>0</td>\n",
       "      <td>3</td>\n",
       "      <td>Braund, Mr. Owen Harris</td>\n",
       "      <td>male</td>\n",
       "      <td>22.0</td>\n",
       "      <td>1</td>\n",
       "      <td>0</td>\n",
       "      <td>A/5 21171</td>\n",
       "      <td>7.2500</td>\n",
       "      <td>NaN</td>\n",
       "      <td>S</td>\n",
       "    </tr>\n",
       "    <tr>\n",
       "      <th>1</th>\n",
       "      <td>2</td>\n",
       "      <td>1</td>\n",
       "      <td>1</td>\n",
       "      <td>Cumings, Mrs. John Bradley (Florence Briggs Th...</td>\n",
       "      <td>female</td>\n",
       "      <td>38.0</td>\n",
       "      <td>1</td>\n",
       "      <td>0</td>\n",
       "      <td>PC 17599</td>\n",
       "      <td>71.2833</td>\n",
       "      <td>C85</td>\n",
       "      <td>C</td>\n",
       "    </tr>\n",
       "    <tr>\n",
       "      <th>2</th>\n",
       "      <td>3</td>\n",
       "      <td>1</td>\n",
       "      <td>3</td>\n",
       "      <td>Heikkinen, Miss. Laina</td>\n",
       "      <td>female</td>\n",
       "      <td>26.0</td>\n",
       "      <td>0</td>\n",
       "      <td>0</td>\n",
       "      <td>STON/O2. 3101282</td>\n",
       "      <td>7.9250</td>\n",
       "      <td>NaN</td>\n",
       "      <td>S</td>\n",
       "    </tr>\n",
       "    <tr>\n",
       "      <th>3</th>\n",
       "      <td>4</td>\n",
       "      <td>1</td>\n",
       "      <td>1</td>\n",
       "      <td>Futrelle, Mrs. Jacques Heath (Lily May Peel)</td>\n",
       "      <td>female</td>\n",
       "      <td>35.0</td>\n",
       "      <td>1</td>\n",
       "      <td>0</td>\n",
       "      <td>113803</td>\n",
       "      <td>53.1000</td>\n",
       "      <td>C123</td>\n",
       "      <td>S</td>\n",
       "    </tr>\n",
       "    <tr>\n",
       "      <th>4</th>\n",
       "      <td>5</td>\n",
       "      <td>0</td>\n",
       "      <td>3</td>\n",
       "      <td>Allen, Mr. William Henry</td>\n",
       "      <td>male</td>\n",
       "      <td>35.0</td>\n",
       "      <td>0</td>\n",
       "      <td>0</td>\n",
       "      <td>373450</td>\n",
       "      <td>8.0500</td>\n",
       "      <td>NaN</td>\n",
       "      <td>S</td>\n",
       "    </tr>\n",
       "    <tr>\n",
       "      <th>...</th>\n",
       "      <td>...</td>\n",
       "      <td>...</td>\n",
       "      <td>...</td>\n",
       "      <td>...</td>\n",
       "      <td>...</td>\n",
       "      <td>...</td>\n",
       "      <td>...</td>\n",
       "      <td>...</td>\n",
       "      <td>...</td>\n",
       "      <td>...</td>\n",
       "      <td>...</td>\n",
       "      <td>...</td>\n",
       "    </tr>\n",
       "    <tr>\n",
       "      <th>884</th>\n",
       "      <td>887</td>\n",
       "      <td>0</td>\n",
       "      <td>2</td>\n",
       "      <td>Montvila, Rev. Juozas</td>\n",
       "      <td>male</td>\n",
       "      <td>27.0</td>\n",
       "      <td>0</td>\n",
       "      <td>0</td>\n",
       "      <td>211536</td>\n",
       "      <td>13.0000</td>\n",
       "      <td>NaN</td>\n",
       "      <td>S</td>\n",
       "    </tr>\n",
       "    <tr>\n",
       "      <th>885</th>\n",
       "      <td>888</td>\n",
       "      <td>1</td>\n",
       "      <td>1</td>\n",
       "      <td>Graham, Miss. Margaret Edith</td>\n",
       "      <td>female</td>\n",
       "      <td>19.0</td>\n",
       "      <td>0</td>\n",
       "      <td>0</td>\n",
       "      <td>112053</td>\n",
       "      <td>30.0000</td>\n",
       "      <td>B42</td>\n",
       "      <td>S</td>\n",
       "    </tr>\n",
       "    <tr>\n",
       "      <th>886</th>\n",
       "      <td>889</td>\n",
       "      <td>0</td>\n",
       "      <td>3</td>\n",
       "      <td>Johnston, Miss. Catherine Helen \"Carrie\"</td>\n",
       "      <td>female</td>\n",
       "      <td>45.0</td>\n",
       "      <td>1</td>\n",
       "      <td>2</td>\n",
       "      <td>W./C. 6607</td>\n",
       "      <td>23.4500</td>\n",
       "      <td>NaN</td>\n",
       "      <td>S</td>\n",
       "    </tr>\n",
       "    <tr>\n",
       "      <th>887</th>\n",
       "      <td>890</td>\n",
       "      <td>1</td>\n",
       "      <td>1</td>\n",
       "      <td>Behr, Mr. Karl Howell</td>\n",
       "      <td>male</td>\n",
       "      <td>26.0</td>\n",
       "      <td>0</td>\n",
       "      <td>0</td>\n",
       "      <td>111369</td>\n",
       "      <td>30.0000</td>\n",
       "      <td>C148</td>\n",
       "      <td>C</td>\n",
       "    </tr>\n",
       "    <tr>\n",
       "      <th>888</th>\n",
       "      <td>891</td>\n",
       "      <td>0</td>\n",
       "      <td>3</td>\n",
       "      <td>Dooley, Mr. Patrick</td>\n",
       "      <td>male</td>\n",
       "      <td>32.0</td>\n",
       "      <td>0</td>\n",
       "      <td>0</td>\n",
       "      <td>370376</td>\n",
       "      <td>7.7500</td>\n",
       "      <td>NaN</td>\n",
       "      <td>Q</td>\n",
       "    </tr>\n",
       "  </tbody>\n",
       "</table>\n",
       "<p>889 rows × 12 columns</p>\n",
       "</div>"
      ],
      "text/plain": [
       "     PassengerId  Survived  Pclass  \\\n",
       "0              1         0       3   \n",
       "1              2         1       1   \n",
       "2              3         1       3   \n",
       "3              4         1       1   \n",
       "4              5         0       3   \n",
       "..           ...       ...     ...   \n",
       "884          887         0       2   \n",
       "885          888         1       1   \n",
       "886          889         0       3   \n",
       "887          890         1       1   \n",
       "888          891         0       3   \n",
       "\n",
       "                                                  Name     Sex   Age  SibSp  \\\n",
       "0                              Braund, Mr. Owen Harris    male  22.0      1   \n",
       "1    Cumings, Mrs. John Bradley (Florence Briggs Th...  female  38.0      1   \n",
       "2                               Heikkinen, Miss. Laina  female  26.0      0   \n",
       "3         Futrelle, Mrs. Jacques Heath (Lily May Peel)  female  35.0      1   \n",
       "4                             Allen, Mr. William Henry    male  35.0      0   \n",
       "..                                                 ...     ...   ...    ...   \n",
       "884                              Montvila, Rev. Juozas    male  27.0      0   \n",
       "885                       Graham, Miss. Margaret Edith  female  19.0      0   \n",
       "886           Johnston, Miss. Catherine Helen \"Carrie\"  female  45.0      1   \n",
       "887                              Behr, Mr. Karl Howell    male  26.0      0   \n",
       "888                                Dooley, Mr. Patrick    male  32.0      0   \n",
       "\n",
       "     Parch            Ticket     Fare Cabin Embarked  \n",
       "0        0         A/5 21171   7.2500   NaN        S  \n",
       "1        0          PC 17599  71.2833   C85        C  \n",
       "2        0  STON/O2. 3101282   7.9250   NaN        S  \n",
       "3        0            113803  53.1000  C123        S  \n",
       "4        0            373450   8.0500   NaN        S  \n",
       "..     ...               ...      ...   ...      ...  \n",
       "884      0            211536  13.0000   NaN        S  \n",
       "885      0            112053  30.0000   B42        S  \n",
       "886      2        W./C. 6607  23.4500   NaN        S  \n",
       "887      0            111369  30.0000  C148        C  \n",
       "888      0            370376   7.7500   NaN        Q  \n",
       "\n",
       "[889 rows x 12 columns]"
      ]
     },
     "execution_count": 2,
     "metadata": {},
     "output_type": "execute_result"
    }
   ],
   "source": [
    "df = pd.read_csv(\"train.csv\")\n",
    "df"
   ]
  },
  {
   "cell_type": "code",
   "execution_count": 3,
   "metadata": {},
   "outputs": [
    {
     "name": "stdout",
     "output_type": "stream",
     "text": [
      "<class 'pandas.core.frame.DataFrame'>\n",
      "RangeIndex: 889 entries, 0 to 888\n",
      "Data columns (total 12 columns):\n",
      " #   Column       Non-Null Count  Dtype  \n",
      "---  ------       --------------  -----  \n",
      " 0   PassengerId  889 non-null    int64  \n",
      " 1   Survived     889 non-null    int64  \n",
      " 2   Pclass       889 non-null    int64  \n",
      " 3   Name         889 non-null    object \n",
      " 4   Sex          889 non-null    object \n",
      " 5   Age          889 non-null    float64\n",
      " 6   SibSp        889 non-null    int64  \n",
      " 7   Parch        889 non-null    int64  \n",
      " 8   Ticket       889 non-null    object \n",
      " 9   Fare         889 non-null    float64\n",
      " 10  Cabin        202 non-null    object \n",
      " 11  Embarked     889 non-null    object \n",
      "dtypes: float64(2), int64(5), object(5)\n",
      "memory usage: 83.5+ KB\n"
     ]
    }
   ],
   "source": [
    "df.info()"
   ]
  },
  {
   "cell_type": "markdown",
   "metadata": {},
   "source": [
    "# Dealing with NULL values"
   ]
  },
  {
   "cell_type": "markdown",
   "metadata": {},
   "source": [
    "<h3>Since Cabin variable has more than 50% null values, we will drop it</h3>"
   ]
  },
  {
   "cell_type": "markdown",
   "metadata": {},
   "source": [
    "<h3>Along with that Name, Ticket and PassengerId seem to have no use, hence we will drop them</h3>"
   ]
  },
  {
   "cell_type": "code",
   "execution_count": 4,
   "metadata": {
    "scrolled": true
   },
   "outputs": [],
   "source": [
    "df.drop(columns = [\"Cabin\", \"Name\", \"Ticket\", \"PassengerId\"], inplace=True)"
   ]
  },
  {
   "cell_type": "markdown",
   "metadata": {},
   "source": [
    "# Checking for duplicates"
   ]
  },
  {
   "cell_type": "code",
   "execution_count": 5,
   "metadata": {},
   "outputs": [
    {
     "data": {
      "text/plain": [
       "113"
      ]
     },
     "execution_count": 5,
     "metadata": {},
     "output_type": "execute_result"
    }
   ],
   "source": [
    "df.duplicated().sum()"
   ]
  },
  {
   "cell_type": "markdown",
   "metadata": {},
   "source": [
    "# Encoding Values"
   ]
  },
  {
   "cell_type": "code",
   "execution_count": 6,
   "metadata": {},
   "outputs": [],
   "source": [
    "for column in [\"Sex\", \"Embarked\"]:\n",
    "    df[column] = le.fit_transform(df[column])"
   ]
  },
  {
   "cell_type": "code",
   "execution_count": 7,
   "metadata": {},
   "outputs": [
    {
     "name": "stdout",
     "output_type": "stream",
     "text": [
      "<class 'pandas.core.frame.DataFrame'>\n",
      "RangeIndex: 889 entries, 0 to 888\n",
      "Data columns (total 8 columns):\n",
      " #   Column    Non-Null Count  Dtype  \n",
      "---  ------    --------------  -----  \n",
      " 0   Survived  889 non-null    int64  \n",
      " 1   Pclass    889 non-null    int64  \n",
      " 2   Sex       889 non-null    int32  \n",
      " 3   Age       889 non-null    float64\n",
      " 4   SibSp     889 non-null    int64  \n",
      " 5   Parch     889 non-null    int64  \n",
      " 6   Fare      889 non-null    float64\n",
      " 7   Embarked  889 non-null    int32  \n",
      "dtypes: float64(2), int32(2), int64(4)\n",
      "memory usage: 48.7 KB\n"
     ]
    }
   ],
   "source": [
    "df.info()"
   ]
  },
  {
   "cell_type": "markdown",
   "metadata": {},
   "source": [
    "<h3>Category variables are encoded</h3>"
   ]
  },
  {
   "cell_type": "code",
   "execution_count": 8,
   "metadata": {},
   "outputs": [
    {
     "data": {
      "text/html": [
       "<div>\n",
       "<style scoped>\n",
       "    .dataframe tbody tr th:only-of-type {\n",
       "        vertical-align: middle;\n",
       "    }\n",
       "\n",
       "    .dataframe tbody tr th {\n",
       "        vertical-align: top;\n",
       "    }\n",
       "\n",
       "    .dataframe thead th {\n",
       "        text-align: right;\n",
       "    }\n",
       "</style>\n",
       "<table border=\"1\" class=\"dataframe\">\n",
       "  <thead>\n",
       "    <tr style=\"text-align: right;\">\n",
       "      <th></th>\n",
       "      <th>Survived</th>\n",
       "      <th>Pclass</th>\n",
       "      <th>Sex</th>\n",
       "      <th>Age</th>\n",
       "      <th>SibSp</th>\n",
       "      <th>Parch</th>\n",
       "      <th>Fare</th>\n",
       "      <th>Embarked</th>\n",
       "    </tr>\n",
       "  </thead>\n",
       "  <tbody>\n",
       "    <tr>\n",
       "      <th>count</th>\n",
       "      <td>889.000000</td>\n",
       "      <td>889.000000</td>\n",
       "      <td>889.000000</td>\n",
       "      <td>889.000000</td>\n",
       "      <td>889.000000</td>\n",
       "      <td>889.000000</td>\n",
       "      <td>889.000000</td>\n",
       "      <td>889.000000</td>\n",
       "    </tr>\n",
       "    <tr>\n",
       "      <th>mean</th>\n",
       "      <td>0.382452</td>\n",
       "      <td>2.311586</td>\n",
       "      <td>0.649044</td>\n",
       "      <td>32.699854</td>\n",
       "      <td>0.524184</td>\n",
       "      <td>0.382452</td>\n",
       "      <td>32.096681</td>\n",
       "      <td>1.535433</td>\n",
       "    </tr>\n",
       "    <tr>\n",
       "      <th>std</th>\n",
       "      <td>0.486260</td>\n",
       "      <td>0.834700</td>\n",
       "      <td>0.477538</td>\n",
       "      <td>14.346821</td>\n",
       "      <td>1.103705</td>\n",
       "      <td>0.806761</td>\n",
       "      <td>49.697504</td>\n",
       "      <td>0.792088</td>\n",
       "    </tr>\n",
       "    <tr>\n",
       "      <th>min</th>\n",
       "      <td>0.000000</td>\n",
       "      <td>1.000000</td>\n",
       "      <td>0.000000</td>\n",
       "      <td>0.420000</td>\n",
       "      <td>0.000000</td>\n",
       "      <td>0.000000</td>\n",
       "      <td>0.000000</td>\n",
       "      <td>0.000000</td>\n",
       "    </tr>\n",
       "    <tr>\n",
       "      <th>25%</th>\n",
       "      <td>0.000000</td>\n",
       "      <td>2.000000</td>\n",
       "      <td>0.000000</td>\n",
       "      <td>22.000000</td>\n",
       "      <td>0.000000</td>\n",
       "      <td>0.000000</td>\n",
       "      <td>7.895800</td>\n",
       "      <td>1.000000</td>\n",
       "    </tr>\n",
       "    <tr>\n",
       "      <th>50%</th>\n",
       "      <td>0.000000</td>\n",
       "      <td>3.000000</td>\n",
       "      <td>1.000000</td>\n",
       "      <td>32.000000</td>\n",
       "      <td>0.000000</td>\n",
       "      <td>0.000000</td>\n",
       "      <td>14.454200</td>\n",
       "      <td>2.000000</td>\n",
       "    </tr>\n",
       "    <tr>\n",
       "      <th>75%</th>\n",
       "      <td>1.000000</td>\n",
       "      <td>3.000000</td>\n",
       "      <td>1.000000</td>\n",
       "      <td>45.000000</td>\n",
       "      <td>1.000000</td>\n",
       "      <td>0.000000</td>\n",
       "      <td>31.000000</td>\n",
       "      <td>2.000000</td>\n",
       "    </tr>\n",
       "    <tr>\n",
       "      <th>max</th>\n",
       "      <td>1.000000</td>\n",
       "      <td>3.000000</td>\n",
       "      <td>1.000000</td>\n",
       "      <td>80.000000</td>\n",
       "      <td>8.000000</td>\n",
       "      <td>6.000000</td>\n",
       "      <td>512.329200</td>\n",
       "      <td>2.000000</td>\n",
       "    </tr>\n",
       "  </tbody>\n",
       "</table>\n",
       "</div>"
      ],
      "text/plain": [
       "         Survived      Pclass         Sex         Age       SibSp       Parch  \\\n",
       "count  889.000000  889.000000  889.000000  889.000000  889.000000  889.000000   \n",
       "mean     0.382452    2.311586    0.649044   32.699854    0.524184    0.382452   \n",
       "std      0.486260    0.834700    0.477538   14.346821    1.103705    0.806761   \n",
       "min      0.000000    1.000000    0.000000    0.420000    0.000000    0.000000   \n",
       "25%      0.000000    2.000000    0.000000   22.000000    0.000000    0.000000   \n",
       "50%      0.000000    3.000000    1.000000   32.000000    0.000000    0.000000   \n",
       "75%      1.000000    3.000000    1.000000   45.000000    1.000000    0.000000   \n",
       "max      1.000000    3.000000    1.000000   80.000000    8.000000    6.000000   \n",
       "\n",
       "             Fare    Embarked  \n",
       "count  889.000000  889.000000  \n",
       "mean    32.096681    1.535433  \n",
       "std     49.697504    0.792088  \n",
       "min      0.000000    0.000000  \n",
       "25%      7.895800    1.000000  \n",
       "50%     14.454200    2.000000  \n",
       "75%     31.000000    2.000000  \n",
       "max    512.329200    2.000000  "
      ]
     },
     "execution_count": 8,
     "metadata": {},
     "output_type": "execute_result"
    }
   ],
   "source": [
    "df.describe()"
   ]
  },
  {
   "cell_type": "markdown",
   "metadata": {},
   "source": [
    "# Checking for outliers"
   ]
  },
  {
   "cell_type": "code",
   "execution_count": 9,
   "metadata": {},
   "outputs": [
    {
     "data": {
      "image/png": "[encoded data removed]",
      "text/plain": [
       "<Figure size 432x288 with 1 Axes>"
      ]
     },
     "metadata": {
      "needs_background": "light"
     },
     "output_type": "display_data"
    },
    {
     "data": {
      "image/png": "[encoded data removed]",
      "text/plain": [
       "<Figure size 432x288 with 1 Axes>"
      ]
     },
     "metadata": {
      "needs_background": "light"
     },
     "output_type": "display_data"
    },
    {
     "data": {
      "image/png": "[encoded data removed]",
      "text/plain": [
       "<Figure size 432x288 with 1 Axes>"
      ]
     },
     "metadata": {
      "needs_background": "light"
     },
     "output_type": "display_data"
    },
    {
     "data": {
      "image/png": "[encoded data removed]",
      "text/plain": [
       "<Figure size 432x288 with 1 Axes>"
      ]
     },
     "metadata": {
      "needs_background": "light"
     },
     "output_type": "display_data"
    },
    {
     "data": {
      "image/png": "[encoded data removed]",
      "text/plain": [
       "<Figure size 432x288 with 1 Axes>"
      ]
     },
     "metadata": {
      "needs_background": "light"
     },
     "output_type": "display_data"
    },
    {
     "data": {
      "image/png": "[encoded data removed]",
      "text/plain": [
       "<Figure size 432x288 with 1 Axes>"
      ]
     },
     "metadata": {
      "needs_background": "light"
     },
     "output_type": "display_data"
    },
    {
     "data": {
      "image/png": "[encoded data removed]",
      "text/plain": [
       "<Figure size 432x288 with 1 Axes>"
      ]
     },
     "metadata": {
      "needs_background": "light"
     },
     "output_type": "display_data"
    },
    {
     "data": {
      "image/png": "[encoded data removed]",
      "text/plain": [
       "<Figure size 432x288 with 1 Axes>"
      ]
     },
     "metadata": {
      "needs_background": "light"
     },
     "output_type": "display_data"
    }
   ],
   "source": [
    "for column in df.columns:\n",
    "    plt.boxplot(df[column])\n",
    "    plt.xlabel(column)\n",
    "    plt.show()"
   ]
  },
  {
   "cell_type": "markdown",
   "metadata": {},
   "source": [
    "# Splitting target from dataset"
   ]
  },
  {
   "cell_type": "code",
   "execution_count": 11,
   "metadata": {},
   "outputs": [],
   "source": [
    "X = df[['Sex', \"SibSp\", \"Parch\", 'Fare', 'Age', 'Embarked', 'Survived']]\n",
    "y = df[\"Pclass\"]"
   ]
  },
  {
   "cell_type": "markdown",
   "metadata": {},
   "source": [
    "# Splitting the dataset into training and testing"
   ]
  },
  {
   "cell_type": "code",
   "execution_count": 12,
   "metadata": {},
   "outputs": [],
   "source": [
    "X_train, X_test, y_train, y_test = train_test_split(X, y, test_size = 0.3, random_state = 0)"
   ]
  },
  {
   "cell_type": "markdown",
   "metadata": {},
   "source": [
    "# KNN"
   ]
  },
  {
   "cell_type": "markdown",
   "metadata": {},
   "source": [
    "<h3>Making a function to find the score of model with respect to k value</h3>"
   ]
  },
  {
   "cell_type": "code",
   "execution_count": 13,
   "metadata": {},
   "outputs": [],
   "source": [
    "def knn_score(n):\n",
    "    model = KNeighborsClassifier(n_neighbors=n)\n",
    "    return model.fit(X_train, y_train).score(X_test, y_test)*100"
   ]
  },
  {
   "cell_type": "code",
   "execution_count": 14,
   "metadata": {
    "scrolled": true
   },
   "outputs": [
    {
     "name": "stdout",
     "output_type": "stream",
     "text": [
      "The k value that has the greatest score is: 1\n"
     ]
    },
    {
     "data": {
      "image/png": "[encoded data removed]",
      "text/plain": [
       "<Figure size 432x288 with 1 Axes>"
      ]
     },
     "metadata": {
      "needs_background": "light"
     },
     "output_type": "display_data"
    }
   ],
   "source": [
    "m = 1\n",
    "for k in range(1,len(X_test)+1):\n",
    "    plt.scatter(k, knn_score(k), color = \"blue\")\n",
    "    if knn_score(k) > knn_score(m):\n",
    "        m = k\n",
    "print(\"The k value that has the greatest score is:\", m)"
   ]
  },
  {
   "cell_type": "code",
   "execution_count": 15,
   "metadata": {},
   "outputs": [],
   "source": [
    "knn = KNeighborsClassifier(n_neighbors=m)"
   ]
  },
  {
   "cell_type": "code",
   "execution_count": 16,
   "metadata": {},
   "outputs": [
    {
     "name": "stdout",
     "output_type": "stream",
     "text": [
      "Accuracy of the most efficient knn model: 89.13857677902621 %\n"
     ]
    }
   ],
   "source": [
    "print(\"Accuracy of the most efficient knn model:\", knn.fit(X_train, y_train).score(X_test, y_test)*100,\"%\")"
   ]
  },
  {
   "cell_type": "code",
   "execution_count": 17,
   "metadata": {},
   "outputs": [
    {
     "name": "stdout",
     "output_type": "stream",
     "text": [
      "Confusion Matrix:\n",
      "[[ 62   6   2]\n",
      " [  3  37   9]\n",
      " [  1   8 139]]\n"
     ]
    }
   ],
   "source": [
    "y_pred = knn.predict(X_test)\n",
    "print(f\"Confusion Matrix:\\n{confusion_matrix(y_test, y_pred)}\")"
   ]
  },
  {
   "cell_type": "code",
   "execution_count": 18,
   "metadata": {},
   "outputs": [
    {
     "name": "stdout",
     "output_type": "stream",
     "text": [
      "Prediction: 3 , Actual: 3\n",
      "Prediction: 3 , Actual: 3\n",
      "Prediction: 1 , Actual: 1\n",
      "Prediction: 1 , Actual: 1\n",
      "Prediction: 2 , Actual: 3\n",
      "Prediction: 1 , Actual: 1\n",
      "Prediction: 2 , Actual: 2\n",
      "Prediction: 2 , Actual: 1\n",
      "Prediction: 3 , Actual: 3\n",
      "Prediction: 3 , Actual: 2\n",
      "Prediction: 3 , Actual: 3\n",
      "Prediction: 1 , Actual: 1\n",
      "Prediction: 3 , Actual: 3\n",
      "Prediction: 3 , Actual: 2\n",
      "Prediction: 3 , Actual: 3\n",
      "Prediction: 3 , Actual: 3\n",
      "Prediction: 2 , Actual: 2\n",
      "Prediction: 3 , Actual: 3\n",
      "Prediction: 3 , Actual: 3\n",
      "Prediction: 1 , Actual: 1\n",
      "Prediction: 1 , Actual: 1\n",
      "Prediction: 1 , Actual: 1\n",
      "Prediction: 1 , Actual: 1\n",
      "Prediction: 2 , Actual: 2\n",
      "Prediction: 3 , Actual: 3\n",
      "Prediction: 3 , Actual: 3\n",
      "Prediction: 1 , Actual: 1\n",
      "Prediction: 1 , Actual: 1\n",
      "Prediction: 1 , Actual: 1\n",
      "Prediction: 1 , Actual: 1\n",
      "Prediction: 2 , Actual: 2\n",
      "Prediction: 1 , Actual: 1\n",
      "Prediction: 1 , Actual: 2\n",
      "Prediction: 3 , Actual: 3\n",
      "Prediction: 3 , Actual: 3\n",
      "Prediction: 3 , Actual: 3\n",
      "Prediction: 3 , Actual: 3\n",
      "Prediction: 3 , Actual: 3\n",
      "Prediction: 2 , Actual: 2\n",
      "Prediction: 3 , Actual: 3\n",
      "Prediction: 1 , Actual: 1\n",
      "Prediction: 3 , Actual: 3\n",
      "Prediction: 2 , Actual: 2\n",
      "Prediction: 3 , Actual: 3\n",
      "Prediction: 1 , Actual: 1\n",
      "Prediction: 3 , Actual: 3\n",
      "Prediction: 3 , Actual: 3\n",
      "Prediction: 2 , Actual: 3\n",
      "Prediction: 3 , Actual: 3\n",
      "Prediction: 3 , Actual: 3\n",
      "Prediction: 3 , Actual: 3\n",
      "Prediction: 1 , Actual: 1\n",
      "Prediction: 3 , Actual: 3\n",
      "Prediction: 3 , Actual: 3\n",
      "Prediction: 1 , Actual: 2\n",
      "Prediction: 3 , Actual: 3\n",
      "Prediction: 2 , Actual: 2\n",
      "Prediction: 3 , Actual: 1\n",
      "Prediction: 2 , Actual: 2\n",
      "Prediction: 3 , Actual: 3\n",
      "Prediction: 3 , Actual: 3\n",
      "Prediction: 2 , Actual: 3\n",
      "Prediction: 2 , Actual: 3\n",
      "Prediction: 2 , Actual: 2\n",
      "Prediction: 3 , Actual: 3\n",
      "Prediction: 2 , Actual: 2\n",
      "Prediction: 3 , Actual: 3\n",
      "Prediction: 2 , Actual: 2\n",
      "Prediction: 3 , Actual: 2\n",
      "Prediction: 1 , Actual: 1\n",
      "Prediction: 1 , Actual: 1\n",
      "Prediction: 2 , Actual: 2\n",
      "Prediction: 3 , Actual: 3\n",
      "Prediction: 3 , Actual: 3\n",
      "Prediction: 1 , Actual: 1\n",
      "Prediction: 2 , Actual: 1\n",
      "Prediction: 3 , Actual: 3\n",
      "Prediction: 3 , Actual: 3\n",
      "Prediction: 3 , Actual: 3\n",
      "Prediction: 3 , Actual: 3\n",
      "Prediction: 1 , Actual: 1\n",
      "Prediction: 1 , Actual: 1\n",
      "Prediction: 3 , Actual: 3\n",
      "Prediction: 1 , Actual: 1\n",
      "Prediction: 3 , Actual: 3\n",
      "Prediction: 1 , Actual: 1\n",
      "Prediction: 3 , Actual: 3\n",
      "Prediction: 3 , Actual: 3\n",
      "Prediction: 3 , Actual: 3\n",
      "Prediction: 3 , Actual: 3\n",
      "Prediction: 3 , Actual: 3\n",
      "Prediction: 3 , Actual: 3\n",
      "Prediction: 2 , Actual: 2\n",
      "Prediction: 3 , Actual: 3\n",
      "Prediction: 3 , Actual: 3\n",
      "Prediction: 3 , Actual: 3\n",
      "Prediction: 1 , Actual: 1\n",
      "Prediction: 3 , Actual: 3\n",
      "Prediction: 1 , Actual: 1\n",
      "Prediction: 1 , Actual: 1\n",
      "Prediction: 2 , Actual: 2\n",
      "Prediction: 2 , Actual: 1\n",
      "Prediction: 2 , Actual: 2\n",
      "Prediction: 2 , Actual: 1\n",
      "Prediction: 3 , Actual: 3\n",
      "Prediction: 3 , Actual: 2\n",
      "Prediction: 3 , Actual: 3\n",
      "Prediction: 3 , Actual: 3\n",
      "Prediction: 1 , Actual: 1\n",
      "Prediction: 1 , Actual: 1\n",
      "Prediction: 1 , Actual: 1\n",
      "Prediction: 2 , Actual: 2\n",
      "Prediction: 2 , Actual: 2\n",
      "Prediction: 3 , Actual: 3\n",
      "Prediction: 3 , Actual: 3\n",
      "Prediction: 1 , Actual: 1\n",
      "Prediction: 2 , Actual: 3\n",
      "Prediction: 3 , Actual: 3\n",
      "Prediction: 3 , Actual: 3\n",
      "Prediction: 3 , Actual: 3\n",
      "Prediction: 2 , Actual: 2\n",
      "Prediction: 3 , Actual: 3\n",
      "Prediction: 3 , Actual: 3\n",
      "Prediction: 1 , Actual: 1\n",
      "Prediction: 2 , Actual: 2\n",
      "Prediction: 3 , Actual: 3\n",
      "Prediction: 1 , Actual: 1\n",
      "Prediction: 2 , Actual: 2\n",
      "Prediction: 3 , Actual: 3\n",
      "Prediction: 2 , Actual: 2\n",
      "Prediction: 3 , Actual: 3\n",
      "Prediction: 3 , Actual: 3\n",
      "Prediction: 3 , Actual: 3\n",
      "Prediction: 3 , Actual: 2\n",
      "Prediction: 3 , Actual: 3\n",
      "Prediction: 1 , Actual: 1\n",
      "Prediction: 3 , Actual: 3\n",
      "Prediction: 2 , Actual: 2\n",
      "Prediction: 1 , Actual: 1\n",
      "Prediction: 3 , Actual: 3\n",
      "Prediction: 3 , Actual: 3\n",
      "Prediction: 3 , Actual: 3\n",
      "Prediction: 1 , Actual: 1\n",
      "Prediction: 1 , Actual: 1\n",
      "Prediction: 3 , Actual: 3\n",
      "Prediction: 1 , Actual: 1\n",
      "Prediction: 3 , Actual: 3\n",
      "Prediction: 3 , Actual: 2\n",
      "Prediction: 3 , Actual: 3\n",
      "Prediction: 3 , Actual: 3\n",
      "Prediction: 3 , Actual: 3\n",
      "Prediction: 1 , Actual: 3\n",
      "Prediction: 3 , Actual: 3\n",
      "Prediction: 2 , Actual: 2\n",
      "Prediction: 3 , Actual: 3\n",
      "Prediction: 3 , Actual: 3\n",
      "Prediction: 1 , Actual: 2\n",
      "Prediction: 1 , Actual: 1\n",
      "Prediction: 2 , Actual: 3\n",
      "Prediction: 3 , Actual: 3\n",
      "Prediction: 3 , Actual: 3\n",
      "Prediction: 3 , Actual: 3\n",
      "Prediction: 3 , Actual: 3\n",
      "Prediction: 3 , Actual: 3\n",
      "Prediction: 3 , Actual: 3\n",
      "Prediction: 3 , Actual: 3\n",
      "Prediction: 3 , Actual: 3\n",
      "Prediction: 1 , Actual: 1\n",
      "Prediction: 1 , Actual: 1\n",
      "Prediction: 1 , Actual: 1\n",
      "Prediction: 3 , Actual: 3\n",
      "Prediction: 2 , Actual: 2\n",
      "Prediction: 3 , Actual: 3\n",
      "Prediction: 2 , Actual: 2\n",
      "Prediction: 2 , Actual: 2\n",
      "Prediction: 3 , Actual: 3\n",
      "Prediction: 2 , Actual: 1\n",
      "Prediction: 3 , Actual: 3\n",
      "Prediction: 3 , Actual: 3\n",
      "Prediction: 1 , Actual: 1\n",
      "Prediction: 3 , Actual: 3\n",
      "Prediction: 2 , Actual: 2\n",
      "Prediction: 3 , Actual: 3\n",
      "Prediction: 3 , Actual: 3\n",
      "Prediction: 2 , Actual: 2\n",
      "Prediction: 1 , Actual: 1\n",
      "Prediction: 3 , Actual: 3\n",
      "Prediction: 1 , Actual: 1\n",
      "Prediction: 3 , Actual: 3\n",
      "Prediction: 3 , Actual: 3\n",
      "Prediction: 3 , Actual: 3\n",
      "Prediction: 3 , Actual: 3\n",
      "Prediction: 3 , Actual: 3\n",
      "Prediction: 1 , Actual: 1\n",
      "Prediction: 3 , Actual: 3\n",
      "Prediction: 3 , Actual: 3\n",
      "Prediction: 3 , Actual: 3\n",
      "Prediction: 1 , Actual: 1\n",
      "Prediction: 3 , Actual: 3\n",
      "Prediction: 3 , Actual: 3\n",
      "Prediction: 2 , Actual: 2\n",
      "Prediction: 3 , Actual: 3\n",
      "Prediction: 2 , Actual: 2\n",
      "Prediction: 3 , Actual: 3\n",
      "Prediction: 3 , Actual: 3\n",
      "Prediction: 3 , Actual: 3\n",
      "Prediction: 3 , Actual: 3\n",
      "Prediction: 3 , Actual: 3\n",
      "Prediction: 3 , Actual: 3\n",
      "Prediction: 2 , Actual: 3\n",
      "Prediction: 3 , Actual: 1\n",
      "Prediction: 2 , Actual: 2\n",
      "Prediction: 1 , Actual: 1\n",
      "Prediction: 2 , Actual: 2\n",
      "Prediction: 1 , Actual: 1\n",
      "Prediction: 1 , Actual: 1\n",
      "Prediction: 1 , Actual: 1\n",
      "Prediction: 2 , Actual: 2\n",
      "Prediction: 2 , Actual: 1\n",
      "Prediction: 3 , Actual: 3\n",
      "Prediction: 3 , Actual: 3\n",
      "Prediction: 3 , Actual: 3\n",
      "Prediction: 1 , Actual: 1\n",
      "Prediction: 1 , Actual: 1\n",
      "Prediction: 3 , Actual: 2\n",
      "Prediction: 3 , Actual: 3\n",
      "Prediction: 3 , Actual: 3\n",
      "Prediction: 3 , Actual: 3\n",
      "Prediction: 3 , Actual: 3\n",
      "Prediction: 3 , Actual: 3\n",
      "Prediction: 3 , Actual: 3\n",
      "Prediction: 3 , Actual: 3\n",
      "Prediction: 3 , Actual: 3\n",
      "Prediction: 3 , Actual: 3\n",
      "Prediction: 3 , Actual: 3\n",
      "Prediction: 3 , Actual: 3\n",
      "Prediction: 1 , Actual: 1\n",
      "Prediction: 3 , Actual: 3\n",
      "Prediction: 3 , Actual: 3\n",
      "Prediction: 3 , Actual: 3\n",
      "Prediction: 2 , Actual: 3\n",
      "Prediction: 1 , Actual: 1\n",
      "Prediction: 1 , Actual: 1\n",
      "Prediction: 1 , Actual: 1\n",
      "Prediction: 3 , Actual: 2\n",
      "Prediction: 3 , Actual: 3\n",
      "Prediction: 1 , Actual: 1\n",
      "Prediction: 3 , Actual: 3\n",
      "Prediction: 1 , Actual: 1\n",
      "Prediction: 1 , Actual: 1\n",
      "Prediction: 3 , Actual: 3\n",
      "Prediction: 2 , Actual: 2\n",
      "Prediction: 3 , Actual: 3\n",
      "Prediction: 1 , Actual: 1\n",
      "Prediction: 2 , Actual: 2\n",
      "Prediction: 1 , Actual: 1\n",
      "Prediction: 3 , Actual: 3\n",
      "Prediction: 3 , Actual: 2\n",
      "Prediction: 3 , Actual: 3\n",
      "Prediction: 3 , Actual: 3\n",
      "Prediction: 2 , Actual: 2\n",
      "Prediction: 2 , Actual: 2\n",
      "Prediction: 3 , Actual: 3\n",
      "Prediction: 3 , Actual: 3\n",
      "Prediction: 3 , Actual: 3\n",
      "Prediction: 3 , Actual: 3\n",
      "Prediction: 1 , Actual: 1\n"
     ]
    }
   ],
   "source": [
    "for prediction, actual in zip(y_pred, y_test):\n",
    "    print(\"Prediction:\", prediction, \", Actual:\", actual)"
   ]
  },
  {
   "cell_type": "markdown",
   "metadata": {},
   "source": [
    "# SVM"
   ]
  },
  {
   "cell_type": "code",
   "execution_count": 44,
   "metadata": {},
   "outputs": [],
   "source": [
    "svm = SVC(gamma=0.01, C=100)"
   ]
  },
  {
   "cell_type": "code",
   "execution_count": 50,
   "metadata": {},
   "outputs": [
    {
     "name": "stdout",
     "output_type": "stream",
     "text": [
      "Survived\n",
      "Target: Survived,  Accuracy: 74.719\n",
      "Confusion Matrix:\n",
      "[[89 25]\n",
      " [20 44]]\n",
      "\n",
      "\n",
      "Pclass\n",
      "Target: Pclass,  Accuracy: 92.697\n",
      "Confusion Matrix:\n",
      "[[38  2  2]\n",
      " [ 0 30  0]\n",
      " [ 2  7 97]]\n",
      "\n",
      "\n",
      "Sex\n",
      "Target: Sex,  Accuracy: 72.472\n",
      "Confusion Matrix:\n",
      "[[30 27]\n",
      " [22 99]]\n",
      "\n",
      "\n",
      "SibSp\n",
      "Target: SibSp,  Accuracy: 77.528\n",
      "Confusion Matrix:\n",
      "[[107  11   1   0   0   0]\n",
      " [ 20  21   4   0   0   0]\n",
      " [  1   2   1   0   0   0]\n",
      " [  1   0   0   1   0   0]\n",
      " [  0   0   0   0   6   0]\n",
      " [  0   0   0   0   0   2]]\n",
      "\n",
      "\n",
      "Parch\n",
      "Target: Parch,  Accuracy: 78.652\n",
      "Confusion Matrix:\n",
      "[[121  10   4   0   0   0]\n",
      " [ 11  11   2   1   0   1]\n",
      " [  4   4   8   0   0   0]\n",
      " [  0   0   0   0   0   0]\n",
      " [  1   0   0   0   0   0]\n",
      " [  0   0   0   0   0   0]]\n",
      "\n",
      "\n",
      "Embarked\n",
      "Target: Embarked,  Accuracy: 78.652\n",
      "Confusion Matrix:\n",
      "[[ 10   0  21]\n",
      " [  0   9   7]\n",
      " [  6   4 121]]\n",
      "\n",
      "\n"
     ]
    }
   ],
   "source": [
    "for target in df.columns[:]:\n",
    "    if target != \"Fare\" and target != \"Age\":\n",
    "        print(target)\n",
    "        y = df[[target]]\n",
    "        X = df[list(set(df.columns) - set(y.columns))]\n",
    "        y = df[target]\n",
    "        X_train, X_test, y_train, y_test = train_test_split(X, y, test_size = 0.2)\n",
    "        svm.fit(X_train, y_train)\n",
    "\n",
    "        print(\"Target: \"+target+\",  Accuracy:\", round(svm.score(X_test, y_test)*100, 3))\n",
    "        print(f\"Confusion Matrix:\\n{confusion_matrix(y_test, svm.predict(X_test))}\\n\\n\")"
   ]
  }
 ],
 "metadata": {
  "kernelspec": {
   "display_name": "Python 3",
   "language": "python",
   "name": "python3"
  },
  "language_info": {
   "codemirror_mode": {
    "name": "ipython",
    "version": 3
   },
   "file_extension": ".py",
   "mimetype": "text/x-python",
   "name": "python",
   "nbconvert_exporter": "python",
   "pygments_lexer": "ipython3",
   "version": "3.7.6"
  }
 },
 "nbformat": 4,
 "nbformat_minor": 4
}
